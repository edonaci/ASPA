{
 "cells": [
  {
   "cell_type": "markdown",
   "id": "brave-marine",
   "metadata": {},
   "source": [
    "#                                       Edoardo Antonaci 1234431"
   ]
  },
  {
   "cell_type": "markdown",
   "id": "strong-controversy",
   "metadata": {},
   "source": [
    "## Exercise 1"
   ]
  },
  {
   "cell_type": "markdown",
   "id": "revised-specific",
   "metadata": {},
   "source": [
    "### A publishing company has recently launched a new journal. In order to determine how effective it is in reaching its possible audience, a market survey company selects a random sample of people from a possible target audience and interviews them. Out of 150 interviewed people, 29 have read the last issue of the journal."
   ]
  },
  {
   "cell_type": "markdown",
   "id": "green-provincial",
   "metadata": {},
   "source": [
    "### a) What kind of distribution would you assume for y, the number of people that have seen the last issue of the yournal ?"
   ]
  },
  {
   "cell_type": "markdown",
   "id": "accomplished-patrick",
   "metadata": {},
   "source": [
    "### - Also without data ,we can suppose a binomial distribution as $prior$ $ distribution$ because a person,indipendently for the other ones,can read or not the last issue of the journal"
   ]
  },
  {
   "cell_type": "markdown",
   "id": "trained-gross",
   "metadata": {},
   "source": [
    "### b) Assuming a uniform prior, what is the posterior distribution for y ?"
   ]
  },
  {
   "cell_type": "markdown",
   "id": "quiet-jonathan",
   "metadata": {},
   "source": [
    "### - For bayes : posterior $ \\propto$ likelihood*prior . So given uniform distribution as prior distribution, we simplified previous relation in posterior $ \\propto$ likelihood"
   ]
  },
  {
   "cell_type": "markdown",
   "id": "eligible-nightlife",
   "metadata": {},
   "source": [
    "### c) Plot both posterior and likelihood ditributions functions\n"
   ]
  },
  {
   "cell_type": "code",
   "execution_count": 1,
   "id": "earned-contents",
   "metadata": {},
   "outputs": [
    {
     "data": {
      "image/png": "[encoded data removed]",
      "text/plain": [
       "plot without title"
      ]
     },
     "metadata": {},
     "output_type": "display_data"
    }
   ],
   "source": [
    "n <- 150\n",
    "r <- 29\n",
    "\n",
    "b<-1;a<-0                                               #extreams of prob\n",
    "\n",
    "p <- seq(a,b, length = 1e3)                              #probability sequences\n",
    "\n",
    "interval_width<-(b-a)/(length(p)-1)                        #/\\p\n",
    "\n",
    "\n",
    "prior<-1                                             #uniform probability,we have no indications about if events are more\n",
    "                                                        # possible the others\n",
    "\n",
    "likelihood <- dbinom(x=r, size=n, prob=p)       \n",
    "\n",
    "Z <- sum(likelihood*prior)*interval_width           \n",
    "\n",
    "\n",
    "posterior <-likelihood*prior/(Z)\n",
    "\n",
    "plot(p, posterior ,xaxs='i', yaxs='i', col='navy',\n",
    "    type='l', lty=1, lwd = 3, xlab=\"p\",\n",
    "     ylab=(\"Distribution functions\"))\n",
    "\n",
    "lines(p, likelihood/sum(likelihood*interval_width),xaxs='i', yaxs='i', #plot normalized likelihood\n",
    "    type='p', lty=1, lwd = 1, xlab=\"p\", col='red')\n",
    "\n",
    "post_mean <- sum(posterior*p)*interval_width\n",
    "\n",
    "abline(v=post_mean , lty=2)\n",
    "legend(0.7, 11, c(\"Likelihood\",\"Posterior\", \"Mean\"), col=c(\"red\",\"navy\",\"black\"), lty= c('solid','solid','dashed'))\n"
   ]
  },
  {
   "cell_type": "markdown",
   "id": "clear-bandwidth",
   "metadata": {},
   "source": [
    "## Exercise 2"
   ]
  },
  {
   "cell_type": "markdown",
   "id": "legitimate-bloom",
   "metadata": {},
   "source": [
    "### • Three students want to construct their prior probability about the proportion of residents that support the building of a new concert hall in their small town.\n",
    "### • Anna thinks that her prior is a beta distribution with mean 0.2 and a standard deviation of 0.08.\n",
    "### • Benny moved only recently to this new town and therefore he does non have the slightest idea about it. Therefore he decides to use a uniform prior.\n",
    "### • Chris believes that his prior should have a trapezoidal shape\n",
    "\n"
   ]
  },
  {
   "cell_type": "markdown",
   "id": "romance-tenant",
   "metadata": {},
   "source": [
    "$$ f(X) =  \\begin{cases}  20x & \\mbox{if }\\mbox{ 0 ≤ x < 0.1} \\\\ 2 & \\mbox{if}\\mbox{ 0.1 ≤ x <0.3}\\\\ 5 − 10x &\\mbox{if }\\mbox{0.3 ≤ x < 0.5}\\\\ 0 & \\mbox{if }\\mbox {x ≥ 0.5 }\\end{cases} $$"
   ]
  },
  {
   "cell_type": "markdown",
   "id": "latter-thong",
   "metadata": {},
   "source": [
    "### a) Draw and compare the three prior distributions"
   ]
  },
  {
   "cell_type": "code",
   "execution_count": 18,
   "id": "daily-watts",
   "metadata": {},
   "outputs": [
    {
     "name": "stdout",
     "output_type": "stream",
     "text": [
      "7.3 29.2"
     ]
    }
   ],
   "source": [
    "##mean= alpha/(alpha+beta)\n",
    "##var = alpha*beta/[( (alpha+beta)**2)*(a+b+1) ]    https://local.disia.unifi.it/VL/VL_IT/special/special9.html\n",
    "\n",
    "anna<-function(x,mean,std,par){\n",
    "    var<-std**2\n",
    "    \n",
    "    \n",
    "    alpha<-mean*(-mean**2+mean-var)/var\n",
    "    \n",
    "    beta<-alpha*(1/mean-1)\n",
    "    \n",
    "    \n",
    "    if(par==0){return(dbeta(x, alpha , beta) )}else{return(c(alpha,beta) )}\n",
    "    \n",
    "    }\n",
    "\n",
    "benny<-function(x){return(dunif(x) ) }\n",
    "\n",
    "chris<-function(x){\n",
    "    ff<-c()\n",
    "    for (i in 1:length(x)){\n",
    "        if(x[i]<0.1 & x[i]>=0){ff<-c(ff,20*x[i])}\n",
    "        else if(x[i]>=0.1 & x[i]<0.3){ff<-c(ff,2)}\n",
    "        else if(x[i]<0.5 & x[i]>=0.3){ff<-c(ff,5-10*x[i])}\n",
    "        else{ff<-c(ff,0)}}\n",
    "    return(ff)\n",
    "}\n",
    "\n",
    "p.anna<-anna(p,mean=0.2,std=0.08,par=0)\n",
    "\n",
    "p.benny<-benny(p)\n",
    "    \n",
    "p.chris<-chris(p)\n"
   ]
  },
  {
   "cell_type": "code",
   "execution_count": 19,
   "id": "molecular-patient",
   "metadata": {},
   "outputs": [
    {
     "data": {
      "image/png": "[encoded data removed]",
      "text/plain": [
       "Plot with title \"Normalized Priors\""
      ]
     },
     "metadata": {},
     "output_type": "display_data"
    }
   ],
   "source": [
    "\n",
    "plot(p, p.anna/(sum(p.anna)*interval_width) , type='l', lwd = 2, col='chocolate', ylab=' prior distributions')\n",
    "lines(p, p.benny/(sum(p.benny)*interval_width), type='l', lwd = 2, col='coral3')\n",
    "lines(p, p.chris/(sum(p.chris)*interval_width), type='l', lwd = 2, col='cyan3')\n",
    "\n",
    "mean.anna <- sum(p*p.anna )*interval_width\n",
    "mean.benny <- sum(p*p.benny)*interval_width\n",
    "mean.chris <- sum(p*p.chris)*interval_width\n",
    "\n",
    "abline(v=mean.anna , lty=2, col='chocolate')\n",
    "abline(v=mean.benny , lty=2, col='coral3')\n",
    "abline(v=mean.chris , lty=2, col='cyan3')\n",
    "\n",
    "legend(0.67,4, c(\"Anna's prior\", \"Benny's prior\",  \"Chris' prior\",\"means\"), \n",
    "       col=c(\"chocolate\",\"coral3\",\"cyan3\",\"black\"), \n",
    "       lty= c('solid','solid','solid',\"dashed\"),\n",
    "       lwd = c(2,2,2,1))\n",
    "\n",
    "title(main=\"Normalized Priors\")\n",
    "\n"
   ]
  },
  {
   "cell_type": "markdown",
   "id": "private-conjunction",
   "metadata": {},
   "source": [
    "### • The next day the three students decide to interview a sample of 100 citizens of the small town,asking for their opinion. Out of the interviewed sample, 26 support the building of the new concert hall.\n"
   ]
  },
  {
   "cell_type": "markdown",
   "id": "warming-signature",
   "metadata": {},
   "source": [
    "### b) Evaluate and draw the three posterior distributions."
   ]
  },
  {
   "cell_type": "code",
   "execution_count": 4,
   "id": "russian-conflict",
   "metadata": {},
   "outputs": [],
   "source": [
    "posterior<-function(likelihood,prior,interval_width){\n",
    "    \n",
    "    Z<-sum(likelihood*prior)*interval_width \n",
    "    post<-likelihood*prior/(Z)\n",
    "    \n",
    "    return(post)\n",
    "}"
   ]
  },
  {
   "cell_type": "code",
   "execution_count": 5,
   "id": "textile-saying",
   "metadata": {},
   "outputs": [
    {
     "data": {
      "image/png": "[encoded data removed]",
      "text/plain": [
       "Plot with title \"Normalized Posteriors\""
      ]
     },
     "metadata": {},
     "output_type": "display_data"
    }
   ],
   "source": [
    "likelihood <- dbinom(x=26, size=100, prob=p)        \n",
    "\n",
    "\n",
    "posterior.anna <-posterior(likelihood = likelihood,prior = p.anna,interval_width = interval_width)\n",
    "posterior.benny <-posterior(likelihood = likelihood,prior = p.benny,interval_width = interval_width)\n",
    "posterior.chris<-posterior(likelihood = likelihood,prior = p.chris,interval_width = interval_width)\n",
    "\n",
    "posteriors<-data.frame(\"post anna\"=posterior.anna,\n",
    "                       \"post benny\"=posterior.benny,\n",
    "                       \"post chris\"=posterior.chris)\n",
    "\n",
    "plot(p, posteriors[,1] ,xaxs='i', yaxs='i', col='chocolate',\n",
    "    type='l', lty=1, lwd = 3, xlab=\"p\",\n",
    "     ylab=(\"P(p|r,n,M)\"),xlim=c(0,0.6))\n",
    "lines(p, posteriors[,2] ,xaxs='i', yaxs='i', col='coral3',\n",
    "    type='l', lty=1, lwd = 3, xlab=\"p\")\n",
    "lines(p, posteriors[,3] ,xaxs='i', yaxs='i', col='cyan3',\n",
    "    type='l', lty=1, lwd = 3, xlab=\"p\")\n",
    "\n",
    "    \n",
    "legend(0.35, 10, c(\"Anna's posterior\", \"Benny's posterior\",  \"Chris' posterior\",\"max p value\"), \n",
    "       col=c(\"chocolate\",\"coral3\",\"cyan3\",\"black\"), \n",
    "       lty= c('solid','solid','solid',\"dashed\"),\n",
    "       lwd = c(2,2,2,1) )\n",
    "grid(nx = NULL, ny = NULL, col = \"darkgray\", lty = \"dotted\")\n",
    "\n",
    "e.anna <- which.max(posterior.anna)\n",
    "e.benny <- which.max(posterior.benny)\n",
    "e.chris <- which.max(posterior.chris)\n",
    "\n",
    "\n",
    "abline(v=p[e.anna] , lty=2, col='chocolate')\n",
    "abline(v=p[e.benny] ,lwd=2, lty=5, col='coral')\n",
    "abline(v=p[e.chris] , lty=4, col='cyan3')\n",
    "\n",
    "title(main=\"Normalized Posteriors\")\n"
   ]
  },
  {
   "cell_type": "markdown",
   "id": "sixth-illinois",
   "metadata": {},
   "source": [
    "### c) Give an estimate of the most probable value and the 95% credibility interval."
   ]
  },
  {
   "cell_type": "code",
   "execution_count": 6,
   "id": "considerable-indicator",
   "metadata": {},
   "outputs": [],
   "source": [
    "CI<-function(p,post,perc,interval_width){\n",
    "    \n",
    "    if(length(p)!=length(post)){return(-1 > 0)}\n",
    "    \n",
    "    M<-which.max(post)\n",
    "    most_prob_value<-p[M]\n",
    "    \n",
    "    cl<-0.0\n",
    "    i<-0\n",
    "    \n",
    "    while(cl<perc){\n",
    "        \n",
    "        i<-i+1\n",
    "        \n",
    "        if( (M+i)<=length(post) & (M-i)>= 1 ){\n",
    "            \n",
    "         cl<-sum(post[(M-i):(M+i)]*interval_width) \n",
    "        \n",
    "                                            }\n",
    "        else if( (M+i)> length(post) & (M-i) >= 1 ){\n",
    "            \n",
    "        \n",
    "            cl<-sum(post[(M-i):length(post)]*interval_width)\n",
    "            \n",
    "            \n",
    "                                                    }\n",
    "            \n",
    "        else if( (M+i)<=length(post) & (M-i)< 1 ){\n",
    "            \n",
    "\n",
    "            cl<-sum(post[1:(M+i)]*interval_width)\n",
    "            \n",
    "                                                    }\n",
    "                  }#while cycle ends\n",
    "    \n",
    "        if((M+i)<=length(post) & (M-i)>= 1){ lower_bound<-p[M-i];upper_bound<-p[M+i]  }\n",
    "        else if((M+i) >length(post) & (M-i)>= 1){ lower_bound<-p[M-i];upper_bound<-p[length(post)]  }\n",
    "        else if((M+i) <=length(post) & (M-i) < 1){ lower_bound<-p[1];upper_bound<-p[M+i]  }\n",
    "        \n",
    "\n",
    "    \n",
    "    return( c(lower_bound,upper_bound) )\n",
    "    \n",
    "}"
   ]
  },
  {
   "cell_type": "code",
   "execution_count": 7,
   "id": "liable-bloom",
   "metadata": {},
   "outputs": [
    {
     "data": {
      "text/html": [
       "<table>\n",
       "<thead><tr><th></th><th scope=col>most.probable.value</th><th scope=col>lower.bound</th><th scope=col>upper.bound</th><th scope=col>Integral</th></tr></thead>\n",
       "<tbody>\n",
       "\t<tr><th scope=row>Anna</th><td>0.2402402</td><td>0.1681682</td><td>0.3123123</td><td>0.9515428</td></tr>\n",
       "\t<tr><th scope=row>Benny</th><td>0.2602603</td><td>0.1751752</td><td>0.3453453</td><td>0.9502321</td></tr>\n",
       "\t<tr><th scope=row>Chris</th><td>0.2602603</td><td>0.1791792</td><td>0.3413413</td><td>0.9509705</td></tr>\n",
       "</tbody>\n",
       "</table>\n"
      ],
      "text/latex": [
       "\\begin{tabular}{r|llll}\n",
       "  & most.probable.value & lower.bound & upper.bound & Integral\\\\\n",
       "\\hline\n",
       "\tAnna & 0.2402402 & 0.1681682 & 0.3123123 & 0.9515428\\\\\n",
       "\tBenny & 0.2602603 & 0.1751752 & 0.3453453 & 0.9502321\\\\\n",
       "\tChris & 0.2602603 & 0.1791792 & 0.3413413 & 0.9509705\\\\\n",
       "\\end{tabular}\n"
      ],
      "text/markdown": [
       "\n",
       "| <!--/--> | most.probable.value | lower.bound | upper.bound | Integral |\n",
       "|---|---|---|---|---|\n",
       "| Anna | 0.2402402 | 0.1681682 | 0.3123123 | 0.9515428 |\n",
       "| Benny | 0.2602603 | 0.1751752 | 0.3453453 | 0.9502321 |\n",
       "| Chris | 0.2602603 | 0.1791792 | 0.3413413 | 0.9509705 |\n",
       "\n"
      ],
      "text/plain": [
       "      most.probable.value lower.bound upper.bound Integral \n",
       "Anna  0.2402402           0.1681682   0.3123123   0.9515428\n",
       "Benny 0.2602603           0.1751752   0.3453453   0.9502321\n",
       "Chris 0.2602603           0.1791792   0.3413413   0.9509705"
      ]
     },
     "metadata": {},
     "output_type": "display_data"
    }
   ],
   "source": [
    "c.anna <- CI(p=p,post=posterior.anna,perc=0.95,interval_width=interval_width)\n",
    "c.benny <- CI(p=p,post=posterior.benny,perc=0.95,interval_width=interval_width)\n",
    "c.chris <- CI(p=p,post=posterior.chris,perc=0.95,interval_width=interval_width)\n",
    "\n",
    "\n",
    "\n",
    "I.anna<-sum(posterior.anna[which(p==c.anna[1]):which(p==c.anna[2]) ] ) *interval_width\n",
    "I.benny<-sum(posterior.benny[which(p==c.benny[1]):which(p==c.benny[2]) ] ) *interval_width\n",
    "I.chris<-sum(posterior.chris[which(p==c.chris[1]):which(p==c.chris[2]) ] ) *interval_width\n",
    "\n",
    "CL<-data.frame(\"most probable value\"=c(p[e.anna],p[e.benny],p[e.chris]),\n",
    "               \"lower bound\"=c(c.anna[1],c.benny[1],c.chris[1]),\n",
    "               \"upper bound\"=c(c.anna[2],c.benny[2],c.chris[2]),\n",
    "               \"Integral\"=c(I.anna,I.benny,I.chris),\n",
    "               row.names=c(\"Anna\",\"Benny\",\"Chris\")\n",
    "                )\n",
    "CL"
   ]
  },
  {
   "cell_type": "markdown",
   "id": "stuffed-envelope",
   "metadata": {},
   "source": [
    "## Exercise 3 "
   ]
  },
  {
   "cell_type": "markdown",
   "id": "artistic-casino",
   "metadata": {},
   "source": [
    "### A coin is flipped n = 30 times with the following outcomes:\n",
    "### T, T, T, T, T, H, T, T, H, H, T, T, H, H, H, T, H, T, H, T, H, H, T, H, T, H, T, H,H, H\n"
   ]
  },
  {
   "cell_type": "markdown",
   "id": "parental-canal",
   "metadata": {},
   "source": [
    "### a) Assuming a flat prior, and a beta prior, plot the likelihood, prior and posterior distributions for the data set."
   ]
  },
  {
   "cell_type": "code",
   "execution_count": 8,
   "id": "cloudy-dylan",
   "metadata": {},
   "outputs": [
    {
     "data": {
      "text/plain": [
       "coin\n",
       " 0  1 \n",
       "15 15 "
      ]
     },
     "metadata": {},
     "output_type": "display_data"
    }
   ],
   "source": [
    "coin<-c(1,1,1,1,1,0,1,1,0,0,1,1,0,0,0,1,0,1,0,1,0,0,1,0,1,0,1,0,0,0)\n",
    "table(coin)"
   ]
  },
  {
   "cell_type": "code",
   "execution_count": 9,
   "id": "incorrect-recipient",
   "metadata": {},
   "outputs": [
    {
     "data": {
      "image/png": "[encoded data removed]",
      "text/plain": [
       "plot without title"
      ]
     },
     "metadata": {},
     "output_type": "display_data"
    }
   ],
   "source": [
    "prior_unif<-rep(1,length(p) )\n",
    "\n",
    "prior_beta<-dbeta(x=p,shape1=5, shape2=5)             \n",
    "\n",
    "likelihood <- dbinom(x=15, size=30, prob=p)            #likelihood\n",
    "\n",
    "post_unif<-posterior(likelihood=likelihood,prior=prior_unif,interval_width=interval_width) #normalized\n",
    "\n",
    "post_beta<-posterior(likelihood=likelihood,prior=prior_beta,interval_width=interval_width) #normalized\n",
    "\n",
    "plot(p,prior_unif ,xaxs='i', yaxs='i', col='coral3',type='l', lty=1, lwd = 3,   # no normalized\n",
    "     xlab=\"p\",ylab=(\"probability distribution\"),xlim=c(0,1),ylim=c(0,5.1) )\n",
    "\n",
    "lines(p,prior_beta ,col=\"black\",type=\"l\", lty=1, lwd =1)                      # no normalized\n",
    "\n",
    "lines(p,likelihood ,xaxs='i', yaxs='i', col='lightblue',                      # no normalized\n",
    "    type='l', lty=1, lwd = 3, xlab=\"p\")\n",
    "\n",
    "lines(p, post_unif,xaxs='i', yaxs='i', col='yellow',                         \n",
    "    type='l', lty=1, lwd = 3, xlab=\"p\")\n",
    "\n",
    "lines(p,post_beta,col=\"green\")        \n",
    "\n",
    "legend(0.6, 4, c(\"uniform\",\"beta(α=5,β=5)\",\"likelihood\",\"post_unif\",\"post_beta\"), \n",
    "       col=c(\"coral3\",\"black\",\"lightblue\",\"yellow\",\"green\"), \n",
    "       lty= c('solid','solid','solid',\"solid\",\"solid\" ),\n",
    "       lwd = c(2,2,2,1) )\n",
    "grid(nx = NULL, ny = NULL, col = \"darkgray\", lty = \"dotted\")\n",
    "\n"
   ]
  },
  {
   "cell_type": "markdown",
   "id": "defensive-cowboy",
   "metadata": {},
   "source": [
    "### b) Evaluate the most probable value for the coin probability p and, integrating the posterior probability distribution, give an estimate for a 95% credibility interval"
   ]
  },
  {
   "cell_type": "code",
   "execution_count": 10,
   "id": "innocent-stress",
   "metadata": {},
   "outputs": [
    {
     "name": "stdout",
     "output_type": "stream",
     "text": [
      "The most probable value for coin probability using post_unif : 0.4994995 \n",
      "The credibility interval is 0.3303303   0.6686687 \n",
      "The most probable value for coin probability using post_beta : 0.4994995 \n",
      "The credibility interval is 0.3473473   0.6516517 \n"
     ]
    }
   ],
   "source": [
    "max_post_unif<-p[which.max(post_unif)]\n",
    "ci_max_post_unif<-CI(p,post=post_unif,perc=0.95,interval_width=interval_width)\n",
    "\n",
    "max_post_beta<-p[which.max(post_beta)]\n",
    "ci_max_post_beta<-CI(p,post=post_beta,perc=0.95,interval_width=interval_width)\n",
    "\n",
    "cat(\"The most probable value for coin probability using post_unif :\",max_post_unif,\"\\n\")\n",
    "cat(\"The credibility interval is\",ci_max_post_unif[1],\" \",ci_max_post_unif[2],\"\\n\")\n",
    "\n",
    "cat(\"The most probable value for coin probability using post_beta :\",max_post_beta,\"\\n\")\n",
    "cat(\"The credibility interval is\",ci_max_post_beta[1],\" \",ci_max_post_beta[2],\"\\n\")"
   ]
  },
  {
   "cell_type": "markdown",
   "id": "asian-silver",
   "metadata": {},
   "source": [
    "### c) Repeat the same analysis assuming a sequential analysis of the data. Show how the most probable value and the credibility interval change as a function of the number of coin tosses (i.e. from 1 to 30)."
   ]
  },
  {
   "cell_type": "code",
   "execution_count": 11,
   "id": "considered-designation",
   "metadata": {},
   "outputs": [],
   "source": [
    "seq_analysis<-function(data,p,prior,interval_width){\n",
    "    \n",
    "     T<-0\n",
    "     max_values<-c()\n",
    "     lower_bound<-c()\n",
    "     upper_bound<-c()\n",
    "    \n",
    "    for (i in 1:length(data) ){\n",
    "        \n",
    "\n",
    "        if (data[i]==1){T<-T+1}\n",
    "        \n",
    "        likelihood <- dbinom(x=T, size=i, prob=p) \n",
    "        post<-posterior(likelihood=likelihood,prior=prior,interval_width=interval_width)\n",
    "        \n",
    "        \n",
    "        max<-p[which.max(post)]\n",
    "\n",
    "        max_values <-c(max_values,max)\n",
    "\n",
    "        ci<-CI(p=p,post=post,perc=0.95,interval_width=interval_width)\n",
    "\n",
    "        lower_bound<-c(lower_bound,ci[1])\n",
    "        upper_bound<-c(upper_bound,ci[2])\n",
    "          \n",
    "                                }\n",
    "    \n",
    "\n",
    "    \n",
    "    data.frame(\"max value\"= max_values,\n",
    "               \"lower bound\"= lower_bound,\n",
    "               \"upper bound \"= upper_bound\n",
    "              )\n",
    " \n",
    "    \n",
    "                                                    }"
   ]
  },
  {
   "cell_type": "code",
   "execution_count": 12,
   "id": "outdoor-progress",
   "metadata": {},
   "outputs": [
    {
     "data": {
      "text/html": [
       "<table>\n",
       "<thead><tr><th scope=col>max.value</th><th scope=col>lower.bound</th><th scope=col>upper.bound.</th></tr></thead>\n",
       "<tbody>\n",
       "\t<tr><td>1.0000000</td><td>0.2232232</td><td>1.0000000</td></tr>\n",
       "\t<tr><td>1.0000000</td><td>0.3683684</td><td>1.0000000</td></tr>\n",
       "\t<tr><td>1.0000000</td><td>0.4734735</td><td>1.0000000</td></tr>\n",
       "\t<tr><td>1.0000000</td><td>0.5495495</td><td>1.0000000</td></tr>\n",
       "\t<tr><td>1.0000000</td><td>0.6076076</td><td>1.0000000</td></tr>\n",
       "\t<tr><td>0.8328328</td><td>0.4794795</td><td>1.0000000</td></tr>\n",
       "\t<tr><td>0.8568569</td><td>0.5295295</td><td>1.0000000</td></tr>\n",
       "\t<tr><td>0.8748749</td><td>0.5705706</td><td>1.0000000</td></tr>\n",
       "\t<tr><td>0.7777778</td><td>0.4934935</td><td>1.0000000</td></tr>\n",
       "\t<tr><td>0.6996997</td><td>0.4354354</td><td>0.9639640</td></tr>\n",
       "\t<tr><td>0.7277277</td><td>0.4724725</td><td>0.9829830</td></tr>\n",
       "\t<tr><td>0.7497497</td><td>0.5055055</td><td>0.9939940</td></tr>\n",
       "\t<tr><td>0.6926927</td><td>0.4574575</td><td>0.9279279</td></tr>\n",
       "\t<tr><td>0.6426426</td><td>0.4124124</td><td>0.8728729</td></tr>\n",
       "\t<tr><td>0.5995996</td><td>0.3743744</td><td>0.8248248</td></tr>\n",
       "\t<tr><td>0.6246246</td><td>0.4064064</td><td>0.8428428</td></tr>\n",
       "\t<tr><td>0.5885886</td><td>0.3743744</td><td>0.8028028</td></tr>\n",
       "\t<tr><td>0.6106106</td><td>0.4024024</td><td>0.8188188</td></tr>\n",
       "\t<tr><td>0.5785786</td><td>0.3733734</td><td>0.7837838</td></tr>\n",
       "\t<tr><td>0.5995996</td><td>0.4004004</td><td>0.7987988</td></tr>\n",
       "\t<tr><td>0.5715716</td><td>0.3743744</td><td>0.7687688</td></tr>\n",
       "\t<tr><td>0.5455455</td><td>0.3523524</td><td>0.7387387</td></tr>\n",
       "\t<tr><td>0.5655656</td><td>0.3763764</td><td>0.7547548</td></tr>\n",
       "\t<tr><td>0.5415415</td><td>0.3553554</td><td>0.7277277</td></tr>\n",
       "\t<tr><td>0.5595596</td><td>0.3773774</td><td>0.7417417</td></tr>\n",
       "\t<tr><td>0.5385385</td><td>0.3583584</td><td>0.7187187</td></tr>\n",
       "\t<tr><td>0.5555556</td><td>0.3783784</td><td>0.7327327</td></tr>\n",
       "\t<tr><td>0.5355355</td><td>0.3613614</td><td>0.7097097</td></tr>\n",
       "\t<tr><td>0.5175175</td><td>0.3453453</td><td>0.6896897</td></tr>\n",
       "\t<tr><td>0.4994995</td><td>0.3303303</td><td>0.6686687</td></tr>\n",
       "</tbody>\n",
       "</table>\n"
      ],
      "text/latex": [
       "\\begin{tabular}{r|lll}\n",
       " max.value & lower.bound & upper.bound.\\\\\n",
       "\\hline\n",
       "\t 1.0000000 & 0.2232232 & 1.0000000\\\\\n",
       "\t 1.0000000 & 0.3683684 & 1.0000000\\\\\n",
       "\t 1.0000000 & 0.4734735 & 1.0000000\\\\\n",
       "\t 1.0000000 & 0.5495495 & 1.0000000\\\\\n",
       "\t 1.0000000 & 0.6076076 & 1.0000000\\\\\n",
       "\t 0.8328328 & 0.4794795 & 1.0000000\\\\\n",
       "\t 0.8568569 & 0.5295295 & 1.0000000\\\\\n",
       "\t 0.8748749 & 0.5705706 & 1.0000000\\\\\n",
       "\t 0.7777778 & 0.4934935 & 1.0000000\\\\\n",
       "\t 0.6996997 & 0.4354354 & 0.9639640\\\\\n",
       "\t 0.7277277 & 0.4724725 & 0.9829830\\\\\n",
       "\t 0.7497497 & 0.5055055 & 0.9939940\\\\\n",
       "\t 0.6926927 & 0.4574575 & 0.9279279\\\\\n",
       "\t 0.6426426 & 0.4124124 & 0.8728729\\\\\n",
       "\t 0.5995996 & 0.3743744 & 0.8248248\\\\\n",
       "\t 0.6246246 & 0.4064064 & 0.8428428\\\\\n",
       "\t 0.5885886 & 0.3743744 & 0.8028028\\\\\n",
       "\t 0.6106106 & 0.4024024 & 0.8188188\\\\\n",
       "\t 0.5785786 & 0.3733734 & 0.7837838\\\\\n",
       "\t 0.5995996 & 0.4004004 & 0.7987988\\\\\n",
       "\t 0.5715716 & 0.3743744 & 0.7687688\\\\\n",
       "\t 0.5455455 & 0.3523524 & 0.7387387\\\\\n",
       "\t 0.5655656 & 0.3763764 & 0.7547548\\\\\n",
       "\t 0.5415415 & 0.3553554 & 0.7277277\\\\\n",
       "\t 0.5595596 & 0.3773774 & 0.7417417\\\\\n",
       "\t 0.5385385 & 0.3583584 & 0.7187187\\\\\n",
       "\t 0.5555556 & 0.3783784 & 0.7327327\\\\\n",
       "\t 0.5355355 & 0.3613614 & 0.7097097\\\\\n",
       "\t 0.5175175 & 0.3453453 & 0.6896897\\\\\n",
       "\t 0.4994995 & 0.3303303 & 0.6686687\\\\\n",
       "\\end{tabular}\n"
      ],
      "text/markdown": [
       "\n",
       "| max.value | lower.bound | upper.bound. |\n",
       "|---|---|---|\n",
       "| 1.0000000 | 0.2232232 | 1.0000000 |\n",
       "| 1.0000000 | 0.3683684 | 1.0000000 |\n",
       "| 1.0000000 | 0.4734735 | 1.0000000 |\n",
       "| 1.0000000 | 0.5495495 | 1.0000000 |\n",
       "| 1.0000000 | 0.6076076 | 1.0000000 |\n",
       "| 0.8328328 | 0.4794795 | 1.0000000 |\n",
       "| 0.8568569 | 0.5295295 | 1.0000000 |\n",
       "| 0.8748749 | 0.5705706 | 1.0000000 |\n",
       "| 0.7777778 | 0.4934935 | 1.0000000 |\n",
       "| 0.6996997 | 0.4354354 | 0.9639640 |\n",
       "| 0.7277277 | 0.4724725 | 0.9829830 |\n",
       "| 0.7497497 | 0.5055055 | 0.9939940 |\n",
       "| 0.6926927 | 0.4574575 | 0.9279279 |\n",
       "| 0.6426426 | 0.4124124 | 0.8728729 |\n",
       "| 0.5995996 | 0.3743744 | 0.8248248 |\n",
       "| 0.6246246 | 0.4064064 | 0.8428428 |\n",
       "| 0.5885886 | 0.3743744 | 0.8028028 |\n",
       "| 0.6106106 | 0.4024024 | 0.8188188 |\n",
       "| 0.5785786 | 0.3733734 | 0.7837838 |\n",
       "| 0.5995996 | 0.4004004 | 0.7987988 |\n",
       "| 0.5715716 | 0.3743744 | 0.7687688 |\n",
       "| 0.5455455 | 0.3523524 | 0.7387387 |\n",
       "| 0.5655656 | 0.3763764 | 0.7547548 |\n",
       "| 0.5415415 | 0.3553554 | 0.7277277 |\n",
       "| 0.5595596 | 0.3773774 | 0.7417417 |\n",
       "| 0.5385385 | 0.3583584 | 0.7187187 |\n",
       "| 0.5555556 | 0.3783784 | 0.7327327 |\n",
       "| 0.5355355 | 0.3613614 | 0.7097097 |\n",
       "| 0.5175175 | 0.3453453 | 0.6896897 |\n",
       "| 0.4994995 | 0.3303303 | 0.6686687 |\n",
       "\n"
      ],
      "text/plain": [
       "   max.value lower.bound upper.bound.\n",
       "1  1.0000000 0.2232232   1.0000000   \n",
       "2  1.0000000 0.3683684   1.0000000   \n",
       "3  1.0000000 0.4734735   1.0000000   \n",
       "4  1.0000000 0.5495495   1.0000000   \n",
       "5  1.0000000 0.6076076   1.0000000   \n",
       "6  0.8328328 0.4794795   1.0000000   \n",
       "7  0.8568569 0.5295295   1.0000000   \n",
       "8  0.8748749 0.5705706   1.0000000   \n",
       "9  0.7777778 0.4934935   1.0000000   \n",
       "10 0.6996997 0.4354354   0.9639640   \n",
       "11 0.7277277 0.4724725   0.9829830   \n",
       "12 0.7497497 0.5055055   0.9939940   \n",
       "13 0.6926927 0.4574575   0.9279279   \n",
       "14 0.6426426 0.4124124   0.8728729   \n",
       "15 0.5995996 0.3743744   0.8248248   \n",
       "16 0.6246246 0.4064064   0.8428428   \n",
       "17 0.5885886 0.3743744   0.8028028   \n",
       "18 0.6106106 0.4024024   0.8188188   \n",
       "19 0.5785786 0.3733734   0.7837838   \n",
       "20 0.5995996 0.4004004   0.7987988   \n",
       "21 0.5715716 0.3743744   0.7687688   \n",
       "22 0.5455455 0.3523524   0.7387387   \n",
       "23 0.5655656 0.3763764   0.7547548   \n",
       "24 0.5415415 0.3553554   0.7277277   \n",
       "25 0.5595596 0.3773774   0.7417417   \n",
       "26 0.5385385 0.3583584   0.7187187   \n",
       "27 0.5555556 0.3783784   0.7327327   \n",
       "28 0.5355355 0.3613614   0.7097097   \n",
       "29 0.5175175 0.3453453   0.6896897   \n",
       "30 0.4994995 0.3303303   0.6686687   "
      ]
     },
     "metadata": {},
     "output_type": "display_data"
    }
   ],
   "source": [
    "seq_analysis(data=coin,p=p,prior=prior_unif,interval_width=interval_width)"
   ]
  },
  {
   "cell_type": "code",
   "execution_count": 13,
   "id": "western-banner",
   "metadata": {},
   "outputs": [
    {
     "data": {
      "text/html": [
       "<table>\n",
       "<thead><tr><th scope=col>max.value</th><th scope=col>lower.bound</th><th scope=col>upper.bound.</th></tr></thead>\n",
       "<tbody>\n",
       "\t<tr><td>0.5555556</td><td>0.2792793</td><td>0.8318318</td></tr>\n",
       "\t<tr><td>0.5995996</td><td>0.3353353</td><td>0.8638639</td></tr>\n",
       "\t<tr><td>0.6366366</td><td>0.3823824</td><td>0.8908909</td></tr>\n",
       "\t<tr><td>0.6666667</td><td>0.4224224</td><td>0.9109109</td></tr>\n",
       "\t<tr><td>0.6926927</td><td>0.4574575</td><td>0.9279279</td></tr>\n",
       "\t<tr><td>0.6426426</td><td>0.4124124</td><td>0.8728729</td></tr>\n",
       "\t<tr><td>0.6666667</td><td>0.4444444</td><td>0.8888889</td></tr>\n",
       "\t<tr><td>0.6876877</td><td>0.4734735</td><td>0.9019019</td></tr>\n",
       "\t<tr><td>0.6466466</td><td>0.4354354</td><td>0.8578579</td></tr>\n",
       "\t<tr><td>0.6106106</td><td>0.4024024</td><td>0.8188188</td></tr>\n",
       "\t<tr><td>0.6316316</td><td>0.4294294</td><td>0.8338338</td></tr>\n",
       "\t<tr><td>0.6496496</td><td>0.4534535</td><td>0.8458458</td></tr>\n",
       "\t<tr><td>0.6186186</td><td>0.4244244</td><td>0.8128128</td></tr>\n",
       "\t<tr><td>0.5905906</td><td>0.3983984</td><td>0.7827828</td></tr>\n",
       "\t<tr><td>0.5655656</td><td>0.3763764</td><td>0.7547548</td></tr>\n",
       "\t<tr><td>0.5835836</td><td>0.3983984</td><td>0.7687688</td></tr>\n",
       "\t<tr><td>0.5595596</td><td>0.3773774</td><td>0.7417417</td></tr>\n",
       "\t<tr><td>0.5765766</td><td>0.3973974</td><td>0.7557558</td></tr>\n",
       "\t<tr><td>0.5555556</td><td>0.3783784</td><td>0.7327327</td></tr>\n",
       "\t<tr><td>0.5715716</td><td>0.3983984</td><td>0.7447447</td></tr>\n",
       "\t<tr><td>0.5515516</td><td>0.3803804</td><td>0.7227227</td></tr>\n",
       "\t<tr><td>0.5335335</td><td>0.3643644</td><td>0.7027027</td></tr>\n",
       "\t<tr><td>0.5485485</td><td>0.3823824</td><td>0.7147147</td></tr>\n",
       "\t<tr><td>0.5315315</td><td>0.3673674</td><td>0.6956957</td></tr>\n",
       "\t<tr><td>0.5455455</td><td>0.3833834</td><td>0.7077077</td></tr>\n",
       "\t<tr><td>0.5295295</td><td>0.3693694</td><td>0.6896897</td></tr>\n",
       "\t<tr><td>0.5425425</td><td>0.3853854</td><td>0.6996997</td></tr>\n",
       "\t<tr><td>0.5275275</td><td>0.3713714</td><td>0.6836837</td></tr>\n",
       "\t<tr><td>0.5135135</td><td>0.3593594</td><td>0.6676677</td></tr>\n",
       "\t<tr><td>0.4994995</td><td>0.3473473</td><td>0.6516517</td></tr>\n",
       "</tbody>\n",
       "</table>\n"
      ],
      "text/latex": [
       "\\begin{tabular}{r|lll}\n",
       " max.value & lower.bound & upper.bound.\\\\\n",
       "\\hline\n",
       "\t 0.5555556 & 0.2792793 & 0.8318318\\\\\n",
       "\t 0.5995996 & 0.3353353 & 0.8638639\\\\\n",
       "\t 0.6366366 & 0.3823824 & 0.8908909\\\\\n",
       "\t 0.6666667 & 0.4224224 & 0.9109109\\\\\n",
       "\t 0.6926927 & 0.4574575 & 0.9279279\\\\\n",
       "\t 0.6426426 & 0.4124124 & 0.8728729\\\\\n",
       "\t 0.6666667 & 0.4444444 & 0.8888889\\\\\n",
       "\t 0.6876877 & 0.4734735 & 0.9019019\\\\\n",
       "\t 0.6466466 & 0.4354354 & 0.8578579\\\\\n",
       "\t 0.6106106 & 0.4024024 & 0.8188188\\\\\n",
       "\t 0.6316316 & 0.4294294 & 0.8338338\\\\\n",
       "\t 0.6496496 & 0.4534535 & 0.8458458\\\\\n",
       "\t 0.6186186 & 0.4244244 & 0.8128128\\\\\n",
       "\t 0.5905906 & 0.3983984 & 0.7827828\\\\\n",
       "\t 0.5655656 & 0.3763764 & 0.7547548\\\\\n",
       "\t 0.5835836 & 0.3983984 & 0.7687688\\\\\n",
       "\t 0.5595596 & 0.3773774 & 0.7417417\\\\\n",
       "\t 0.5765766 & 0.3973974 & 0.7557558\\\\\n",
       "\t 0.5555556 & 0.3783784 & 0.7327327\\\\\n",
       "\t 0.5715716 & 0.3983984 & 0.7447447\\\\\n",
       "\t 0.5515516 & 0.3803804 & 0.7227227\\\\\n",
       "\t 0.5335335 & 0.3643644 & 0.7027027\\\\\n",
       "\t 0.5485485 & 0.3823824 & 0.7147147\\\\\n",
       "\t 0.5315315 & 0.3673674 & 0.6956957\\\\\n",
       "\t 0.5455455 & 0.3833834 & 0.7077077\\\\\n",
       "\t 0.5295295 & 0.3693694 & 0.6896897\\\\\n",
       "\t 0.5425425 & 0.3853854 & 0.6996997\\\\\n",
       "\t 0.5275275 & 0.3713714 & 0.6836837\\\\\n",
       "\t 0.5135135 & 0.3593594 & 0.6676677\\\\\n",
       "\t 0.4994995 & 0.3473473 & 0.6516517\\\\\n",
       "\\end{tabular}\n"
      ],
      "text/markdown": [
       "\n",
       "| max.value | lower.bound | upper.bound. |\n",
       "|---|---|---|\n",
       "| 0.5555556 | 0.2792793 | 0.8318318 |\n",
       "| 0.5995996 | 0.3353353 | 0.8638639 |\n",
       "| 0.6366366 | 0.3823824 | 0.8908909 |\n",
       "| 0.6666667 | 0.4224224 | 0.9109109 |\n",
       "| 0.6926927 | 0.4574575 | 0.9279279 |\n",
       "| 0.6426426 | 0.4124124 | 0.8728729 |\n",
       "| 0.6666667 | 0.4444444 | 0.8888889 |\n",
       "| 0.6876877 | 0.4734735 | 0.9019019 |\n",
       "| 0.6466466 | 0.4354354 | 0.8578579 |\n",
       "| 0.6106106 | 0.4024024 | 0.8188188 |\n",
       "| 0.6316316 | 0.4294294 | 0.8338338 |\n",
       "| 0.6496496 | 0.4534535 | 0.8458458 |\n",
       "| 0.6186186 | 0.4244244 | 0.8128128 |\n",
       "| 0.5905906 | 0.3983984 | 0.7827828 |\n",
       "| 0.5655656 | 0.3763764 | 0.7547548 |\n",
       "| 0.5835836 | 0.3983984 | 0.7687688 |\n",
       "| 0.5595596 | 0.3773774 | 0.7417417 |\n",
       "| 0.5765766 | 0.3973974 | 0.7557558 |\n",
       "| 0.5555556 | 0.3783784 | 0.7327327 |\n",
       "| 0.5715716 | 0.3983984 | 0.7447447 |\n",
       "| 0.5515516 | 0.3803804 | 0.7227227 |\n",
       "| 0.5335335 | 0.3643644 | 0.7027027 |\n",
       "| 0.5485485 | 0.3823824 | 0.7147147 |\n",
       "| 0.5315315 | 0.3673674 | 0.6956957 |\n",
       "| 0.5455455 | 0.3833834 | 0.7077077 |\n",
       "| 0.5295295 | 0.3693694 | 0.6896897 |\n",
       "| 0.5425425 | 0.3853854 | 0.6996997 |\n",
       "| 0.5275275 | 0.3713714 | 0.6836837 |\n",
       "| 0.5135135 | 0.3593594 | 0.6676677 |\n",
       "| 0.4994995 | 0.3473473 | 0.6516517 |\n",
       "\n"
      ],
      "text/plain": [
       "   max.value lower.bound upper.bound.\n",
       "1  0.5555556 0.2792793   0.8318318   \n",
       "2  0.5995996 0.3353353   0.8638639   \n",
       "3  0.6366366 0.3823824   0.8908909   \n",
       "4  0.6666667 0.4224224   0.9109109   \n",
       "5  0.6926927 0.4574575   0.9279279   \n",
       "6  0.6426426 0.4124124   0.8728729   \n",
       "7  0.6666667 0.4444444   0.8888889   \n",
       "8  0.6876877 0.4734735   0.9019019   \n",
       "9  0.6466466 0.4354354   0.8578579   \n",
       "10 0.6106106 0.4024024   0.8188188   \n",
       "11 0.6316316 0.4294294   0.8338338   \n",
       "12 0.6496496 0.4534535   0.8458458   \n",
       "13 0.6186186 0.4244244   0.8128128   \n",
       "14 0.5905906 0.3983984   0.7827828   \n",
       "15 0.5655656 0.3763764   0.7547548   \n",
       "16 0.5835836 0.3983984   0.7687688   \n",
       "17 0.5595596 0.3773774   0.7417417   \n",
       "18 0.5765766 0.3973974   0.7557558   \n",
       "19 0.5555556 0.3783784   0.7327327   \n",
       "20 0.5715716 0.3983984   0.7447447   \n",
       "21 0.5515516 0.3803804   0.7227227   \n",
       "22 0.5335335 0.3643644   0.7027027   \n",
       "23 0.5485485 0.3823824   0.7147147   \n",
       "24 0.5315315 0.3673674   0.6956957   \n",
       "25 0.5455455 0.3833834   0.7077077   \n",
       "26 0.5295295 0.3693694   0.6896897   \n",
       "27 0.5425425 0.3853854   0.6996997   \n",
       "28 0.5275275 0.3713714   0.6836837   \n",
       "29 0.5135135 0.3593594   0.6676677   \n",
       "30 0.4994995 0.3473473   0.6516517   "
      ]
     },
     "metadata": {},
     "output_type": "display_data"
    }
   ],
   "source": [
    "seq_analysis(data=coin,p=p,prior=prior_beta,interval_width=interval_width)"
   ]
  },
  {
   "cell_type": "markdown",
   "id": "after-optimization",
   "metadata": {},
   "source": [
    "### d) Do you get a different result, by analyzing the data sequentially with respect to a one-step analysis (i.e. considering all the data as a whole) ?\n"
   ]
  },
  {
   "cell_type": "code",
   "execution_count": 14,
   "id": "severe-stage",
   "metadata": {},
   "outputs": [
    {
     "data": {
      "text/html": [
       "<table>\n",
       "<thead><tr><th></th><th scope=col>max.value</th><th scope=col>lower.bound</th><th scope=col>upper.bound.</th></tr></thead>\n",
       "<tbody>\n",
       "\t<tr><th scope=row>30</th><td>TRUE</td><td>TRUE</td><td>TRUE</td></tr>\n",
       "</tbody>\n",
       "</table>\n"
      ],
      "text/latex": [
       "\\begin{tabular}{r|lll}\n",
       "  & max.value & lower.bound & upper.bound.\\\\\n",
       "\\hline\n",
       "\t30 & TRUE & TRUE & TRUE\\\\\n",
       "\\end{tabular}\n"
      ],
      "text/markdown": [
       "\n",
       "| <!--/--> | max.value | lower.bound | upper.bound. |\n",
       "|---|---|---|---|\n",
       "| 30 | TRUE | TRUE | TRUE |\n",
       "\n"
      ],
      "text/plain": [
       "   max.value lower.bound upper.bound.\n",
       "30 TRUE      TRUE        TRUE        "
      ]
     },
     "metadata": {},
     "output_type": "display_data"
    }
   ],
   "source": [
    "seq_analysis(data=coin,p=p,prior=prior_unif,interval_width=interval_width)[length(coin),]==c(max_post_unif,\n",
    "                                                                                             ci_max_post_unif[1],\n",
    "                                                                                             ci_max_post_unif[2])\n"
   ]
  },
  {
   "cell_type": "code",
   "execution_count": 15,
   "id": "upset-ultimate",
   "metadata": {},
   "outputs": [
    {
     "data": {
      "text/html": [
       "<table>\n",
       "<thead><tr><th></th><th scope=col>max.value</th><th scope=col>lower.bound</th><th scope=col>upper.bound.</th></tr></thead>\n",
       "<tbody>\n",
       "\t<tr><th scope=row>30</th><td>TRUE</td><td>TRUE</td><td>TRUE</td></tr>\n",
       "</tbody>\n",
       "</table>\n"
      ],
      "text/latex": [
       "\\begin{tabular}{r|lll}\n",
       "  & max.value & lower.bound & upper.bound.\\\\\n",
       "\\hline\n",
       "\t30 & TRUE & TRUE & TRUE\\\\\n",
       "\\end{tabular}\n"
      ],
      "text/markdown": [
       "\n",
       "| <!--/--> | max.value | lower.bound | upper.bound. |\n",
       "|---|---|---|---|\n",
       "| 30 | TRUE | TRUE | TRUE |\n",
       "\n"
      ],
      "text/plain": [
       "   max.value lower.bound upper.bound.\n",
       "30 TRUE      TRUE        TRUE        "
      ]
     },
     "metadata": {},
     "output_type": "display_data"
    }
   ],
   "source": [
    "seq_analysis(data=coin,p=p,prior=prior_beta,interval_width=interval_width)[length(coin),]==c(max_post_beta,\n",
    "                                                                                             ci_max_post_beta[1],\n",
    "                                                                                             ci_max_post_beta[2])"
   ]
  }
 ],
 "metadata": {
  "kernelspec": {
   "display_name": "R",
   "language": "R",
   "name": "ir"
  },
  "language_info": {
   "codemirror_mode": "r",
   "file_extension": ".r",
   "mimetype": "text/x-r-source",
   "name": "R",
   "pygments_lexer": "r",
   "version": "3.5.1"
  }
 },
 "nbformat": 4,
 "nbformat_minor": 5
}
