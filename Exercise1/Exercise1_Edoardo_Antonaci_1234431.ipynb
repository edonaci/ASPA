{
 "cells": [
  {
   "cell_type": "markdown",
   "id": "insured-count",
   "metadata": {},
   "source": [
    "#                                       Edoardo Antonaci 1234431\n"
   ]
  },
  {
   "cell_type": "markdown",
   "id": "romance-madison",
   "metadata": {},
   "source": [
    "## Exercise 1 - vectors and data frames\n"
   ]
  },
  {
   "cell_type": "code",
   "execution_count": 1,
   "id": "tested-galaxy",
   "metadata": {},
   "outputs": [],
   "source": [
    "LochNess<-c(\"Loch Ness\",7.45,56,39,230,132)\n",
    "LochLomond<-c(\"Loch Lomond\",2.6,71,36,190,37)\n",
    "LochMorar<-c(\"Loch Morar\",2.3, 27, 18.8, 310, 87)\n",
    "LochTay<-c(\"LochTay\",1.6,26.4,23,150,60.6)\n",
    "LochAwe<-c(\"Loch Awe\",1.2,39,41,94,32)\n",
    "LochMaree<-c(\"Loch Maree\",1.09 ,28.6 ,20 ,114 ,38)\n",
    "LochEricht<-c(\"Loch Ericht\",1.08 ,18.6 ,23 ,156 ,57.6)\n",
    "LochLochy<-c(\"Loch Lochy\",1.07 ,16 ,16 ,162 ,70)\n",
    "LochRannoch<-c(\"Loch Rannoch\",0.97,19,15.7,134,51)\n",
    "LochShiel<-c(\"Loch Shiel\",0.79,19.5,28,128,40)\n",
    "LochKatrine<-c(\"Loch Katrine\",0.77,12.4,12.9,151,43.4)\n",
    "LochArkaig<-c(\"Loch Arkaig\",0.75,16,19.3,109,46.5)\n",
    "LochShin<-c(\"Loch Shin\",0.35, 22.5, 27.8, 49,15.5)\n",
    "\n",
    "\n",
    "Lochs<-c(LochNess,LochLomond,LochMorar,\n",
    "         LochTay,LochAwe,LochMaree,\n",
    "         LochEricht,LochLochy,LochRannoch,\n",
    "         LochShiel,LochKatrine,LochArkaig,LochShin)\n",
    "\n",
    "\n",
    "\n",
    "dim(Lochs)<-c(6,13)\n",
    "\n",
    "#transpose the matrix\n",
    "Lochs<-t(Lochs)\n",
    "\n",
    "#make dataframe\n",
    "scottish.lakes<-data.frame( Loch=Lochs[,1],\n",
    "                            Volume_km3=Lochs[,2],\n",
    "                            Area_km2=Lochs[,3],\n",
    "                            Length_km=Lochs[,4],\n",
    "                            Max_depth_m=Lochs[,5],\n",
    "                            Mean_depth_m=Lochs[,6])"
   ]
  },
  {
   "cell_type": "code",
   "execution_count": 7,
   "id": "swiss-garage",
   "metadata": {},
   "outputs": [
    {
     "data": {
      "text/html": [
       "6"
      ],
      "text/latex": [
       "6"
      ],
      "text/markdown": [
       "6"
      ],
      "text/plain": [
       "[1] 6"
      ]
     },
     "metadata": {},
     "output_type": "display_data"
    }
   ],
   "source": [
    "length(LochNess)"
   ]
  },
  {
   "cell_type": "code",
   "execution_count": 2,
   "id": "north-extra",
   "metadata": {},
   "outputs": [
    {
     "data": {
      "text/html": [
       "<table>\n",
       "<thead><tr><th scope=col>Loch</th><th scope=col>Volume_km3</th><th scope=col>Area_km2</th><th scope=col>Length_km</th><th scope=col>Max_depth_m</th><th scope=col>Mean_depth_m</th></tr></thead>\n",
       "<tbody>\n",
       "\t<tr><td>Loch Ness   </td><td>7.45        </td><td>56          </td><td>39          </td><td>230         </td><td>132         </td></tr>\n",
       "\t<tr><td>Loch Lomond </td><td>2.6         </td><td>71          </td><td>36          </td><td>190         </td><td>37          </td></tr>\n",
       "\t<tr><td>Loch Morar  </td><td>2.3         </td><td>27          </td><td>18.8        </td><td>310         </td><td>87          </td></tr>\n",
       "\t<tr><td>LochTay     </td><td>1.6         </td><td>26.4        </td><td>23          </td><td>150         </td><td>60.6        </td></tr>\n",
       "\t<tr><td>Loch Awe    </td><td>1.2         </td><td>39          </td><td>41          </td><td>94          </td><td>32          </td></tr>\n",
       "\t<tr><td>Loch Maree  </td><td>1.09        </td><td>28.6        </td><td>20          </td><td>114         </td><td>38          </td></tr>\n",
       "\t<tr><td>Loch Ericht </td><td>1.08        </td><td>18.6        </td><td>23          </td><td>156         </td><td>57.6        </td></tr>\n",
       "\t<tr><td>Loch Lochy  </td><td>1.07        </td><td>16          </td><td>16          </td><td>162         </td><td>70          </td></tr>\n",
       "\t<tr><td>Loch Rannoch</td><td>0.97        </td><td>19          </td><td>15.7        </td><td>134         </td><td>51          </td></tr>\n",
       "\t<tr><td>Loch Shiel  </td><td>0.79        </td><td>19.5        </td><td>28          </td><td>128         </td><td>40          </td></tr>\n",
       "\t<tr><td>Loch Katrine</td><td>0.77        </td><td>12.4        </td><td>12.9        </td><td>151         </td><td>43.4        </td></tr>\n",
       "\t<tr><td>Loch Arkaig </td><td>0.75        </td><td>16          </td><td>19.3        </td><td>109         </td><td>46.5        </td></tr>\n",
       "\t<tr><td>Loch Shin   </td><td>0.35        </td><td>22.5        </td><td>27.8        </td><td>49          </td><td>15.5        </td></tr>\n",
       "</tbody>\n",
       "</table>\n"
      ],
      "text/latex": [
       "\\begin{tabular}{r|llllll}\n",
       " Loch & Volume\\_km3 & Area\\_km2 & Length\\_km & Max\\_depth\\_m & Mean\\_depth\\_m\\\\\n",
       "\\hline\n",
       "\t Loch Ness    & 7.45         & 56           & 39           & 230          & 132         \\\\\n",
       "\t Loch Lomond  & 2.6          & 71           & 36           & 190          & 37          \\\\\n",
       "\t Loch Morar   & 2.3          & 27           & 18.8         & 310          & 87          \\\\\n",
       "\t LochTay      & 1.6          & 26.4         & 23           & 150          & 60.6        \\\\\n",
       "\t Loch Awe     & 1.2          & 39           & 41           & 94           & 32          \\\\\n",
       "\t Loch Maree   & 1.09         & 28.6         & 20           & 114          & 38          \\\\\n",
       "\t Loch Ericht  & 1.08         & 18.6         & 23           & 156          & 57.6        \\\\\n",
       "\t Loch Lochy   & 1.07         & 16           & 16           & 162          & 70          \\\\\n",
       "\t Loch Rannoch & 0.97         & 19           & 15.7         & 134          & 51          \\\\\n",
       "\t Loch Shiel   & 0.79         & 19.5         & 28           & 128          & 40          \\\\\n",
       "\t Loch Katrine & 0.77         & 12.4         & 12.9         & 151          & 43.4        \\\\\n",
       "\t Loch Arkaig  & 0.75         & 16           & 19.3         & 109          & 46.5        \\\\\n",
       "\t Loch Shin    & 0.35         & 22.5         & 27.8         & 49           & 15.5        \\\\\n",
       "\\end{tabular}\n"
      ],
      "text/markdown": [
       "\n",
       "| Loch | Volume_km3 | Area_km2 | Length_km | Max_depth_m | Mean_depth_m |\n",
       "|---|---|---|---|---|---|\n",
       "| Loch Ness    | 7.45         | 56           | 39           | 230          | 132          |\n",
       "| Loch Lomond  | 2.6          | 71           | 36           | 190          | 37           |\n",
       "| Loch Morar   | 2.3          | 27           | 18.8         | 310          | 87           |\n",
       "| LochTay      | 1.6          | 26.4         | 23           | 150          | 60.6         |\n",
       "| Loch Awe     | 1.2          | 39           | 41           | 94           | 32           |\n",
       "| Loch Maree   | 1.09         | 28.6         | 20           | 114          | 38           |\n",
       "| Loch Ericht  | 1.08         | 18.6         | 23           | 156          | 57.6         |\n",
       "| Loch Lochy   | 1.07         | 16           | 16           | 162          | 70           |\n",
       "| Loch Rannoch | 0.97         | 19           | 15.7         | 134          | 51           |\n",
       "| Loch Shiel   | 0.79         | 19.5         | 28           | 128          | 40           |\n",
       "| Loch Katrine | 0.77         | 12.4         | 12.9         | 151          | 43.4         |\n",
       "| Loch Arkaig  | 0.75         | 16           | 19.3         | 109          | 46.5         |\n",
       "| Loch Shin    | 0.35         | 22.5         | 27.8         | 49           | 15.5         |\n",
       "\n"
      ],
      "text/plain": [
       "   Loch         Volume_km3 Area_km2 Length_km Max_depth_m Mean_depth_m\n",
       "1  Loch Ness    7.45       56       39        230         132         \n",
       "2  Loch Lomond  2.6        71       36        190         37          \n",
       "3  Loch Morar   2.3        27       18.8      310         87          \n",
       "4  LochTay      1.6        26.4     23        150         60.6        \n",
       "5  Loch Awe     1.2        39       41        94          32          \n",
       "6  Loch Maree   1.09       28.6     20        114         38          \n",
       "7  Loch Ericht  1.08       18.6     23        156         57.6        \n",
       "8  Loch Lochy   1.07       16       16        162         70          \n",
       "9  Loch Rannoch 0.97       19       15.7      134         51          \n",
       "10 Loch Shiel   0.79       19.5     28        128         40          \n",
       "11 Loch Katrine 0.77       12.4     12.9      151         43.4        \n",
       "12 Loch Arkaig  0.75       16       19.3      109         46.5        \n",
       "13 Loch Shin    0.35       22.5     27.8      49          15.5        "
      ]
     },
     "metadata": {},
     "output_type": "display_data"
    }
   ],
   "source": [
    "scottish.lakes"
   ]
  },
  {
   "cell_type": "markdown",
   "id": "graphic-salvation",
   "metadata": {},
   "source": [
    "### 1) Evaluate the highest and lowest volume and area lake\n"
   ]
  },
  {
   "cell_type": "code",
   "execution_count": 3,
   "id": "nutritional-warner",
   "metadata": {},
   "outputs": [
    {
     "name": "stdout",
     "output_type": "stream",
     "text": [
      "Maximum volume =  7.45 km^3 and the lake is  Loch Ness\n",
      "Minimum volume =  0.35 km^3 and the lake is  Loch Shin\n",
      "Maximum area =  71 km^2 and the lake is  Loch Lomond\n",
      "Minimum area =  12.4 km^2 and the lake is  Loch Katrine"
     ]
    }
   ],
   "source": [
    "max_volume<-max(as.numeric(as.character(scottish.lakes$Volume_km3) ) )\n",
    "max_v_lake<-scottish.lakes$Loch[scottish.lakes$Volume_km3==max_volume]\n",
    "\n",
    "cat(\"Maximum volume = \", max_volume,\"km^3 and the lake is \",as.character(max_v_lake) )\n",
    "\n",
    "min_volume=min(as.numeric(as.character(scottish.lakes$Volume_km3) ) )\n",
    "min_v_lake<-scottish.lakes$Loch[scottish.lakes$Volume_km3==min_volume]\n",
    "\n",
    "cat(\"\\nMinimum volume = \", min_volume,\"km^3 and the lake is \",as.character(min_v_lake) )\n",
    "\n",
    "max_area=max(as.numeric(as.character(scottish.lakes$Area_km2) ) )\n",
    "max_a_lake<-scottish.lakes$Loch[scottish.lakes$Area_km2==max_area]\n",
    "\n",
    "cat(\"\\nMaximum area = \", max_area,\"km^2 and the lake is \",as.character(max_a_lake) )\n",
    "\n",
    "min_area=min(as.numeric(as.character(scottish.lakes$Area_km2) ) )\n",
    "min_a_lake<-scottish.lakes$Loch[scottish.lakes$Area_km2==min_area]\n",
    "cat(\"\\nMinimum area = \", min_area,\"km^2 and the lake is \",as.character(min_a_lake) )\n",
    "\n"
   ]
  },
  {
   "cell_type": "markdown",
   "id": "regulation-today",
   "metadata": {},
   "source": [
    "### 2) Order the frame with respect to the area and determine the two largest area lakes"
   ]
  },
  {
   "cell_type": "code",
   "execution_count": 4,
   "id": "equipped-validity",
   "metadata": {},
   "outputs": [
    {
     "data": {
      "text/html": [
       "<table>\n",
       "<thead><tr><th></th><th scope=col>Loch</th><th scope=col>Volume_km3</th><th scope=col>Area_km2</th><th scope=col>Length_km</th><th scope=col>Max_depth_m</th><th scope=col>Mean_depth_m</th></tr></thead>\n",
       "<tbody>\n",
       "\t<tr><th scope=row>2</th><td>Loch Lomond </td><td>2.6         </td><td>71          </td><td>36          </td><td>190         </td><td>37          </td></tr>\n",
       "\t<tr><th scope=row>1</th><td>Loch Ness   </td><td>7.45        </td><td>56          </td><td>39          </td><td>230         </td><td>132         </td></tr>\n",
       "\t<tr><th scope=row>5</th><td>Loch Awe    </td><td>1.2         </td><td>39          </td><td>41          </td><td>94          </td><td>32          </td></tr>\n",
       "\t<tr><th scope=row>6</th><td>Loch Maree  </td><td>1.09        </td><td>28.6        </td><td>20          </td><td>114         </td><td>38          </td></tr>\n",
       "\t<tr><th scope=row>3</th><td>Loch Morar  </td><td>2.3         </td><td>27          </td><td>18.8        </td><td>310         </td><td>87          </td></tr>\n",
       "\t<tr><th scope=row>4</th><td>LochTay     </td><td>1.6         </td><td>26.4        </td><td>23          </td><td>150         </td><td>60.6        </td></tr>\n",
       "\t<tr><th scope=row>13</th><td>Loch Shin   </td><td>0.35        </td><td>22.5        </td><td>27.8        </td><td>49          </td><td>15.5        </td></tr>\n",
       "\t<tr><th scope=row>10</th><td>Loch Shiel  </td><td>0.79        </td><td>19.5        </td><td>28          </td><td>128         </td><td>40          </td></tr>\n",
       "\t<tr><th scope=row>9</th><td>Loch Rannoch</td><td>0.97        </td><td>19          </td><td>15.7        </td><td>134         </td><td>51          </td></tr>\n",
       "\t<tr><th scope=row>7</th><td>Loch Ericht </td><td>1.08        </td><td>18.6        </td><td>23          </td><td>156         </td><td>57.6        </td></tr>\n",
       "</tbody>\n",
       "</table>\n"
      ],
      "text/latex": [
       "\\begin{tabular}{r|llllll}\n",
       "  & Loch & Volume\\_km3 & Area\\_km2 & Length\\_km & Max\\_depth\\_m & Mean\\_depth\\_m\\\\\n",
       "\\hline\n",
       "\t2 & Loch Lomond  & 2.6          & 71           & 36           & 190          & 37          \\\\\n",
       "\t1 & Loch Ness    & 7.45         & 56           & 39           & 230          & 132         \\\\\n",
       "\t5 & Loch Awe     & 1.2          & 39           & 41           & 94           & 32          \\\\\n",
       "\t6 & Loch Maree   & 1.09         & 28.6         & 20           & 114          & 38          \\\\\n",
       "\t3 & Loch Morar   & 2.3          & 27           & 18.8         & 310          & 87          \\\\\n",
       "\t4 & LochTay      & 1.6          & 26.4         & 23           & 150          & 60.6        \\\\\n",
       "\t13 & Loch Shin    & 0.35         & 22.5         & 27.8         & 49           & 15.5        \\\\\n",
       "\t10 & Loch Shiel   & 0.79         & 19.5         & 28           & 128          & 40          \\\\\n",
       "\t9 & Loch Rannoch & 0.97         & 19           & 15.7         & 134          & 51          \\\\\n",
       "\t7 & Loch Ericht  & 1.08         & 18.6         & 23           & 156          & 57.6        \\\\\n",
       "\\end{tabular}\n"
      ],
      "text/markdown": [
       "\n",
       "| <!--/--> | Loch | Volume_km3 | Area_km2 | Length_km | Max_depth_m | Mean_depth_m |\n",
       "|---|---|---|---|---|---|---|\n",
       "| 2 | Loch Lomond  | 2.6          | 71           | 36           | 190          | 37           |\n",
       "| 1 | Loch Ness    | 7.45         | 56           | 39           | 230          | 132          |\n",
       "| 5 | Loch Awe     | 1.2          | 39           | 41           | 94           | 32           |\n",
       "| 6 | Loch Maree   | 1.09         | 28.6         | 20           | 114          | 38           |\n",
       "| 3 | Loch Morar   | 2.3          | 27           | 18.8         | 310          | 87           |\n",
       "| 4 | LochTay      | 1.6          | 26.4         | 23           | 150          | 60.6         |\n",
       "| 13 | Loch Shin    | 0.35         | 22.5         | 27.8         | 49           | 15.5         |\n",
       "| 10 | Loch Shiel   | 0.79         | 19.5         | 28           | 128          | 40           |\n",
       "| 9 | Loch Rannoch | 0.97         | 19           | 15.7         | 134          | 51           |\n",
       "| 7 | Loch Ericht  | 1.08         | 18.6         | 23           | 156          | 57.6         |\n",
       "\n"
      ],
      "text/plain": [
       "   Loch         Volume_km3 Area_km2 Length_km Max_depth_m Mean_depth_m\n",
       "2  Loch Lomond  2.6        71       36        190         37          \n",
       "1  Loch Ness    7.45       56       39        230         132         \n",
       "5  Loch Awe     1.2        39       41        94          32          \n",
       "6  Loch Maree   1.09       28.6     20        114         38          \n",
       "3  Loch Morar   2.3        27       18.8      310         87          \n",
       "4  LochTay      1.6        26.4     23        150         60.6        \n",
       "13 Loch Shin    0.35       22.5     27.8      49          15.5        \n",
       "10 Loch Shiel   0.79       19.5     28        128         40          \n",
       "9  Loch Rannoch 0.97       19       15.7      134         51          \n",
       "7  Loch Ericht  1.08       18.6     23        156         57.6        "
      ]
     },
     "metadata": {},
     "output_type": "display_data"
    }
   ],
   "source": [
    "ordered_scottish.lakes <- scottish.lakes[order(-as.numeric(as.character(scottish.lakes$Area_km2) ) ),]\n",
    "ordered_scottish.lakes[1:10,]"
   ]
  },
  {
   "cell_type": "code",
   "execution_count": 5,
   "id": "statewide-backup",
   "metadata": {},
   "outputs": [
    {
     "name": "stdout",
     "output_type": "stream",
     "text": [
      "Two largest lochs: \n",
      "1) Loch Lomond \n",
      "2) Loch Ness"
     ]
    }
   ],
   "source": [
    "first_two<-ordered_scottish.lakes[1:2,\"Loch\"]\n",
    "cat(\"Two largest lochs: \\n1)\", toString(first_two[1]),\"\\n2)\",toString(first_two[2]))"
   ]
  },
  {
   "cell_type": "markdown",
   "id": "controlled-newspaper",
   "metadata": {},
   "source": [
    "### 3) By summing up the areas occupied by the lakes, determine the area of Scotland covered by water"
   ]
  },
  {
   "cell_type": "code",
   "execution_count": 6,
   "id": "sharp-colon",
   "metadata": {},
   "outputs": [
    {
     "name": "stdout",
     "output_type": "stream",
     "text": [
      "Total area covered by water in Scotland is 372 km^2"
     ]
    }
   ],
   "source": [
    "total_area<-sum(as.numeric(as.character(scottish.lakes$Area_km2) ) )\n",
    "cat(\"Total area covered by water in Scotland is\",total_area,\"km^2\")"
   ]
  },
  {
   "cell_type": "markdown",
   "id": "legendary-corpus",
   "metadata": {},
   "source": [
    "## Exercise 2 - Crude Oil Production\n"
   ]
  },
  {
   "cell_type": "markdown",
   "id": "sustained-trade",
   "metadata": {},
   "source": [
    "### 1) Write R code that is able to read the file and import it in a data frame structure."
   ]
  },
  {
   "cell_type": "code",
   "execution_count": 7,
   "id": "grand-support",
   "metadata": {},
   "outputs": [
    {
     "data": {
      "text/html": [
       "<table>\n",
       "<thead><tr><th scope=col>Entity</th><th scope=col>Code</th><th scope=col>Year</th><th scope=col>OilPrice</th></tr></thead>\n",
       "<tbody>\n",
       "\t<tr><td>World   </td><td>OWID_WRL</td><td>1861    </td><td>0.49    </td></tr>\n",
       "\t<tr><td>World   </td><td>OWID_WRL</td><td>1862    </td><td>1.05    </td></tr>\n",
       "\t<tr><td>World   </td><td>OWID_WRL</td><td>1863    </td><td>3.15    </td></tr>\n",
       "\t<tr><td>World   </td><td>OWID_WRL</td><td>1864    </td><td>8.06    </td></tr>\n",
       "\t<tr><td>World   </td><td>OWID_WRL</td><td>1865    </td><td>6.59    </td></tr>\n",
       "\t<tr><td>World   </td><td>OWID_WRL</td><td>1866    </td><td>3.74    </td></tr>\n",
       "\t<tr><td>World   </td><td>OWID_WRL</td><td>1867    </td><td>2.41    </td></tr>\n",
       "\t<tr><td>World   </td><td>OWID_WRL</td><td>1868    </td><td>3.63    </td></tr>\n",
       "\t<tr><td>World   </td><td>OWID_WRL</td><td>1869    </td><td>3.64    </td></tr>\n",
       "\t<tr><td>World   </td><td>OWID_WRL</td><td>1870    </td><td>3.86    </td></tr>\n",
       "</tbody>\n",
       "</table>\n"
      ],
      "text/latex": [
       "\\begin{tabular}{r|llll}\n",
       " Entity & Code & Year & OilPrice\\\\\n",
       "\\hline\n",
       "\t World      & OWID\\_WRL & 1861       & 0.49      \\\\\n",
       "\t World      & OWID\\_WRL & 1862       & 1.05      \\\\\n",
       "\t World      & OWID\\_WRL & 1863       & 3.15      \\\\\n",
       "\t World      & OWID\\_WRL & 1864       & 8.06      \\\\\n",
       "\t World      & OWID\\_WRL & 1865       & 6.59      \\\\\n",
       "\t World      & OWID\\_WRL & 1866       & 3.74      \\\\\n",
       "\t World      & OWID\\_WRL & 1867       & 2.41      \\\\\n",
       "\t World      & OWID\\_WRL & 1868       & 3.63      \\\\\n",
       "\t World      & OWID\\_WRL & 1869       & 3.64      \\\\\n",
       "\t World      & OWID\\_WRL & 1870       & 3.86      \\\\\n",
       "\\end{tabular}\n"
      ],
      "text/markdown": [
       "\n",
       "| Entity | Code | Year | OilPrice |\n",
       "|---|---|---|---|\n",
       "| World    | OWID_WRL | 1861     | 0.49     |\n",
       "| World    | OWID_WRL | 1862     | 1.05     |\n",
       "| World    | OWID_WRL | 1863     | 3.15     |\n",
       "| World    | OWID_WRL | 1864     | 8.06     |\n",
       "| World    | OWID_WRL | 1865     | 6.59     |\n",
       "| World    | OWID_WRL | 1866     | 3.74     |\n",
       "| World    | OWID_WRL | 1867     | 2.41     |\n",
       "| World    | OWID_WRL | 1868     | 3.63     |\n",
       "| World    | OWID_WRL | 1869     | 3.64     |\n",
       "| World    | OWID_WRL | 1870     | 3.86     |\n",
       "\n"
      ],
      "text/plain": [
       "   Entity Code     Year OilPrice\n",
       "1  World  OWID_WRL 1861 0.49    \n",
       "2  World  OWID_WRL 1862 1.05    \n",
       "3  World  OWID_WRL 1863 3.15    \n",
       "4  World  OWID_WRL 1864 8.06    \n",
       "5  World  OWID_WRL 1865 6.59    \n",
       "6  World  OWID_WRL 1866 3.74    \n",
       "7  World  OWID_WRL 1867 2.41    \n",
       "8  World  OWID_WRL 1868 3.63    \n",
       "9  World  OWID_WRL 1869 3.64    \n",
       "10 World  OWID_WRL 1870 3.86    "
      ]
     },
     "metadata": {},
     "output_type": "display_data"
    }
   ],
   "source": [
    "oil_price_df<-read.csv2(file=\"crude-oil-prices.csv\",skip = 1, sep=\",\", dec=\".\", header = T)\n",
    "oil_price_df[1:10,]"
   ]
  },
  {
   "cell_type": "markdown",
   "id": "suspended-tracy",
   "metadata": {},
   "source": [
    "### 2) produce a plot with the Oil price as a function of the year"
   ]
  },
  {
   "cell_type": "code",
   "execution_count": 8,
   "id": "played-corporation",
   "metadata": {},
   "outputs": [
    {
     "data": {
      "image/png": "[encoded data removed]",
      "text/plain": [
       "Plot with title \"oilprice behaviour\""
      ]
     },
     "metadata": {},
     "output_type": "display_data"
    }
   ],
   "source": [
    "year<-oil_price_df[,3]\n",
    "price<-oil_price_df[,4]\n",
    "plot(year,price,main=\"oilprice behaviour\",type=\"l\",col=\"coral2\",xlab=\"years\",ylab=\"price\")\n",
    "lines(year,price,type=\"p\",col=\"deepskyblue4\",bg=\"darkblue\")\n",
    "grid(nx = NULL, ny = NULL, col = \"lightgray\", lty = \"dotted\")"
   ]
  },
  {
   "cell_type": "markdown",
   "id": "viral-freeware",
   "metadata": {},
   "source": [
    "### 3) which is the highest price in history ? When did it occur ?"
   ]
  },
  {
   "cell_type": "code",
   "execution_count": 9,
   "id": "rocky-carol",
   "metadata": {},
   "outputs": [
    {
     "name": "stdout",
     "output_type": "stream",
     "text": [
      "The highest price achieved is  111.6697 in the year 2012"
     ]
    }
   ],
   "source": [
    "highest_price<-max(as.numeric(as.character(price) ) )\n",
    "year_highest_price<-year[as.numeric(as.character(price) )==highest_price]\n",
    "\n",
    "cat(\"The highest price achieved is \",highest_price,\"in the year\",year_highest_price)"
   ]
  },
  {
   "cell_type": "markdown",
   "id": "rocky-reward",
   "metadata": {},
   "source": [
    "### 4) plot the derivative of the curve, simply evaluated with the finite difference formula "
   ]
  },
  {
   "cell_type": "code",
   "execution_count": 10,
   "id": "alien-present",
   "metadata": {},
   "outputs": [],
   "source": [
    "oil_price_diff<-c(0,price[2]-price[1])\n",
    "\n",
    "for (i in 2: (length(price)-1) ) {\n",
    "    der<-price[i+1]-price[i]\n",
    "    oil_price_diff<-c(oil_price_diff,der)\n",
    "}"
   ]
  },
  {
   "cell_type": "code",
   "execution_count": 11,
   "id": "physical-ready",
   "metadata": {},
   "outputs": [
    {
     "data": {
      "image/png": "[encoded data removed]",
      "text/plain": [
       "Plot with title \" derivative oilprice's behaviour\""
      ]
     },
     "metadata": {},
     "output_type": "display_data"
    }
   ],
   "source": [
    "plot(year,oil_price_diff,main=\" derivative oilprice's behaviour\",type=\"l\",col=\"coral2\",xlab=\"Years\",ylab=\"oil price der\",\n",
    "     lwd=\"2\")\n",
    "lines(year,oil_price_diff,type=\"p\",col=\"deepskyblue4\",bg=\"darkblue\")\n",
    "grid(nx = NULL, ny = NULL, col = \"lightgray\", lty = \"dotted\")"
   ]
  },
  {
   "cell_type": "markdown",
   "id": "neural-basics",
   "metadata": {},
   "source": [
    "### Exercise 3 - World Coal Production"
   ]
  },
  {
   "cell_type": "markdown",
   "id": "greatest-webmaster",
   "metadata": {},
   "source": [
    "### 1) Write R code that is able to read the file and import it in a tibble structure"
   ]
  },
  {
   "cell_type": "code",
   "execution_count": 12,
   "id": "appointed-hormone",
   "metadata": {},
   "outputs": [
    {
     "name": "stderr",
     "output_type": "stream",
     "text": [
      "Warning message:\n",
      "\"package 'tidyverse' was built under R version 3.6.3\"-- Attaching packages --------------------------------------- tidyverse 1.3.0 --\n",
      "v ggplot2 3.3.3     v purrr   0.3.4\n",
      "v tibble  3.1.0     v dplyr   1.0.5\n",
      "v tidyr   1.1.3     v stringr 1.4.0\n",
      "v readr   1.3.1     v forcats 0.4.0\n",
      "Warning message:\n",
      "\"package 'ggplot2' was built under R version 3.6.3\"Warning message:\n",
      "\"package 'tibble' was built under R version 3.6.3\"Warning message:\n",
      "\"package 'tidyr' was built under R version 3.6.3\"Warning message:\n",
      "\"package 'purrr' was built under R version 3.6.3\"Warning message:\n",
      "\"package 'dplyr' was built under R version 3.6.3\"-- Conflicts ------------------------------------------ tidyverse_conflicts() --\n",
      "x dplyr::filter() masks stats::filter()\n",
      "x dplyr::lag()    masks stats::lag()\n"
     ]
    }
   ],
   "source": [
    "library(\"tidyverse\")"
   ]
  },
  {
   "cell_type": "code",
   "execution_count": 13,
   "id": "consistent-collapse",
   "metadata": {},
   "outputs": [
    {
     "name": "stdout",
     "output_type": "stream",
     "text": [
      "# A tibble: 11,528 x 4\n",
      "   Entity      Code   Year Coal.production..TWh.\n",
      "   <chr>       <chr> <int>                 <dbl>\n",
      " 1 Afghanistan AFG    1900                     0\n",
      " 2 Afghanistan AFG    1901                     0\n",
      " 3 Afghanistan AFG    1902                     0\n",
      " 4 Afghanistan AFG    1903                     0\n",
      " 5 Afghanistan AFG    1904                     0\n",
      " 6 Afghanistan AFG    1905                     0\n",
      " 7 Afghanistan AFG    1906                     0\n",
      " 8 Afghanistan AFG    1907                     0\n",
      " 9 Afghanistan AFG    1908                     0\n",
      "10 Afghanistan AFG    1909                     0\n",
      "11 Afghanistan AFG    1910                     0\n",
      "12 Afghanistan AFG    1911                     0\n",
      "13 Afghanistan AFG    1912                     0\n",
      "14 Afghanistan AFG    1913                     0\n",
      "15 Afghanistan AFG    1914                     0\n",
      "16 Afghanistan AFG    1915                     0\n",
      "17 Afghanistan AFG    1916                     0\n",
      "18 Afghanistan AFG    1917                     0\n",
      "19 Afghanistan AFG    1918                     0\n",
      "20 Afghanistan AFG    1919                     0\n",
      "# ... with 11,508 more rows\n"
     ]
    }
   ],
   "source": [
    "wcp<-read.csv2(file=\"coal-production-by-country.csv\",sep=\",\", dec=\".\", header = T,stringsAsFactors = FALSE)\n",
    "wcp<-as_tibble(wcp)\n",
    "print(wcp,n=20)"
   ]
  },
  {
   "cell_type": "markdown",
   "id": "toxic-advantage",
   "metadata": {},
   "source": [
    "### 2) count the number of countries available in the file and produce a barplot with the number of entries for each country"
   ]
  },
  {
   "cell_type": "markdown",
   "id": "heard-princeton",
   "metadata": {},
   "source": [
    "#### it is necessary do a \"filter\""
   ]
  },
  {
   "cell_type": "code",
   "execution_count": 14,
   "id": "stupid-surgeon",
   "metadata": {},
   "outputs": [
    {
     "name": "stdout",
     "output_type": "stream",
     "text": [
      "tibble[,4] [10,006 x 4] (S3: tbl_df/tbl/data.frame)\n",
      " $ Entity               : chr [1:10006] \"Afghanistan\" \"Afghanistan\" \"Afghanistan\" \"Afghanistan\" ...\n",
      " $ Code                 : chr [1:10006] \"AFG\" \"AFG\" \"AFG\" \"AFG\" ...\n",
      " $ Year                 : int [1:10006] 1900 1901 1902 1903 1904 1905 1906 1907 1908 1909 ...\n",
      " $ Coal.production..TWh.: num [1:10006] 0 0 0 0 0 0 0 0 0 0 ...\n"
     ]
    }
   ],
   "source": [
    "purified_wcp<-wcp\n",
    "not_countries<-c(\"Africa\",\"World\",\"Asia and Oceania\",\"Asia Pacific\",\"Central and South America\",\"EU-28\",\"Eurasia\",\"Europe\",\n",
    "                \"Europe (other)\",\"Middle East\",\"North America\",\"OECD\",\"OPEC\",\"Other Africa\",\"Other Asia & Pacific\",\n",
    "                \"Other CIS\",\"Other S. & Cent. America\",\"South and Central America\",\"South Africa\",\"CIS\")\n",
    "\n",
    "for (i in 1: (length(not_countries) ) ) {\n",
    "    purified_wcp<-purified_wcp[purified_wcp$Entity!=not_countries[i],]\n",
    "    }\n",
    "    \n",
    "str(purified_wcp)"
   ]
  },
  {
   "cell_type": "code",
   "execution_count": 15,
   "id": "cordless-thunder",
   "metadata": {},
   "outputs": [
    {
     "name": "stdout",
     "output_type": "stream",
     "text": [
      "The number of available countries is 181"
     ]
    }
   ],
   "source": [
    "countries<-as.data.frame( table(purified_wcp$Entity),stringsAsFactors = FALSE  )\n",
    "names(countries)<-c(\"countries\",\"freq\")\n",
    "\n",
    "cat(\"The number of available countries is\",length(countries$countries))"
   ]
  },
  {
   "cell_type": "markdown",
   "id": "blank-backup",
   "metadata": {},
   "source": [
    "#### Compute Total Coal Twh for each country"
   ]
  },
  {
   "cell_type": "code",
   "execution_count": 16,
   "id": "naked-richmond",
   "metadata": {},
   "outputs": [
    {
     "data": {
      "text/html": [
       "<table>\n",
       "<thead><tr><th scope=col>Countries</th><th scope=col>Total_Coal_TWh</th></tr></thead>\n",
       "<tbody>\n",
       "\t<tr><td>Afghanistan           </td><td>   94.401             </td></tr>\n",
       "\t<tr><td>Albania               </td><td>  122.630             </td></tr>\n",
       "\t<tr><td>Algeria               </td><td>   38.625             </td></tr>\n",
       "\t<tr><td>American Samoa        </td><td>    0.000             </td></tr>\n",
       "\t<tr><td>Antigua and Barbuda   </td><td>    0.000             </td></tr>\n",
       "\t<tr><td>Argentina             </td><td>   20.302             </td></tr>\n",
       "\t<tr><td>Armenia               </td><td>    0.000             </td></tr>\n",
       "\t<tr><td>Aruba                 </td><td>    0.000             </td></tr>\n",
       "\t<tr><td>Australia             </td><td>89546.909             </td></tr>\n",
       "\t<tr><td>Austria               </td><td> 4197.610             </td></tr>\n",
       "\t<tr><td>Bahamas               </td><td>    0.000             </td></tr>\n",
       "\t<tr><td>Barbados              </td><td>    0.000             </td></tr>\n",
       "\t<tr><td>Belgium               </td><td>11615.911             </td></tr>\n",
       "\t<tr><td>Belize                </td><td>    0.000             </td></tr>\n",
       "\t<tr><td>Benin                 </td><td>    0.000             </td></tr>\n",
       "\t<tr><td>Bermuda               </td><td>    0.000             </td></tr>\n",
       "\t<tr><td>Bhutan                </td><td>    9.400             </td></tr>\n",
       "\t<tr><td>Bosnia and Herzegovina</td><td>  573.077             </td></tr>\n",
       "\t<tr><td>Botswana              </td><td>  221.976             </td></tr>\n",
       "\t<tr><td>Brazil                </td><td> 1653.696             </td></tr>\n",
       "</tbody>\n",
       "</table>\n"
      ],
      "text/latex": [
       "\\begin{tabular}{r|ll}\n",
       " Countries & Total\\_Coal\\_TWh\\\\\n",
       "\\hline\n",
       "\t Afghanistan            &    94.401             \\\\\n",
       "\t Albania                &   122.630             \\\\\n",
       "\t Algeria                &    38.625             \\\\\n",
       "\t American Samoa         &     0.000             \\\\\n",
       "\t Antigua and Barbuda    &     0.000             \\\\\n",
       "\t Argentina              &    20.302             \\\\\n",
       "\t Armenia                &     0.000             \\\\\n",
       "\t Aruba                  &     0.000             \\\\\n",
       "\t Australia              & 89546.909             \\\\\n",
       "\t Austria                &  4197.610             \\\\\n",
       "\t Bahamas                &     0.000             \\\\\n",
       "\t Barbados               &     0.000             \\\\\n",
       "\t Belgium                & 11615.911             \\\\\n",
       "\t Belize                 &     0.000             \\\\\n",
       "\t Benin                  &     0.000             \\\\\n",
       "\t Bermuda                &     0.000             \\\\\n",
       "\t Bhutan                 &     9.400             \\\\\n",
       "\t Bosnia and Herzegovina &   573.077             \\\\\n",
       "\t Botswana               &   221.976             \\\\\n",
       "\t Brazil                 &  1653.696             \\\\\n",
       "\\end{tabular}\n"
      ],
      "text/markdown": [
       "\n",
       "| Countries | Total_Coal_TWh |\n",
       "|---|---|\n",
       "| Afghanistan            |    94.401              |\n",
       "| Albania                |   122.630              |\n",
       "| Algeria                |    38.625              |\n",
       "| American Samoa         |     0.000              |\n",
       "| Antigua and Barbuda    |     0.000              |\n",
       "| Argentina              |    20.302              |\n",
       "| Armenia                |     0.000              |\n",
       "| Aruba                  |     0.000              |\n",
       "| Australia              | 89546.909              |\n",
       "| Austria                |  4197.610              |\n",
       "| Bahamas                |     0.000              |\n",
       "| Barbados               |     0.000              |\n",
       "| Belgium                | 11615.911              |\n",
       "| Belize                 |     0.000              |\n",
       "| Benin                  |     0.000              |\n",
       "| Bermuda                |     0.000              |\n",
       "| Bhutan                 |     9.400              |\n",
       "| Bosnia and Herzegovina |   573.077              |\n",
       "| Botswana               |   221.976              |\n",
       "| Brazil                 |  1653.696              |\n",
       "\n"
      ],
      "text/plain": [
       "   Countries              Total_Coal_TWh\n",
       "1  Afghanistan               94.401     \n",
       "2  Albania                  122.630     \n",
       "3  Algeria                   38.625     \n",
       "4  American Samoa             0.000     \n",
       "5  Antigua and Barbuda        0.000     \n",
       "6  Argentina                 20.302     \n",
       "7  Armenia                    0.000     \n",
       "8  Aruba                      0.000     \n",
       "9  Australia              89546.909     \n",
       "10 Austria                 4197.610     \n",
       "11 Bahamas                    0.000     \n",
       "12 Barbados                   0.000     \n",
       "13 Belgium                11615.911     \n",
       "14 Belize                     0.000     \n",
       "15 Benin                      0.000     \n",
       "16 Bermuda                    0.000     \n",
       "17 Bhutan                     9.400     \n",
       "18 Bosnia and Herzegovina   573.077     \n",
       "19 Botswana                 221.976     \n",
       "20 Brazil                  1653.696     "
      ]
     },
     "metadata": {},
     "output_type": "display_data"
    }
   ],
   "source": [
    "df_purified<-as.data.frame(purified_wcp,stringsAsFactors = FALSE )\n",
    "\n",
    "total_production<-sum(df_purified$Coal[df_purified$Entity==countries$countries[1] ] )\n",
    "\n",
    "for (i in 2: (length(countries$countries) ) ) {\n",
    "total_production<-c(total_production,sum(df_purified$Coal[df_purified$Entity==countries$countries[i] ]  ) )\n",
    "}\n",
    "\n",
    "countries_total_prdouction<-data.frame( Countries=countries$countries,\n",
    "                                         Total_Coal_TWh=total_production,stringsAsFactors = FALSE )\n",
    "\n",
    "countries_total_prdouction[1:20,]"
   ]
  },
  {
   "cell_type": "code",
   "execution_count": 17,
   "id": "lesser-digit",
   "metadata": {},
   "outputs": [
    {
     "data": {
      "image/png": "[encoded data removed]",
      "text/plain": [
       "Plot with title \"The biggest coil producer in the World between 1900-2019\""
      ]
     },
     "metadata": {},
     "output_type": "display_data"
    }
   ],
   "source": [
    "ordered_countries<- countries_total_prdouction[order(-countries_total_prdouction$Total_Coal_TWh),]\n",
    "ordered_countries<- ordered_countries[1:5,]\n",
    "barplot(height=ordered_countries$Total_Coal_TWh,names.arg=ordered_countries$Countries,\n",
    "        col=c( \"lightblue\" ,\"mistyrose\"  , \"lightcyan \",\"lavender \" , \"cornsilk \" ) ,\n",
    "        xlab=\"Countries\",ylab=\"Total Coal TWh\",legend=ordered_countries$Countries )\n",
    "\n",
    "title(main=\"The biggest coil producer in the World between 1900-2019\")"
   ]
  },
  {
   "cell_type": "markdown",
   "id": "valid-letters",
   "metadata": {},
   "source": [
    "## For the following items select only the years >= 1970:"
   ]
  },
  {
   "cell_type": "markdown",
   "id": "noted-joseph",
   "metadata": {},
   "source": [
    "### 3) selecting only the year after 1970, determine the total integrated production for each country and print the top 5 Countries with highest coal productions"
   ]
  },
  {
   "cell_type": "code",
   "execution_count": 18,
   "id": "arranged-laugh",
   "metadata": {},
   "outputs": [
    {
     "data": {
      "text/html": [
       "<table>\n",
       "<thead><tr><th scope=col>Countries</th><th scope=col>Total_Coal_TWh_after1970</th></tr></thead>\n",
       "<tbody>\n",
       "\t<tr><td>Afghanistan           </td><td>   83.102             </td></tr>\n",
       "\t<tr><td>Albania               </td><td>  101.490             </td></tr>\n",
       "\t<tr><td>Algeria               </td><td>    0.000             </td></tr>\n",
       "\t<tr><td>American Samoa        </td><td>    0.000             </td></tr>\n",
       "\t<tr><td>Antigua and Barbuda   </td><td>    0.000             </td></tr>\n",
       "\t<tr><td>Argentina             </td><td>    0.000             </td></tr>\n",
       "\t<tr><td>Armenia               </td><td>    0.000             </td></tr>\n",
       "\t<tr><td>Aruba                 </td><td>    0.000             </td></tr>\n",
       "\t<tr><td>Australia             </td><td>83077.065             </td></tr>\n",
       "\t<tr><td>Austria               </td><td>    0.000             </td></tr>\n",
       "\t<tr><td>Bahamas               </td><td>    0.000             </td></tr>\n",
       "\t<tr><td>Barbados              </td><td>    0.000             </td></tr>\n",
       "\t<tr><td>Belgium               </td><td>    0.000             </td></tr>\n",
       "\t<tr><td>Belize                </td><td>    0.000             </td></tr>\n",
       "\t<tr><td>Benin                 </td><td>    0.000             </td></tr>\n",
       "\t<tr><td>Bermuda               </td><td>    0.000             </td></tr>\n",
       "\t<tr><td>Bhutan                </td><td>    9.400             </td></tr>\n",
       "\t<tr><td>Bosnia and Herzegovina</td><td>  573.077             </td></tr>\n",
       "\t<tr><td>Botswana              </td><td>  221.976             </td></tr>\n",
       "\t<tr><td>Brazil                </td><td> 1252.920             </td></tr>\n",
       "</tbody>\n",
       "</table>\n"
      ],
      "text/latex": [
       "\\begin{tabular}{r|ll}\n",
       " Countries & Total\\_Coal\\_TWh\\_after1970\\\\\n",
       "\\hline\n",
       "\t Afghanistan            &    83.102             \\\\\n",
       "\t Albania                &   101.490             \\\\\n",
       "\t Algeria                &     0.000             \\\\\n",
       "\t American Samoa         &     0.000             \\\\\n",
       "\t Antigua and Barbuda    &     0.000             \\\\\n",
       "\t Argentina              &     0.000             \\\\\n",
       "\t Armenia                &     0.000             \\\\\n",
       "\t Aruba                  &     0.000             \\\\\n",
       "\t Australia              & 83077.065             \\\\\n",
       "\t Austria                &     0.000             \\\\\n",
       "\t Bahamas                &     0.000             \\\\\n",
       "\t Barbados               &     0.000             \\\\\n",
       "\t Belgium                &     0.000             \\\\\n",
       "\t Belize                 &     0.000             \\\\\n",
       "\t Benin                  &     0.000             \\\\\n",
       "\t Bermuda                &     0.000             \\\\\n",
       "\t Bhutan                 &     9.400             \\\\\n",
       "\t Bosnia and Herzegovina &   573.077             \\\\\n",
       "\t Botswana               &   221.976             \\\\\n",
       "\t Brazil                 &  1252.920             \\\\\n",
       "\\end{tabular}\n"
      ],
      "text/markdown": [
       "\n",
       "| Countries | Total_Coal_TWh_after1970 |\n",
       "|---|---|\n",
       "| Afghanistan            |    83.102              |\n",
       "| Albania                |   101.490              |\n",
       "| Algeria                |     0.000              |\n",
       "| American Samoa         |     0.000              |\n",
       "| Antigua and Barbuda    |     0.000              |\n",
       "| Argentina              |     0.000              |\n",
       "| Armenia                |     0.000              |\n",
       "| Aruba                  |     0.000              |\n",
       "| Australia              | 83077.065              |\n",
       "| Austria                |     0.000              |\n",
       "| Bahamas                |     0.000              |\n",
       "| Barbados               |     0.000              |\n",
       "| Belgium                |     0.000              |\n",
       "| Belize                 |     0.000              |\n",
       "| Benin                  |     0.000              |\n",
       "| Bermuda                |     0.000              |\n",
       "| Bhutan                 |     9.400              |\n",
       "| Bosnia and Herzegovina |   573.077              |\n",
       "| Botswana               |   221.976              |\n",
       "| Brazil                 |  1252.920              |\n",
       "\n"
      ],
      "text/plain": [
       "   Countries              Total_Coal_TWh_after1970\n",
       "1  Afghanistan               83.102               \n",
       "2  Albania                  101.490               \n",
       "3  Algeria                    0.000               \n",
       "4  American Samoa             0.000               \n",
       "5  Antigua and Barbuda        0.000               \n",
       "6  Argentina                  0.000               \n",
       "7  Armenia                    0.000               \n",
       "8  Aruba                      0.000               \n",
       "9  Australia              83077.065               \n",
       "10 Austria                    0.000               \n",
       "11 Bahamas                    0.000               \n",
       "12 Barbados                   0.000               \n",
       "13 Belgium                    0.000               \n",
       "14 Belize                     0.000               \n",
       "15 Benin                      0.000               \n",
       "16 Bermuda                    0.000               \n",
       "17 Bhutan                     9.400               \n",
       "18 Bosnia and Herzegovina   573.077               \n",
       "19 Botswana                 221.976               \n",
       "20 Brazil                  1252.920               "
      ]
     },
     "metadata": {},
     "output_type": "display_data"
    }
   ],
   "source": [
    "\n",
    "total_production_after1970<-sum(df_purified$Coal[ df_purified$Entity==countries$countries[1] & df_purified$Year>=1970 ] )\n",
    "\n",
    "for (i in 2: (length(countries$countries) ) ) {\n",
    "total_production_after1970<-c(total_production_after1970,sum(df_purified$Coal[df_purified$Entity==countries$countries[i] & \n",
    "                                                                    df_purified$Year>=1970  ]  ) )\n",
    "}\n",
    "\n",
    "countries_total_prdouction_after1970<-data.frame( Countries=countries$countries,\n",
    "                                         Total_Coal_TWh_after1970=total_production_after1970,stringsAsFactors = FALSE )\n",
    "\n",
    "countries_total_prdouction_after1970[1:20,]\n"
   ]
  },
  {
   "cell_type": "code",
   "execution_count": 19,
   "id": "timely-polish",
   "metadata": {},
   "outputs": [
    {
     "data": {
      "text/html": [
       "<table>\n",
       "<thead><tr><th></th><th scope=col>Countries</th><th scope=col>Total_Coal_TWh_after1970</th></tr></thead>\n",
       "<tbody>\n",
       "\t<tr><th scope=row>33</th><td>China        </td><td>459564.65    </td></tr>\n",
       "\t<tr><th scope=row>169</th><td>United States</td><td>226068.84    </td></tr>\n",
       "\t<tr><th scope=row>136</th><td>Russia       </td><td>101908.49    </td></tr>\n",
       "\t<tr><th scope=row>9</th><td>Australia    </td><td> 83077.07    </td></tr>\n",
       "\t<tr><th scope=row>75</th><td>India        </td><td> 77043.45    </td></tr>\n",
       "</tbody>\n",
       "</table>\n"
      ],
      "text/latex": [
       "\\begin{tabular}{r|ll}\n",
       "  & Countries & Total\\_Coal\\_TWh\\_after1970\\\\\n",
       "\\hline\n",
       "\t33 & China         & 459564.65    \\\\\n",
       "\t169 & United States & 226068.84    \\\\\n",
       "\t136 & Russia        & 101908.49    \\\\\n",
       "\t9 & Australia     &  83077.07    \\\\\n",
       "\t75 & India         &  77043.45    \\\\\n",
       "\\end{tabular}\n"
      ],
      "text/markdown": [
       "\n",
       "| <!--/--> | Countries | Total_Coal_TWh_after1970 |\n",
       "|---|---|---|\n",
       "| 33 | China         | 459564.65     |\n",
       "| 169 | United States | 226068.84     |\n",
       "| 136 | Russia        | 101908.49     |\n",
       "| 9 | Australia     |  83077.07     |\n",
       "| 75 | India         |  77043.45     |\n",
       "\n"
      ],
      "text/plain": [
       "    Countries     Total_Coal_TWh_after1970\n",
       "33  China         459564.65               \n",
       "169 United States 226068.84               \n",
       "136 Russia        101908.49               \n",
       "9   Australia      83077.07               \n",
       "75  India          77043.45               "
      ]
     },
     "metadata": {},
     "output_type": "display_data"
    }
   ],
   "source": [
    "ordered_countries_after1970<- countries_total_prdouction_after1970[order(-countries_total_prdouction_after1970$Total_Coal_TWh),]\n",
    "highest_ordered_countries<- ordered_countries_after1970[1:5,]\n",
    "highest_ordered_countries"
   ]
  },
  {
   "cell_type": "markdown",
   "id": "hired-gregory",
   "metadata": {},
   "source": [
    "### 4) for the 5 top Countries, create a plot of production as a function of time"
   ]
  },
  {
   "cell_type": "code",
   "execution_count": 20,
   "id": "bridal-nevada",
   "metadata": {},
   "outputs": [
    {
     "data": {
      "image/png": "[encoded data removed]",
      "text/plain": [
       "Plot with title \"highest coil producer countries 1970-2019\""
      ]
     },
     "metadata": {},
     "output_type": "display_data"
    }
   ],
   "source": [
    "color= c(\"red\",\"blue4\",\"cyan2\",\"dodgerblue4\",\"darkorange3\")\n",
    "year_coil_after1970<-filter(df_purified,df_purified$Entity==highest_ordered_countries$Countries[1],df_purified$Year>=1970)\n",
    "\n",
    "plot(year_coil_after1970$Year,log(year_coil_after1970$Coal),ylim=c(6.5,log(22000) ),xlim=c(1982,2019),\n",
    "     type=\"l\",col=color[1],lwd='2',xlab=\"Years\",ylab=\"log(coal prduction TWh after1970)\")\n",
    "title(main=\"highest coil producer countries 1970-2019\")\n",
    "\n",
    "for (i in 2: (length(ordered_countries_after1970$Countries) ) ) \n",
    "{\n",
    "year_coil_after1970<-filter(df_purified,df_purified$Entity==highest_ordered_countries$Countries[i],df_purified$Year>=1970)\n",
    "\n",
    "lines(year_coil_after1970$Year,log(year_coil_after1970$Coal),col=color[i],lwd='2')\n",
    "\n",
    "}\n",
    "\n",
    "legend(x=1982,y=10,legend=highest_ordered_countries$Countries,fill=color,box.col=\"black\")\n",
    "grid(nx = NULL, ny = NULL, col = \"lightgray\", lty = \"dotted\")"
   ]
  },
  {
   "cell_type": "markdown",
   "id": "laughing-horse",
   "metadata": {},
   "source": [
    "### 5) generate a plot with the cumulative sum of the World's coal production over the years"
   ]
  },
  {
   "cell_type": "code",
   "execution_count": 21,
   "id": "acquired-disorder",
   "metadata": {},
   "outputs": [],
   "source": [
    "years<-c(1900:2019)\n",
    "world_coal_production<-sum(df_purified$Coal[df_purified$Year==years[1]] )\n",
    "\n",
    "for (i in 2:length(years)) {\n",
    "    \n",
    "world_coal_production<-c(world_coal_production,sum(df_purified$Coal[df_purified$Year==years[i]]) )\n",
    "    \n",
    "}"
   ]
  },
  {
   "cell_type": "code",
   "execution_count": 22,
   "id": "reserved-concord",
   "metadata": {},
   "outputs": [
    {
     "data": {
      "image/png": "[encoded data removed]",
      "text/plain": [
       "Plot with title \"World coal production 1900-2019\""
      ]
     },
     "metadata": {},
     "output_type": "display_data"
    }
   ],
   "source": [
    "plot(years,world_coal_production,type=\"h\",col=\"skyblue\",xlab=\"Years\",ylab=\"coal production TWh\",lwd='3')\n",
    "title(main=\"World coal production 1900-2019\")\n",
    "lines(years,world_coal_production,type=\"l\",col=\"darkblue\",lwd='2')"
   ]
  },
  {
   "cell_type": "markdown",
   "id": "missing-banking",
   "metadata": {},
   "source": [
    "## Exercise 4 - Covid19 Vaccine data"
   ]
  },
  {
   "cell_type": "markdown",
   "id": "everyday-taxation",
   "metadata": {},
   "source": [
    "### 1) filter() the original tibble by selecting the following countries: Italy"
   ]
  },
  {
   "cell_type": "code",
   "execution_count": 23,
   "id": "metropolitan-civilization",
   "metadata": {},
   "outputs": [
    {
     "name": "stdout",
     "output_type": "stream",
     "text": [
      "# A tibble: 255 x 4\n",
      "    location date       vaccine            total_vaccinations\n",
      "    <chr>    <chr>      <chr>                           <int>\n",
      "  1 Italy    2020-12-27 Pfizer/BioNTech                  7152\n",
      "  2 Italy    2020-12-28 Pfizer/BioNTech                  8573\n",
      "  3 Italy    2020-12-29 Pfizer/BioNTech                  9578\n",
      "  4 Italy    2020-12-30 Pfizer/BioNTech                 14304\n",
      "  5 Italy    2020-12-31 Pfizer/BioNTech                 39776\n",
      "  6 Italy    2021-01-01 Pfizer/BioNTech                 50827\n",
      "  7 Italy    2021-01-02 Pfizer/BioNTech                 89330\n",
      "  8 Italy    2021-01-03 Pfizer/BioNTech                124464\n",
      "  9 Italy    2021-01-04 Pfizer/BioNTech                193093\n",
      " 10 Italy    2021-01-05 Pfizer/BioNTech                272630\n",
      " 11 Italy    2021-01-06 Pfizer/BioNTech                337803\n",
      " 12 Italy    2021-01-07 Pfizer/BioNTech                429962\n",
      " 13 Italy    2021-01-08 Moderna                             1\n",
      " 14 Italy    2021-01-08 Pfizer/BioNTech                525458\n",
      " 15 Italy    2021-01-09 Pfizer/BioNTech                612322\n",
      " 16 Italy    2021-01-10 Pfizer/BioNTech                672648\n",
      " 17 Italy    2021-01-11 Pfizer/BioNTech                753537\n",
      " 18 Italy    2021-01-12 Pfizer/BioNTech                835361\n",
      " 19 Italy    2021-01-13 Moderna                             2\n",
      " 20 Italy    2021-01-13 Pfizer/BioNTech                929624\n",
      " 21 Italy    2021-01-14 Moderna                            86\n",
      " 22 Italy    2021-01-14 Pfizer/BioNTech               1022803\n",
      " 23 Italy    2021-01-15 Moderna                          1180\n",
      " 24 Italy    2021-01-15 Pfizer/BioNTech               1110829\n",
      " 25 Italy    2021-01-16 Moderna                          2090\n",
      " 26 Italy    2021-01-16 Pfizer/BioNTech               1174555\n",
      " 27 Italy    2021-01-17 Moderna                          2383\n",
      " 28 Italy    2021-01-17 Pfizer/BioNTech               1211002\n",
      " 29 Italy    2021-01-18 Moderna                          3601\n",
      " 30 Italy    2021-01-18 Pfizer/BioNTech               1253093\n",
      " 31 Italy    2021-01-19 Moderna                          5692\n",
      " 32 Italy    2021-01-19 Pfizer/BioNTech               1283415\n",
      " 33 Italy    2021-01-20 Moderna                          8969\n",
      " 34 Italy    2021-01-20 Pfizer/BioNTech               1310342\n",
      " 35 Italy    2021-01-21 Moderna                         11760\n",
      " 36 Italy    2021-01-21 Pfizer/BioNTech               1342704\n",
      " 37 Italy    2021-01-22 Moderna                         13496\n",
      " 38 Italy    2021-01-22 Oxford/AstraZeneca                  3\n",
      " 39 Italy    2021-01-22 Pfizer/BioNTech               1367076\n",
      " 40 Italy    2021-01-23 Moderna                         14496\n",
      " 41 Italy    2021-01-23 Pfizer/BioNTech               1404473\n",
      " 42 Italy    2021-01-24 Moderna                         15290\n",
      " 43 Italy    2021-01-24 Pfizer/BioNTech               1437320\n",
      " 44 Italy    2021-01-25 Moderna                         15888\n",
      " 45 Italy    2021-01-25 Pfizer/BioNTech               1505383\n",
      " 46 Italy    2021-01-26 Moderna                         16635\n",
      " 47 Italy    2021-01-26 Pfizer/BioNTech               1584446\n",
      " 48 Italy    2021-01-27 Moderna                         17255\n",
      " 49 Italy    2021-01-27 Pfizer/BioNTech               1654281\n",
      " 50 Italy    2021-01-28 Moderna                         18029\n",
      " 51 Italy    2021-01-28 Pfizer/BioNTech               1746670\n",
      " 52 Italy    2021-01-29 Moderna                         18836\n",
      " 53 Italy    2021-01-29 Pfizer/BioNTech               1843208\n",
      " 54 Italy    2021-01-30 Moderna                         19303\n",
      " 55 Italy    2021-01-30 Oxford/AstraZeneca                  4\n",
      " 56 Italy    2021-01-30 Pfizer/BioNTech               1932621\n",
      " 57 Italy    2021-01-31 Moderna                         19500\n",
      " 58 Italy    2021-01-31 Pfizer/BioNTech               1991772\n",
      " 59 Italy    2021-02-01 Moderna                         20051\n",
      " 60 Italy    2021-02-01 Oxford/AstraZeneca                  5\n",
      " 61 Italy    2021-02-01 Pfizer/BioNTech               2076567\n",
      " 62 Italy    2021-02-02 Moderna                         21142\n",
      " 63 Italy    2021-02-02 Oxford/AstraZeneca                 15\n",
      " 64 Italy    2021-02-02 Pfizer/BioNTech               2163126\n",
      " 65 Italy    2021-02-03 Moderna                         22526\n",
      " 66 Italy    2021-02-03 Pfizer/BioNTech               2260957\n",
      " 67 Italy    2021-02-04 Moderna                         24159\n",
      " 68 Italy    2021-02-04 Pfizer/BioNTech               2366047\n",
      " 69 Italy    2021-02-05 Moderna                         27374\n",
      " 70 Italy    2021-02-05 Oxford/AstraZeneca                 17\n",
      " 71 Italy    2021-02-05 Pfizer/BioNTech               2469295\n",
      " 72 Italy    2021-02-06 Moderna                         29465\n",
      " 73 Italy    2021-02-06 Pfizer/BioNTech               2543771\n",
      " 74 Italy    2021-02-07 Moderna                         30057\n",
      " 75 Italy    2021-02-07 Oxford/AstraZeneca                 18\n",
      " 76 Italy    2021-02-07 Pfizer/BioNTech               2584636\n",
      " 77 Italy    2021-02-08 Moderna                         32629\n",
      " 78 Italy    2021-02-08 Oxford/AstraZeneca                 19\n",
      " 79 Italy    2021-02-08 Pfizer/BioNTech               2648153\n",
      " 80 Italy    2021-02-09 Moderna                         35955\n",
      " 81 Italy    2021-02-09 Pfizer/BioNTech               2710989\n",
      " 82 Italy    2021-02-10 Moderna                         38774\n",
      " 83 Italy    2021-02-10 Oxford/AstraZeneca                 20\n",
      " 84 Italy    2021-02-10 Pfizer/BioNTech               2780259\n",
      " 85 Italy    2021-02-11 Moderna                         41884\n",
      " 86 Italy    2021-02-11 Oxford/AstraZeneca               2921\n",
      " 87 Italy    2021-02-11 Pfizer/BioNTech               2848402\n",
      " 88 Italy    2021-02-12 Moderna                         46007\n",
      " 89 Italy    2021-02-12 Oxford/AstraZeneca               7408\n",
      " 90 Italy    2021-02-12 Pfizer/BioNTech               2912823\n",
      " 91 Italy    2021-02-13 Moderna                         49875\n",
      " 92 Italy    2021-02-13 Oxford/AstraZeneca              12660\n",
      " 93 Italy    2021-02-13 Pfizer/BioNTech               2955979\n",
      " 94 Italy    2021-02-14 Moderna                         51076\n",
      " 95 Italy    2021-02-14 Oxford/AstraZeneca              19710\n",
      " 96 Italy    2021-02-14 Pfizer/BioNTech               2976925\n",
      " 97 Italy    2021-02-15 Moderna                         55157\n",
      " 98 Italy    2021-02-15 Oxford/AstraZeneca              26681\n",
      " 99 Italy    2021-02-15 Pfizer/BioNTech               3028182\n",
      "100 Italy    2021-02-16 Moderna                         61806\n",
      "101 Italy    2021-02-16 Oxford/AstraZeneca              35936\n",
      "102 Italy    2021-02-16 Pfizer/BioNTech               3082940\n",
      "103 Italy    2021-02-17 Moderna                         69514\n",
      "104 Italy    2021-02-17 Oxford/AstraZeneca              48530\n",
      "105 Italy    2021-02-17 Pfizer/BioNTech               3142137\n",
      "106 Italy    2021-02-18 Moderna                         76512\n",
      "107 Italy    2021-02-18 Oxford/AstraZeneca              65906\n",
      "108 Italy    2021-02-18 Pfizer/BioNTech               3206844\n",
      "109 Italy    2021-02-19 Moderna                         83417\n",
      "110 Italy    2021-02-19 Oxford/AstraZeneca              84975\n",
      "111 Italy    2021-02-19 Pfizer/BioNTech               3272768\n",
      "112 Italy    2021-02-20 Moderna                         89775\n",
      "113 Italy    2021-02-20 Oxford/AstraZeneca             103949\n",
      "114 Italy    2021-02-20 Pfizer/BioNTech               3324922\n",
      "115 Italy    2021-02-21 Moderna                         95221\n",
      "116 Italy    2021-02-21 Oxford/AstraZeneca             114583\n",
      "117 Italy    2021-02-21 Pfizer/BioNTech               3359540\n",
      "118 Italy    2021-02-22 Moderna                        101092\n",
      "119 Italy    2021-02-22 Oxford/AstraZeneca             137875\n",
      "120 Italy    2021-02-22 Pfizer/BioNTech               3435530\n",
      "121 Italy    2021-02-23 Moderna                        106342\n",
      "122 Italy    2021-02-23 Oxford/AstraZeneca             162641\n",
      "123 Italy    2021-02-23 Pfizer/BioNTech               3511691\n",
      "124 Italy    2021-02-24 Moderna                        112510\n",
      "125 Italy    2021-02-24 Oxford/AstraZeneca             189797\n",
      "126 Italy    2021-02-24 Pfizer/BioNTech               3600139\n",
      "127 Italy    2021-02-25 Moderna                        118648\n",
      "128 Italy    2021-02-25 Oxford/AstraZeneca             221302\n",
      "129 Italy    2021-02-25 Pfizer/BioNTech               3690491\n",
      "130 Italy    2021-02-26 Moderna                        124204\n",
      "131 Italy    2021-02-26 Oxford/AstraZeneca             261461\n",
      "132 Italy    2021-02-26 Pfizer/BioNTech               3780428\n",
      "133 Italy    2021-02-27 Moderna                        131166\n",
      "134 Italy    2021-02-27 Oxford/AstraZeneca             305993\n",
      "135 Italy    2021-02-27 Pfizer/BioNTech               3855074\n",
      "136 Italy    2021-02-28 Moderna                        133856\n",
      "137 Italy    2021-02-28 Oxford/AstraZeneca             332381\n",
      "138 Italy    2021-02-28 Pfizer/BioNTech               3903917\n",
      "139 Italy    2021-03-01 Moderna                        140867\n",
      "140 Italy    2021-03-01 Oxford/AstraZeneca             372139\n",
      "141 Italy    2021-03-01 Pfizer/BioNTech               3991662\n",
      "142 Italy    2021-03-02 Moderna                        148328\n",
      "143 Italy    2021-03-02 Oxford/AstraZeneca             427588\n",
      "144 Italy    2021-03-02 Pfizer/BioNTech               4088178\n",
      "145 Italy    2021-03-03 Moderna                        158260\n",
      "146 Italy    2021-03-03 Oxford/AstraZeneca             484352\n",
      "147 Italy    2021-03-03 Pfizer/BioNTech               4206409\n",
      "148 Italy    2021-03-04 Moderna                        169147\n",
      "149 Italy    2021-03-04 Oxford/AstraZeneca             543204\n",
      "150 Italy    2021-03-04 Pfizer/BioNTech               4331570\n",
      "151 Italy    2021-03-05 Moderna                        181323\n",
      "152 Italy    2021-03-05 Oxford/AstraZeneca             606825\n",
      "153 Italy    2021-03-05 Pfizer/BioNTech               4458000\n",
      "154 Italy    2021-03-06 Moderna                        194418\n",
      "155 Italy    2021-03-06 Oxford/AstraZeneca             669320\n",
      "156 Italy    2021-03-06 Pfizer/BioNTech               4558061\n",
      "157 Italy    2021-03-07 Moderna                        201824\n",
      "158 Italy    2021-03-07 Oxford/AstraZeneca             704869\n",
      "159 Italy    2021-03-07 Pfizer/BioNTech               4615612\n",
      "160 Italy    2021-03-08 Moderna                        214062\n",
      "161 Italy    2021-03-08 Oxford/AstraZeneca             761570\n",
      "162 Italy    2021-03-08 Pfizer/BioNTech               4724321\n",
      "163 Italy    2021-03-09 Moderna                        226314\n",
      "164 Italy    2021-03-09 Oxford/AstraZeneca             820776\n",
      "165 Italy    2021-03-09 Pfizer/BioNTech               4843257\n",
      "166 Italy    2021-03-10 Moderna                        237243\n",
      "167 Italy    2021-03-10 Oxford/AstraZeneca             883516\n",
      "168 Italy    2021-03-10 Pfizer/BioNTech               4980388\n",
      "169 Italy    2021-03-11 Moderna                        249282\n",
      "170 Italy    2021-03-11 Oxford/AstraZeneca             950771\n",
      "171 Italy    2021-03-11 Pfizer/BioNTech               5119279\n",
      "172 Italy    2021-03-12 Moderna                        258924\n",
      "173 Italy    2021-03-12 Oxford/AstraZeneca            1020004\n",
      "174 Italy    2021-03-12 Pfizer/BioNTech               5247943\n",
      "175 Italy    2021-03-13 Moderna                        269812\n",
      "176 Italy    2021-03-13 Oxford/AstraZeneca            1085984\n",
      "177 Italy    2021-03-13 Pfizer/BioNTech               5346043\n",
      "178 Italy    2021-03-14 Moderna                        276558\n",
      "179 Italy    2021-03-14 Oxford/AstraZeneca            1126144\n",
      "180 Italy    2021-03-14 Pfizer/BioNTech               5404094\n",
      "181 Italy    2021-03-15 Moderna                        287193\n",
      "182 Italy    2021-03-15 Oxford/AstraZeneca            1172980\n",
      "183 Italy    2021-03-15 Pfizer/BioNTech               5516487\n",
      "184 Italy    2021-03-16 Moderna                        298985\n",
      "185 Italy    2021-03-16 Oxford/AstraZeneca            1173394\n",
      "186 Italy    2021-03-16 Pfizer/BioNTech               5643443\n",
      "187 Italy    2021-03-17 Moderna                        310144\n",
      "188 Italy    2021-03-17 Oxford/AstraZeneca            1173712\n",
      "189 Italy    2021-03-17 Pfizer/BioNTech               5796245\n",
      "190 Italy    2021-03-18 Moderna                        322831\n",
      "191 Italy    2021-03-18 Oxford/AstraZeneca            1173882\n",
      "192 Italy    2021-03-18 Pfizer/BioNTech               5945609\n",
      "193 Italy    2021-03-19 Moderna                        333817\n",
      "194 Italy    2021-03-19 Oxford/AstraZeneca            1191668\n",
      "195 Italy    2021-03-19 Pfizer/BioNTech               6090074\n",
      "196 Italy    2021-03-20 Moderna                        346082\n",
      "197 Italy    2021-03-20 Oxford/AstraZeneca            1240822\n",
      "198 Italy    2021-03-20 Pfizer/BioNTech               6201516\n",
      "199 Italy    2021-03-21 Moderna                        355446\n",
      "200 Italy    2021-03-21 Oxford/AstraZeneca            1284535\n",
      "201 Italy    2021-03-21 Pfizer/BioNTech               6277313\n",
      "202 Italy    2021-03-22 Moderna                        366913\n",
      "203 Italy    2021-03-22 Oxford/AstraZeneca            1351658\n",
      "204 Italy    2021-03-22 Pfizer/BioNTech               6388895\n",
      "205 Italy    2021-03-23 Moderna                        380084\n",
      "206 Italy    2021-03-23 Oxford/AstraZeneca            1427368\n",
      "207 Italy    2021-03-23 Pfizer/BioNTech               6519595\n",
      "208 Italy    2021-03-24 Moderna                        395000\n",
      "209 Italy    2021-03-24 Oxford/AstraZeneca            1500218\n",
      "210 Italy    2021-03-24 Pfizer/BioNTech               6680974\n",
      "211 Italy    2021-03-25 Moderna                        412231\n",
      "212 Italy    2021-03-25 Oxford/AstraZeneca            1577418\n",
      "213 Italy    2021-03-25 Pfizer/BioNTech               6847205\n",
      "214 Italy    2021-03-26 Moderna                        430281\n",
      "215 Italy    2021-03-26 Oxford/AstraZeneca            1655902\n",
      "216 Italy    2021-03-26 Pfizer/BioNTech               7013388\n",
      "217 Italy    2021-03-27 Moderna                        458221\n",
      "218 Italy    2021-03-27 Oxford/AstraZeneca            1722225\n",
      "219 Italy    2021-03-27 Pfizer/BioNTech               7155139\n",
      "220 Italy    2021-03-28 Moderna                        475151\n",
      "221 Italy    2021-03-28 Oxford/AstraZeneca            1776912\n",
      "222 Italy    2021-03-28 Pfizer/BioNTech               7243524\n",
      "223 Italy    2021-03-29 Moderna                        498975\n",
      "224 Italy    2021-03-29 Oxford/AstraZeneca            1845568\n",
      "225 Italy    2021-03-29 Pfizer/BioNTech               7387651\n",
      "226 Italy    2021-03-30 Moderna                        526409\n",
      "227 Italy    2021-03-30 Oxford/AstraZeneca            1914735\n",
      "228 Italy    2021-03-30 Pfizer/BioNTech               7546113\n",
      "229 Italy    2021-03-31 Moderna                        548350\n",
      "230 Italy    2021-03-31 Oxford/AstraZeneca            1981541\n",
      "231 Italy    2021-03-31 Pfizer/BioNTech               7753033\n",
      "232 Italy    2021-04-01 Moderna                        571921\n",
      "233 Italy    2021-04-01 Oxford/AstraZeneca            2032184\n",
      "234 Italy    2021-04-01 Pfizer/BioNTech               7954362\n",
      "235 Italy    2021-04-02 Moderna                        600616\n",
      "236 Italy    2021-04-02 Oxford/AstraZeneca            2095206\n",
      "237 Italy    2021-04-02 Pfizer/BioNTech               8133494\n",
      "238 Italy    2021-04-03 Moderna                        633956\n",
      "239 Italy    2021-04-03 Oxford/AstraZeneca            2139603\n",
      "240 Italy    2021-04-03 Pfizer/BioNTech               8275100\n",
      "241 Italy    2021-04-04 Moderna                        645719\n",
      "242 Italy    2021-04-04 Oxford/AstraZeneca            2177394\n",
      "243 Italy    2021-04-04 Pfizer/BioNTech               8319953\n",
      "244 Italy    2021-04-05 Moderna                        664856\n",
      "245 Italy    2021-04-05 Oxford/AstraZeneca            2234706\n",
      "246 Italy    2021-04-05 Pfizer/BioNTech               8409741\n",
      "247 Italy    2021-04-06 Moderna                        701966\n",
      "248 Italy    2021-04-06 Oxford/AstraZeneca            2315012\n",
      "249 Italy    2021-04-06 Pfizer/BioNTech               8563954\n",
      "250 Italy    2021-04-07 Moderna                        727085\n",
      "251 Italy    2021-04-07 Oxford/AstraZeneca            2386123\n",
      "252 Italy    2021-04-07 Pfizer/BioNTech               8742366\n",
      "253 Italy    2021-04-08 Moderna                        745163\n",
      "254 Italy    2021-04-08 Oxford/AstraZeneca            2418040\n",
      "255 Italy    2021-04-08 Pfizer/BioNTech               8896017\n"
     ]
    }
   ],
   "source": [
    "file<-as_tibble( read.csv(file=\"vaccinations-by-manufacturer.csv\",sep=\",\", header = T,stringsAsFactors = FALSE) )\n",
    "italy<-filter(file,file$location==\"Italy\")\n",
    "print(italy,n=256)"
   ]
  },
  {
   "cell_type": "markdown",
   "id": "higher-discrimination",
   "metadata": {},
   "source": [
    "### 2)plot the number of vaccines given as a function of time for the different vaccine manufacturer"
   ]
  },
  {
   "cell_type": "code",
   "execution_count": 24,
   "id": "neural-luxembourg",
   "metadata": {},
   "outputs": [
    {
     "data": {
      "text/html": [
       "<ol class=list-inline>\n",
       "\t<li>'Moderna'</li>\n",
       "\t<li>'Oxford/AstraZeneca'</li>\n",
       "\t<li>'Pfizer/BioNTech'</li>\n",
       "</ol>\n"
      ],
      "text/latex": [
       "\\begin{enumerate*}\n",
       "\\item 'Moderna'\n",
       "\\item 'Oxford/AstraZeneca'\n",
       "\\item 'Pfizer/BioNTech'\n",
       "\\end{enumerate*}\n"
      ],
      "text/markdown": [
       "1. 'Moderna'\n",
       "2. 'Oxford/AstraZeneca'\n",
       "3. 'Pfizer/BioNTech'\n",
       "\n",
       "\n"
      ],
      "text/plain": [
       "[1] \"Moderna\"            \"Oxford/AstraZeneca\" \"Pfizer/BioNTech\"   "
      ]
     },
     "metadata": {},
     "output_type": "display_data"
    }
   ],
   "source": [
    "\n",
    "vaccines<-as.data.frame( table(italy$vaccine),stringsAsFactors = FALSE  )\n",
    "names(vaccines)<-c(\"manufacturers\",\"freq\")\n",
    "vaccines$manufacturers\n"
   ]
  },
  {
   "cell_type": "code",
   "execution_count": 25,
   "id": "automotive-hypothetical",
   "metadata": {},
   "outputs": [
    {
     "data": {
      "image/png": "[encoded data removed]",
      "text/plain": [
       "plot without title"
      ]
     },
     "metadata": {},
     "output_type": "display_data"
    }
   ],
   "source": [
    "color<-c( \"red\",\"blue\",\"yellow\" )\n",
    "barplot(height=italy$total_vaccinations,names.arg=\"2020-12-27 to 2021-04-07\",\n",
    "        col=color ,xlab=\"time vaccination\",ylab=\"total vaccines\",space=1e-04)\n",
    "\n",
    "legend(\"topleft\",legend=vaccines$manufacturers,fill=color)"
   ]
  },
  {
   "cell_type": "markdown",
   "id": "protected-council",
   "metadata": {},
   "source": [
    "### 3) from the same tibble plot the total number of vaccines shot per day in Italy"
   ]
  },
  {
   "cell_type": "code",
   "execution_count": 26,
   "id": "legendary-audience",
   "metadata": {},
   "outputs": [],
   "source": [
    "date<-as.data.frame(table(italy$date),stringAsFactor=FALSE)\n",
    "names(date)<-c(\"dates\",\"freq\")"
   ]
  },
  {
   "cell_type": "code",
   "execution_count": 27,
   "id": "criminal-difficulty",
   "metadata": {},
   "outputs": [],
   "source": [
    "total_number_per_day<-sum(italy$total_vaccinations[italy$date==date$dates[1] ] )\n",
    "\n",
    "for (i in 2:length(date$dates) ) {\n",
    "    total_number_per_day<-c(total_number_per_day,sum(italy$total_vaccinations[italy$date==date$dates[i] ] ))\n",
    "}"
   ]
  },
  {
   "cell_type": "code",
   "execution_count": 28,
   "id": "minimal-adventure",
   "metadata": {},
   "outputs": [
    {
     "data": {
      "image/png": "[encoded data removed]",
      "text/plain": [
       "plot without title"
      ]
     },
     "metadata": {},
     "output_type": "display_data"
    }
   ],
   "source": [
    "barplot(height=total_number_per_day,names.arg=\"2020-12-27 to 2021-04-07\",\n",
    "        col=\"skyblue\",xlab=\"time vaccination\",ylab=\"vaccinations per day\" )"
   ]
  },
  {
   "cell_type": "markdown",
   "id": "victorian-synthesis",
   "metadata": {},
   "source": [
    "### 4) do the same exercise for the following countries: Germany and United States of America"
   ]
  },
  {
   "cell_type": "code",
   "execution_count": 29,
   "id": "further-telling",
   "metadata": {},
   "outputs": [
    {
     "name": "stdout",
     "output_type": "stream",
     "text": [
      "# A tibble: 309 x 4\n",
      "    location date       vaccine            total_vaccinations\n",
      "    <chr>    <chr>      <chr>                           <int>\n",
      "  1 Germany  2020-12-27 Moderna                             0\n",
      "  2 Germany  2020-12-27 Oxford/AstraZeneca                  0\n",
      "  3 Germany  2020-12-27 Pfizer/BioNTech                 24119\n",
      "  4 Germany  2020-12-28 Moderna                             0\n",
      "  5 Germany  2020-12-28 Oxford/AstraZeneca                  0\n",
      "  6 Germany  2020-12-28 Pfizer/BioNTech                 42503\n",
      "  7 Germany  2020-12-29 Moderna                             0\n",
      "  8 Germany  2020-12-29 Oxford/AstraZeneca                  0\n",
      "  9 Germany  2020-12-29 Pfizer/BioNTech                 91187\n",
      " 10 Germany  2020-12-30 Moderna                             0\n",
      " 11 Germany  2020-12-30 Oxford/AstraZeneca                  0\n",
      " 12 Germany  2020-12-30 Pfizer/BioNTech                152668\n",
      " 13 Germany  2020-12-31 Moderna                             0\n",
      " 14 Germany  2020-12-31 Oxford/AstraZeneca                  0\n",
      " 15 Germany  2020-12-31 Pfizer/BioNTech                202026\n",
      " 16 Germany  2021-01-01 Moderna                             0\n",
      " 17 Germany  2021-01-01 Oxford/AstraZeneca                  1\n",
      " 18 Germany  2021-01-01 Pfizer/BioNTech                221299\n",
      " 19 Germany  2021-01-02 Moderna                             0\n",
      " 20 Germany  2021-01-02 Oxford/AstraZeneca                  1\n",
      " 21 Germany  2021-01-02 Pfizer/BioNTech                273939\n",
      " 22 Germany  2021-01-03 Moderna                             0\n",
      " 23 Germany  2021-01-03 Oxford/AstraZeneca                  1\n",
      " 24 Germany  2021-01-03 Pfizer/BioNTech                298247\n",
      " 25 Germany  2021-01-04 Moderna                             0\n",
      " 26 Germany  2021-01-04 Oxford/AstraZeneca                  1\n",
      " 27 Germany  2021-01-04 Pfizer/BioNTech                346597\n",
      " 28 Germany  2021-01-05 Moderna                             1\n",
      " 29 Germany  2021-01-05 Oxford/AstraZeneca                  1\n",
      " 30 Germany  2021-01-05 Pfizer/BioNTech                399949\n",
      " 31 Germany  2021-01-06 Moderna                             2\n",
      " 32 Germany  2021-01-06 Oxford/AstraZeneca                  3\n",
      " 33 Germany  2021-01-06 Pfizer/BioNTech                462941\n",
      " 34 Germany  2021-01-07 Moderna                             2\n",
      " 35 Germany  2021-01-07 Oxford/AstraZeneca                  3\n",
      " 36 Germany  2021-01-07 Pfizer/BioNTech                519142\n",
      " 37 Germany  2021-01-08 Moderna                            47\n",
      " 38 Germany  2021-01-08 Oxford/AstraZeneca                  3\n",
      " 39 Germany  2021-01-08 Pfizer/BioNTech                582256\n",
      " 40 Germany  2021-01-09 Moderna                            47\n",
      " 41 Germany  2021-01-09 Oxford/AstraZeneca                  3\n",
      " 42 Germany  2021-01-09 Pfizer/BioNTech                643486\n",
      " 43 Germany  2021-01-10 Moderna                            47\n",
      " 44 Germany  2021-01-10 Oxford/AstraZeneca                  3\n",
      " 45 Germany  2021-01-10 Pfizer/BioNTech                678625\n",
      " 46 Germany  2021-01-11 Moderna                            48\n",
      " 47 Germany  2021-01-11 Oxford/AstraZeneca                  3\n",
      " 48 Germany  2021-01-11 Pfizer/BioNTech                744965\n",
      " 49 Germany  2021-01-12 Moderna                            48\n",
      " 50 Germany  2021-01-12 Oxford/AstraZeneca                  5\n",
      " 51 Germany  2021-01-12 Pfizer/BioNTech                827894\n",
      " 52 Germany  2021-01-13 Moderna                           845\n",
      " 53 Germany  2021-01-13 Oxford/AstraZeneca                  5\n",
      " 54 Germany  2021-01-13 Pfizer/BioNTech                938274\n",
      " 55 Germany  2021-01-14 Moderna                          5429\n",
      " 56 Germany  2021-01-14 Oxford/AstraZeneca                  5\n",
      " 57 Germany  2021-01-14 Pfizer/BioNTech               1016731\n",
      " 58 Germany  2021-01-15 Moderna                         10866\n",
      " 59 Germany  2021-01-15 Oxford/AstraZeneca                 24\n",
      " 60 Germany  2021-01-15 Pfizer/BioNTech               1101378\n",
      " 61 Germany  2021-01-16 Moderna                         12638\n",
      " 62 Germany  2021-01-16 Oxford/AstraZeneca                 24\n",
      " 63 Germany  2021-01-16 Pfizer/BioNTech               1156787\n",
      " 64 Germany  2021-01-17 Moderna                         13943\n",
      " 65 Germany  2021-01-17 Oxford/AstraZeneca                 25\n",
      " 66 Germany  2021-01-17 Pfizer/BioNTech               1202987\n",
      " 67 Germany  2021-01-18 Moderna                         17511\n",
      " 68 Germany  2021-01-18 Oxford/AstraZeneca                 26\n",
      " 69 Germany  2021-01-18 Pfizer/BioNTech               1280756\n",
      " 70 Germany  2021-01-19 Moderna                         20500\n",
      " 71 Germany  2021-01-19 Oxford/AstraZeneca                 76\n",
      " 72 Germany  2021-01-19 Pfizer/BioNTech               1390091\n",
      " 73 Germany  2021-01-20 Moderna                         23230\n",
      " 74 Germany  2021-01-20 Oxford/AstraZeneca                 80\n",
      " 75 Germany  2021-01-20 Pfizer/BioNTech               1518286\n",
      " 76 Germany  2021-01-21 Moderna                         25819\n",
      " 77 Germany  2021-01-21 Oxford/AstraZeneca                 80\n",
      " 78 Germany  2021-01-21 Pfizer/BioNTech               1619458\n",
      " 79 Germany  2021-01-22 Moderna                         27819\n",
      " 80 Germany  2021-01-22 Oxford/AstraZeneca                 92\n",
      " 81 Germany  2021-01-22 Pfizer/BioNTech               1719117\n",
      " 82 Germany  2021-01-23 Moderna                         28202\n",
      " 83 Germany  2021-01-23 Oxford/AstraZeneca                 93\n",
      " 84 Germany  2021-01-23 Pfizer/BioNTech               1804101\n",
      " 85 Germany  2021-01-24 Moderna                         28446\n",
      " 86 Germany  2021-01-24 Oxford/AstraZeneca                 97\n",
      " 87 Germany  2021-01-24 Pfizer/BioNTech               1853005\n",
      " 88 Germany  2021-01-25 Moderna                         30168\n",
      " 89 Germany  2021-01-25 Oxford/AstraZeneca                 99\n",
      " 90 Germany  2021-01-25 Pfizer/BioNTech               1947154\n",
      " 91 Germany  2021-01-26 Moderna                         31822\n",
      " 92 Germany  2021-01-26 Oxford/AstraZeneca                105\n",
      " 93 Germany  2021-01-26 Pfizer/BioNTech               2044519\n",
      " 94 Germany  2021-01-27 Moderna                         33748\n",
      " 95 Germany  2021-01-27 Oxford/AstraZeneca                113\n",
      " 96 Germany  2021-01-27 Pfizer/BioNTech               2153490\n",
      " 97 Germany  2021-01-28 Moderna                         35383\n",
      " 98 Germany  2021-01-28 Oxford/AstraZeneca                114\n",
      " 99 Germany  2021-01-28 Pfizer/BioNTech               2242983\n",
      "100 Germany  2021-01-29 Moderna                         36788\n",
      "101 Germany  2021-01-29 Oxford/AstraZeneca                182\n",
      "102 Germany  2021-01-29 Pfizer/BioNTech               2349722\n",
      "103 Germany  2021-01-30 Moderna                         37662\n",
      "104 Germany  2021-01-30 Oxford/AstraZeneca                183\n",
      "105 Germany  2021-01-30 Pfizer/BioNTech               2435188\n",
      "106 Germany  2021-01-31 Moderna                         38027\n",
      "107 Germany  2021-01-31 Oxford/AstraZeneca                183\n",
      "108 Germany  2021-01-31 Pfizer/BioNTech               2492225\n",
      "109 Germany  2021-02-01 Moderna                         40238\n",
      "110 Germany  2021-02-01 Oxford/AstraZeneca                240\n",
      "111 Germany  2021-02-01 Pfizer/BioNTech               2610476\n",
      "112 Germany  2021-02-02 Moderna                         43108\n",
      "113 Germany  2021-02-02 Oxford/AstraZeneca                254\n",
      "114 Germany  2021-02-02 Pfizer/BioNTech               2737222\n",
      "115 Germany  2021-02-03 Moderna                         49057\n",
      "116 Germany  2021-02-03 Oxford/AstraZeneca                274\n",
      "117 Germany  2021-02-03 Pfizer/BioNTech               2888670\n",
      "118 Germany  2021-02-04 Moderna                         54510\n",
      "119 Germany  2021-02-04 Oxford/AstraZeneca                280\n",
      "120 Germany  2021-02-04 Pfizer/BioNTech               3013938\n",
      "121 Germany  2021-02-05 Moderna                         60390\n",
      "122 Germany  2021-02-05 Oxford/AstraZeneca                287\n",
      "123 Germany  2021-02-05 Pfizer/BioNTech               3150152\n",
      "124 Germany  2021-02-06 Moderna                         62856\n",
      "125 Germany  2021-02-06 Oxford/AstraZeneca                288\n",
      "126 Germany  2021-02-06 Pfizer/BioNTech               3246534\n",
      "127 Germany  2021-02-07 Moderna                         65205\n",
      "128 Germany  2021-02-07 Oxford/AstraZeneca                290\n",
      "129 Germany  2021-02-07 Pfizer/BioNTech               3297701\n",
      "130 Germany  2021-02-08 Moderna                         69064\n",
      "131 Germany  2021-02-08 Oxford/AstraZeneca                308\n",
      "132 Germany  2021-02-08 Pfizer/BioNTech               3403277\n",
      "133 Germany  2021-02-09 Moderna                         72946\n",
      "134 Germany  2021-02-09 Oxford/AstraZeneca                416\n",
      "135 Germany  2021-02-09 Pfizer/BioNTech               3531367\n",
      "136 Germany  2021-02-10 Moderna                         76537\n",
      "137 Germany  2021-02-10 Oxford/AstraZeneca               7438\n",
      "138 Germany  2021-02-10 Pfizer/BioNTech               3669012\n",
      "139 Germany  2021-02-11 Moderna                         83486\n",
      "140 Germany  2021-02-11 Oxford/AstraZeneca              22856\n",
      "141 Germany  2021-02-11 Pfizer/BioNTech               3788017\n",
      "142 Germany  2021-02-12 Moderna                         92958\n",
      "143 Germany  2021-02-12 Oxford/AstraZeneca              36903\n",
      "144 Germany  2021-02-12 Pfizer/BioNTech               3919982\n",
      "145 Germany  2021-02-13 Moderna                         95993\n",
      "146 Germany  2021-02-13 Oxford/AstraZeneca              49472\n",
      "147 Germany  2021-02-13 Pfizer/BioNTech               4011881\n",
      "148 Germany  2021-02-14 Moderna                         98394\n",
      "149 Germany  2021-02-14 Oxford/AstraZeneca              56763\n",
      "150 Germany  2021-02-14 Pfizer/BioNTech               4066985\n",
      "151 Germany  2021-02-15 Moderna                        102791\n",
      "152 Germany  2021-02-15 Oxford/AstraZeneca              71502\n",
      "153 Germany  2021-02-15 Pfizer/BioNTech               4173976\n",
      "154 Germany  2021-02-16 Moderna                        108026\n",
      "155 Germany  2021-02-16 Oxford/AstraZeneca              94929\n",
      "156 Germany  2021-02-16 Pfizer/BioNTech               4279638\n",
      "157 Germany  2021-02-17 Moderna                        115547\n",
      "158 Germany  2021-02-17 Oxford/AstraZeneca             114630\n",
      "159 Germany  2021-02-17 Pfizer/BioNTech               4402026\n",
      "160 Germany  2021-02-18 Moderna                        123310\n",
      "161 Germany  2021-02-18 Oxford/AstraZeneca             138980\n",
      "162 Germany  2021-02-18 Pfizer/BioNTech               4513378\n",
      "163 Germany  2021-02-19 Moderna                        132693\n",
      "164 Germany  2021-02-19 Oxford/AstraZeneca             164095\n",
      "165 Germany  2021-02-19 Pfizer/BioNTech               4631186\n",
      "166 Germany  2021-02-20 Moderna                        137165\n",
      "167 Germany  2021-02-20 Oxford/AstraZeneca             185700\n",
      "168 Germany  2021-02-20 Pfizer/BioNTech               4719144\n",
      "169 Germany  2021-02-21 Moderna                        140393\n",
      "170 Germany  2021-02-21 Oxford/AstraZeneca             200975\n",
      "171 Germany  2021-02-21 Pfizer/BioNTech               4786412\n",
      "172 Germany  2021-02-22 Moderna                        149200\n",
      "173 Germany  2021-02-22 Oxford/AstraZeneca             225842\n",
      "174 Germany  2021-02-22 Pfizer/BioNTech               4912987\n",
      "175 Germany  2021-02-23 Moderna                        156024\n",
      "176 Germany  2021-02-23 Oxford/AstraZeneca             253001\n",
      "177 Germany  2021-02-23 Pfizer/BioNTech               5045074\n",
      "178 Germany  2021-02-24 Moderna                        163548\n",
      "179 Germany  2021-02-24 Oxford/AstraZeneca             287847\n",
      "180 Germany  2021-02-24 Pfizer/BioNTech               5176628\n",
      "181 Germany  2021-02-25 Moderna                        170067\n",
      "182 Germany  2021-02-25 Oxford/AstraZeneca             338396\n",
      "183 Germany  2021-02-25 Pfizer/BioNTech               5307213\n",
      "184 Germany  2021-02-26 Moderna                        178765\n",
      "185 Germany  2021-02-26 Oxford/AstraZeneca             398106\n",
      "186 Germany  2021-02-26 Pfizer/BioNTech               5445720\n",
      "187 Germany  2021-02-27 Moderna                        182956\n",
      "188 Germany  2021-02-27 Oxford/AstraZeneca             449414\n",
      "189 Germany  2021-02-27 Pfizer/BioNTech               5538160\n",
      "190 Germany  2021-02-28 Moderna                        186912\n",
      "191 Germany  2021-02-28 Oxford/AstraZeneca             491211\n",
      "192 Germany  2021-02-28 Pfizer/BioNTech               5600503\n",
      "193 Germany  2021-03-01 Moderna                        195919\n",
      "194 Germany  2021-03-01 Oxford/AstraZeneca             547941\n",
      "195 Germany  2021-03-01 Pfizer/BioNTech               5729000\n",
      "196 Germany  2021-03-02 Moderna                        205569\n",
      "197 Germany  2021-03-02 Oxford/AstraZeneca             616084\n",
      "198 Germany  2021-03-02 Pfizer/BioNTech               5869455\n",
      "199 Germany  2021-03-03 Moderna                        218905\n",
      "200 Germany  2021-03-03 Oxford/AstraZeneca             687844\n",
      "201 Germany  2021-03-03 Pfizer/BioNTech               6025219\n",
      "202 Germany  2021-03-04 Moderna                        232421\n",
      "203 Germany  2021-03-04 Oxford/AstraZeneca             772905\n",
      "204 Germany  2021-03-04 Pfizer/BioNTech               6167554\n",
      "205 Germany  2021-03-05 Moderna                        245275\n",
      "206 Germany  2021-03-05 Oxford/AstraZeneca             877700\n",
      "207 Germany  2021-03-05 Pfizer/BioNTech               6313924\n",
      "208 Germany  2021-03-06 Moderna                        253854\n",
      "209 Germany  2021-03-06 Oxford/AstraZeneca             960594\n",
      "210 Germany  2021-03-06 Pfizer/BioNTech               6424191\n",
      "211 Germany  2021-03-07 Moderna                        260575\n",
      "212 Germany  2021-03-07 Oxford/AstraZeneca            1020369\n",
      "213 Germany  2021-03-07 Pfizer/BioNTech               6506908\n",
      "214 Germany  2021-03-08 Moderna                        271565\n",
      "215 Germany  2021-03-08 Oxford/AstraZeneca            1111422\n",
      "216 Germany  2021-03-08 Pfizer/BioNTech               6642384\n",
      "217 Germany  2021-03-09 Moderna                        284170\n",
      "218 Germany  2021-03-09 Oxford/AstraZeneca            1208445\n",
      "219 Germany  2021-03-09 Pfizer/BioNTech               6782540\n",
      "220 Germany  2021-03-10 Moderna                        295681\n",
      "221 Germany  2021-03-10 Oxford/AstraZeneca            1321967\n",
      "222 Germany  2021-03-10 Pfizer/BioNTech               6939389\n",
      "223 Germany  2021-03-11 Moderna                        308758\n",
      "224 Germany  2021-03-11 Oxford/AstraZeneca            1439895\n",
      "225 Germany  2021-03-11 Pfizer/BioNTech               7088291\n",
      "226 Germany  2021-03-12 Moderna                        325930\n",
      "227 Germany  2021-03-12 Oxford/AstraZeneca            1590529\n",
      "228 Germany  2021-03-12 Pfizer/BioNTech               7240223\n",
      "229 Germany  2021-03-13 Moderna                        335526\n",
      "230 Germany  2021-03-13 Oxford/AstraZeneca            1712093\n",
      "231 Germany  2021-03-13 Pfizer/BioNTech               7354703\n",
      "232 Germany  2021-03-14 Moderna                        340577\n",
      "233 Germany  2021-03-14 Oxford/AstraZeneca            1788373\n",
      "234 Germany  2021-03-14 Pfizer/BioNTech               7444204\n",
      "235 Germany  2021-03-15 Moderna                        352873\n",
      "236 Germany  2021-03-15 Oxford/AstraZeneca            1871766\n",
      "237 Germany  2021-03-15 Pfizer/BioNTech               7595686\n",
      "238 Germany  2021-03-16 Moderna                        363605\n",
      "239 Germany  2021-03-16 Oxford/AstraZeneca            1873681\n",
      "240 Germany  2021-03-16 Pfizer/BioNTech               7762885\n",
      "241 Germany  2021-03-17 Moderna                        380555\n",
      "242 Germany  2021-03-17 Oxford/AstraZeneca            1875065\n",
      "243 Germany  2021-03-17 Pfizer/BioNTech               7948190\n",
      "244 Germany  2021-03-18 Moderna                        398033\n",
      "245 Germany  2021-03-18 Oxford/AstraZeneca            1876632\n",
      "246 Germany  2021-03-18 Pfizer/BioNTech               8122945\n",
      "247 Germany  2021-03-19 Moderna                        417633\n",
      "248 Germany  2021-03-19 Oxford/AstraZeneca            1914884\n",
      "249 Germany  2021-03-19 Pfizer/BioNTech               8305614\n",
      "250 Germany  2021-03-20 Moderna                        432663\n",
      "251 Germany  2021-03-20 Oxford/AstraZeneca            1982816\n",
      "252 Germany  2021-03-20 Pfizer/BioNTech               8440833\n",
      "253 Germany  2021-03-21 Moderna                        441832\n",
      "254 Germany  2021-03-21 Oxford/AstraZeneca            2035062\n",
      "255 Germany  2021-03-21 Pfizer/BioNTech               8544830\n",
      "256 Germany  2021-03-22 Moderna                        465300\n",
      "257 Germany  2021-03-22 Oxford/AstraZeneca            2111420\n",
      "258 Germany  2021-03-22 Pfizer/BioNTech               8709716\n",
      "259 Germany  2021-03-23 Moderna                        484687\n",
      "260 Germany  2021-03-23 Oxford/AstraZeneca            2207925\n",
      "261 Germany  2021-03-23 Pfizer/BioNTech               8892643\n",
      "262 Germany  2021-03-24 Moderna                        515426\n",
      "263 Germany  2021-03-24 Oxford/AstraZeneca            2309655\n",
      "264 Germany  2021-03-24 Pfizer/BioNTech               9090779\n",
      "265 Germany  2021-03-25 Moderna                        540395\n",
      "266 Germany  2021-03-25 Oxford/AstraZeneca            2429160\n",
      "267 Germany  2021-03-25 Pfizer/BioNTech               9279008\n",
      "268 Germany  2021-03-26 Moderna                        572885\n",
      "269 Germany  2021-03-26 Oxford/AstraZeneca            2561695\n",
      "270 Germany  2021-03-26 Pfizer/BioNTech               9481008\n",
      "271 Germany  2021-03-27 Moderna                        599296\n",
      "272 Germany  2021-03-27 Oxford/AstraZeneca            2667369\n",
      "273 Germany  2021-03-27 Pfizer/BioNTech               9631441\n",
      "274 Germany  2021-03-28 Moderna                        617564\n",
      "275 Germany  2021-03-28 Oxford/AstraZeneca            2726566\n",
      "276 Germany  2021-03-28 Pfizer/BioNTech               9748186\n",
      "277 Germany  2021-03-29 Moderna                        641642\n",
      "278 Germany  2021-03-29 Oxford/AstraZeneca            2820645\n",
      "279 Germany  2021-03-29 Pfizer/BioNTech               9934620\n",
      "280 Germany  2021-03-30 Moderna                        666388\n",
      "281 Germany  2021-03-30 Oxford/AstraZeneca            2904999\n",
      "282 Germany  2021-03-30 Pfizer/BioNTech              10150756\n",
      "283 Germany  2021-03-31 Moderna                        701090\n",
      "284 Germany  2021-03-31 Oxford/AstraZeneca            2957472\n",
      "285 Germany  2021-03-31 Pfizer/BioNTech              10398825\n",
      "286 Germany  2021-04-01 Moderna                        731425\n",
      "287 Germany  2021-04-01 Oxford/AstraZeneca            3012126\n",
      "288 Germany  2021-04-01 Pfizer/BioNTech              10630832\n",
      "289 Germany  2021-04-02 Moderna                        747216\n",
      "290 Germany  2021-04-02 Oxford/AstraZeneca            3043668\n",
      "291 Germany  2021-04-02 Pfizer/BioNTech              10811034\n",
      "292 Germany  2021-04-03 Moderna                        764221\n",
      "293 Germany  2021-04-03 Oxford/AstraZeneca            3084753\n",
      "294 Germany  2021-04-03 Pfizer/BioNTech              10981678\n",
      "295 Germany  2021-04-04 Moderna                        775309\n",
      "296 Germany  2021-04-04 Oxford/AstraZeneca            3134359\n",
      "297 Germany  2021-04-04 Pfizer/BioNTech              11115757\n",
      "298 Germany  2021-04-05 Moderna                        793055\n",
      "299 Germany  2021-04-05 Oxford/AstraZeneca            3197820\n",
      "300 Germany  2021-04-05 Pfizer/BioNTech              11283591\n",
      "301 Germany  2021-04-06 Moderna                        824075\n",
      "302 Germany  2021-04-06 Oxford/AstraZeneca            3284316\n",
      "303 Germany  2021-04-06 Pfizer/BioNTech              11538581\n",
      "304 Germany  2021-04-07 Moderna                        855348\n",
      "305 Germany  2021-04-07 Oxford/AstraZeneca            3382692\n",
      "306 Germany  2021-04-07 Pfizer/BioNTech              12077731\n",
      "307 Germany  2021-04-08 Moderna                        886084\n",
      "308 Germany  2021-04-08 Oxford/AstraZeneca            3504243\n",
      "309 Germany  2021-04-08 Pfizer/BioNTech              12645371\n"
     ]
    }
   ],
   "source": [
    "Germany<-filter(file,file$location==\"Germany\")\n",
    "print(Germany,n=309)"
   ]
  },
  {
   "cell_type": "code",
   "execution_count": 30,
   "id": "social-bahamas",
   "metadata": {},
   "outputs": [
    {
     "name": "stdout",
     "output_type": "stream",
     "text": [
      "# A tibble: 196 x 4\n",
      "    location      date       vaccine         total_vaccinations\n",
      "    <chr>         <chr>      <chr>                        <int>\n",
      "  1 United States 2021-01-12 Moderna                    3835859\n",
      "  2 United States 2021-01-12 Pfizer/BioNTech            5488697\n",
      "  3 United States 2021-01-13 Moderna                    4249795\n",
      "  4 United States 2021-01-13 Pfizer/BioNTech            6025872\n",
      "  5 United States 2021-01-15 Moderna                    5122662\n",
      "  6 United States 2021-01-15 Pfizer/BioNTech            7153268\n",
      "  7 United States 2021-01-19 Moderna                    6828561\n",
      "  8 United States 2021-01-19 Pfizer/BioNTech            8874811\n",
      "  9 United States 2021-01-20 Moderna                    7239750\n",
      " 10 United States 2021-01-20 Pfizer/BioNTech            9281063\n",
      " 11 United States 2021-01-21 Moderna                    7724683\n",
      " 12 United States 2021-01-21 Pfizer/BioNTech            9817027\n",
      " 13 United States 2021-01-22 Moderna                    8407909\n",
      " 14 United States 2021-01-22 Pfizer/BioNTech           10695066\n",
      " 15 United States 2021-01-23 Moderna                    9061112\n",
      " 16 United States 2021-01-23 Pfizer/BioNTech           11471457\n",
      " 17 United States 2021-01-24 Moderna                    9689497\n",
      " 18 United States 2021-01-24 Pfizer/BioNTech           12153536\n",
      " 19 United States 2021-01-25 Moderna                   10084432\n",
      " 20 United States 2021-01-25 Pfizer/BioNTech           12551999\n",
      " 21 United States 2021-01-26 Moderna                   10431466\n",
      " 22 United States 2021-01-26 Pfizer/BioNTech           13009981\n",
      " 23 United States 2021-01-27 Moderna                   11001991\n",
      " 24 United States 2021-01-27 Pfizer/BioNTech           13550835\n",
      " 25 United States 2021-01-28 Moderna                   11737592\n",
      " 26 United States 2021-01-28 Pfizer/BioNTech           14355980\n",
      " 27 United States 2021-01-29 Moderna                   12619210\n",
      " 28 United States 2021-01-29 Pfizer/BioNTech           15164858\n",
      " 29 United States 2021-01-30 Moderna                   13499942\n",
      " 30 United States 2021-01-30 Pfizer/BioNTech           15977015\n",
      " 31 United States 2021-01-31 Moderna                   14246089\n",
      " 32 United States 2021-01-31 Pfizer/BioNTech           16775916\n",
      " 33 United States 2021-02-01 Moderna                   14756609\n",
      " 34 United States 2021-02-01 Pfizer/BioNTech           17364398\n",
      " 35 United States 2021-02-02 Moderna                   15006565\n",
      " 36 United States 2021-02-02 Pfizer/BioNTech           17672866\n",
      " 37 United States 2021-02-03 Moderna                   15567188\n",
      " 38 United States 2021-02-03 Pfizer/BioNTech           18209204\n",
      " 39 United States 2021-02-04 Moderna                   16260102\n",
      " 40 United States 2021-02-04 Pfizer/BioNTech           18841309\n",
      " 41 United States 2021-02-05 Moderna                   17133644\n",
      " 42 United States 2021-02-05 Pfizer/BioNTech           19582865\n",
      " 43 United States 2021-02-06 Moderna                   18336515\n",
      " 44 United States 2021-02-06 Pfizer/BioNTech           20598212\n",
      " 45 United States 2021-02-07 Moderna                   19485089\n",
      " 46 United States 2021-02-07 Pfizer/BioNTech           21622193\n",
      " 47 United States 2021-02-08 Moderna                   20066305\n",
      " 48 United States 2021-02-08 Pfizer/BioNTech           22247484\n",
      " 49 United States 2021-02-09 Moderna                   20416765\n",
      " 50 United States 2021-02-09 Pfizer/BioNTech           22685406\n",
      " 51 United States 2021-02-10 Moderna                   21189540\n",
      " 52 United States 2021-02-10 Pfizer/BioNTech           23475749\n",
      " 53 United States 2021-02-11 Moderna                   22038088\n",
      " 54 United States 2021-02-11 Pfizer/BioNTech           24246868\n",
      " 55 United States 2021-02-12 Moderna                   23111715\n",
      " 56 United States 2021-02-12 Pfizer/BioNTech           25192628\n",
      " 57 United States 2021-02-13 Moderna                   24297615\n",
      " 58 United States 2021-02-13 Pfizer/BioNTech           26237417\n",
      " 59 United States 2021-02-14 Moderna                   25505313\n",
      " 60 United States 2021-02-14 Pfizer/BioNTech           27271797\n",
      " 61 United States 2021-02-16 Moderna                   26738383\n",
      " 62 United States 2021-02-16 Pfizer/BioNTech           28374410\n",
      " 63 United States 2021-02-17 Moderna                   27287041\n",
      " 64 United States 2021-02-17 Pfizer/BioNTech           28886690\n",
      " 65 United States 2021-02-18 Moderna                   28043413\n",
      " 66 United States 2021-02-18 Pfizer/BioNTech           29585627\n",
      " 67 United States 2021-02-19 Moderna                   29044336\n",
      " 68 United States 2021-02-19 Pfizer/BioNTech           30431247\n",
      " 69 United States 2021-02-20 Moderna                   29909492\n",
      " 70 United States 2021-02-20 Pfizer/BioNTech           31270062\n",
      " 71 United States 2021-02-21 Moderna                   30747615\n",
      " 72 United States 2021-02-21 Pfizer/BioNTech           32232422\n",
      " 73 United States 2021-02-22 Moderna                   31212925\n",
      " 74 United States 2021-02-22 Pfizer/BioNTech           32853883\n",
      " 75 United States 2021-02-23 Moderna                   31569021\n",
      " 76 United States 2021-02-23 Pfizer/BioNTech           33352170\n",
      " 77 United States 2021-02-24 Moderna                   32194245\n",
      " 78 United States 2021-02-24 Pfizer/BioNTech           34159027\n",
      " 79 United States 2021-02-25 Moderna                   33066503\n",
      " 80 United States 2021-02-25 Pfizer/BioNTech           35095003\n",
      " 81 United States 2021-02-26 Moderna                   34181226\n",
      " 82 United States 2021-02-26 Pfizer/BioNTech           36159403\n",
      " 83 United States 2021-02-27 Moderna                   35422721\n",
      " 84 United States 2021-02-27 Pfizer/BioNTech           37269195\n",
      " 85 United States 2021-02-28 Moderna                   36694414\n",
      " 86 United States 2021-02-28 Pfizer/BioNTech           38426567\n",
      " 87 United States 2021-03-01 Moderna                   37522293\n",
      " 88 United States 2021-03-01 Pfizer/BioNTech           39262524\n",
      " 89 United States 2021-03-02 Moderna                   38319678\n",
      " 90 United States 2021-03-02 Pfizer/BioNTech           40196532\n",
      " 91 United States 2021-03-03 Moderna                   39248180\n",
      " 92 United States 2021-03-03 Pfizer/BioNTech           41175807\n",
      " 93 United States 2021-03-04 Moderna                   40261524\n",
      " 94 United States 2021-03-04 Pfizer/BioNTech           42193285\n",
      " 95 United States 2021-03-05 Moderna                   41507728\n",
      " 96 United States 2021-03-05 Pfizer/BioNTech           43373717\n",
      " 97 United States 2021-03-06 Moderna                   42977312\n",
      " 98 United States 2021-03-06 Pfizer/BioNTech           44774584\n",
      " 99 United States 2021-03-07 Moderna                   44195607\n",
      "100 United States 2021-03-07 Pfizer/BioNTech           45932122\n",
      "101 United States 2021-03-08 Johnson&Johnson             208590\n",
      "102 United States 2021-03-08 Moderna                   44936695\n",
      "103 United States 2021-03-08 Pfizer/BioNTech           46824290\n",
      "104 United States 2021-03-09 Johnson&Johnson             308181\n",
      "105 United States 2021-03-09 Moderna                   45635740\n",
      "106 United States 2021-03-09 Pfizer/BioNTech           47628226\n",
      "107 United States 2021-03-10 Johnson&Johnson             458911\n",
      "108 United States 2021-03-10 Moderna                   46535646\n",
      "109 United States 2021-03-10 Pfizer/BioNTech           48605159\n",
      "110 United States 2021-03-11 Johnson&Johnson             638469\n",
      "111 United States 2021-03-11 Moderna                   47733656\n",
      "112 United States 2021-03-11 Pfizer/BioNTech           49708920\n",
      "113 United States 2021-03-12 Johnson&Johnson             873726\n",
      "114 United States 2021-03-12 Moderna                   49169578\n",
      "115 United States 2021-03-12 Pfizer/BioNTech           50960400\n",
      "116 United States 2021-03-13 Johnson&Johnson            1189207\n",
      "117 United States 2021-03-13 Moderna                   51292130\n",
      "118 United States 2021-03-13 Pfizer/BioNTech           53096054\n",
      "119 United States 2021-03-14 Johnson&Johnson            1273958\n",
      "120 United States 2021-03-14 Moderna                   51951820\n",
      "121 United States 2021-03-14 Pfizer/BioNTech           53708091\n",
      "122 United States 2021-03-15 Johnson&Johnson            1428465\n",
      "123 United States 2021-03-15 Moderna                   52883263\n",
      "124 United States 2021-03-15 Pfizer/BioNTech           54643581\n",
      "125 United States 2021-03-16 Johnson&Johnson            1569675\n",
      "126 United States 2021-03-16 Moderna                   53647312\n",
      "127 United States 2021-03-16 Pfizer/BioNTech           55393141\n",
      "128 United States 2021-03-17 Johnson&Johnson            1766131\n",
      "129 United States 2021-03-17 Moderna                   54643195\n",
      "130 United States 2021-03-17 Pfizer/BioNTech           56499018\n",
      "131 United States 2021-03-18 Johnson&Johnson            1911052\n",
      "132 United States 2021-03-18 Moderna                   55811286\n",
      "133 United States 2021-03-18 Pfizer/BioNTech           57876875\n",
      "134 United States 2021-03-19 Johnson&Johnson            2025349\n",
      "135 United States 2021-03-19 Moderna                   56941640\n",
      "136 United States 2021-03-19 Pfizer/BioNTech           59214724\n",
      "137 United States 2021-03-20 Johnson&Johnson            2163681\n",
      "138 United States 2021-03-20 Moderna                   58294583\n",
      "139 United States 2021-03-20 Pfizer/BioNTech           60849627\n",
      "140 United States 2021-03-21 Johnson&Johnson            2298614\n",
      "141 United States 2021-03-21 Moderna                   59518840\n",
      "142 United States 2021-03-21 Pfizer/BioNTech           62529418\n",
      "143 United States 2021-03-22 Johnson&Johnson            2406337\n",
      "144 United States 2021-03-22 Moderna                   60275003\n",
      "145 United States 2021-03-22 Pfizer/BioNTech           63693721\n",
      "146 United States 2021-03-23 Johnson&Johnson            2489153\n",
      "147 United States 2021-03-23 Moderna                   60913292\n",
      "148 United States 2021-03-23 Pfizer/BioNTech           64679659\n",
      "149 United States 2021-03-24 Johnson&Johnson            2622182\n",
      "150 United States 2021-03-24 Moderna                   61719260\n",
      "151 United States 2021-03-24 Pfizer/BioNTech           65995871\n",
      "152 United States 2021-03-25 Johnson&Johnson            2734367\n",
      "153 United States 2021-03-25 Moderna                   62877755\n",
      "154 United States 2021-03-25 Pfizer/BioNTech           67555076\n",
      "155 United States 2021-03-26 Johnson&Johnson            2863246\n",
      "156 United States 2021-03-26 Moderna                   64313721\n",
      "157 United States 2021-03-26 Pfizer/BioNTech           69368232\n",
      "158 United States 2021-03-27 Johnson&Johnson            2982453\n",
      "159 United States 2021-03-27 Moderna                   65811340\n",
      "160 United States 2021-03-27 Pfizer/BioNTech           71246219\n",
      "161 United States 2021-03-28 Johnson&Johnson            3090712\n",
      "162 United States 2021-03-28 Moderna                   67249447\n",
      "163 United States 2021-03-28 Pfizer/BioNTech           72981111\n",
      "164 United States 2021-03-29 Johnson&Johnson            3155418\n",
      "165 United States 2021-03-29 Moderna                   68177850\n",
      "166 United States 2021-03-29 Pfizer/BioNTech           74338025\n",
      "167 United States 2021-03-30 Johnson&Johnson            3215657\n",
      "168 United States 2021-03-30 Moderna                   68858013\n",
      "169 United States 2021-03-30 Pfizer/BioNTech           75386890\n",
      "170 United States 2021-03-31 Johnson&Johnson            3307113\n",
      "171 United States 2021-03-31 Moderna                   69930956\n",
      "172 United States 2021-03-31 Pfizer/BioNTech           76891912\n",
      "173 United States 2021-04-01 Johnson&Johnson            3429880\n",
      "174 United States 2021-04-01 Moderna                   71338865\n",
      "175 United States 2021-04-01 Pfizer/BioNTech           78717917\n",
      "176 United States 2021-04-02 Johnson&Johnson            3617377\n",
      "177 United States 2021-04-02 Moderna                   72997571\n",
      "178 United States 2021-04-02 Pfizer/BioNTech           80845236\n",
      "179 United States 2021-04-03 Johnson&Johnson            3840647\n",
      "180 United States 2021-04-03 Moderna                   74713387\n",
      "181 United States 2021-04-03 Pfizer/BioNTech           82986550\n",
      "182 United States 2021-04-04 Johnson&Johnson            4054089\n",
      "183 United States 2021-04-04 Moderna                   76038933\n",
      "184 United States 2021-04-04 Pfizer/BioNTech           84810406\n",
      "185 United States 2021-04-05 Johnson&Johnson            4204015\n",
      "186 United States 2021-04-05 Moderna                   76791212\n",
      "187 United States 2021-04-05 Pfizer/BioNTech           86041963\n",
      "188 United States 2021-04-06 Johnson&Johnson            4299901\n",
      "189 United States 2021-04-06 Moderna                   77285350\n",
      "190 United States 2021-04-06 Pfizer/BioNTech           86855993\n",
      "191 United States 2021-04-07 Johnson&Johnson            4544552\n",
      "192 United States 2021-04-07 Moderna                   78315776\n",
      "193 United States 2021-04-07 Pfizer/BioNTech           88463874\n",
      "194 United States 2021-04-08 Johnson&Johnson            4917225\n",
      "195 United States 2021-04-08 Moderna                   79551820\n",
      "196 United States 2021-04-08 Pfizer/BioNTech           90256586\n"
     ]
    }
   ],
   "source": [
    "US<-filter(file,file$location==\"United States\")\n",
    "print(US,n=196)"
   ]
  },
  {
   "cell_type": "code",
   "execution_count": 31,
   "id": "fatty-calvin",
   "metadata": {},
   "outputs": [
    {
     "data": {
      "image/png": "[encoded data removed]",
      "text/plain": [
       "Plot with title \"Germany\""
      ]
     },
     "metadata": {},
     "output_type": "display_data"
    },
    {
     "data": {
      "image/png": "[encoded data removed]",
      "text/plain": [
       "Plot with title \"United States\""
      ]
     },
     "metadata": {},
     "output_type": "display_data"
    }
   ],
   "source": [
    "color<-c( \"red\",\"blue\",\"yellow\" )\n",
    "barplot(height=Germany$total_vaccinations,names.arg=\"2020-12-27 to 2021-04-08\",\n",
    "        col=color ,xlab=\"time vaccination\",ylab=\"total vaccines\",space=1e-02)\n",
    "\n",
    "legend(\"topleft\",legend=vaccines$manufacturers,fill=color)\n",
    "title(main=\"Germany\")\n",
    "\n",
    "barplot(height=US$total_vaccinations,names.arg=\"2021-01-12 to 2021-04-08\",\n",
    "        col=color ,xlab=\"time vaccination\",ylab=\"total vaccines\",space=1e-02)\n",
    "legend(\"topleft\",legend=vaccines$manufacturers,fill=color)\n",
    "title(main=\"United States\")"
   ]
  },
  {
   "cell_type": "code",
   "execution_count": 32,
   "id": "invalid-utility",
   "metadata": {},
   "outputs": [],
   "source": [
    "date_G<-as.data.frame(table(Germany$date),stringAsFactor=FALSE)\n",
    "date_US<-as.data.frame(table(US$date),stringAsFactor=FALSE)\n",
    "names(date_G)<-c(\"dates\",\"freq\")\n",
    "names(date_US)<-c(\"dates\",\"freq\")"
   ]
  },
  {
   "cell_type": "code",
   "execution_count": 33,
   "id": "recovered-group",
   "metadata": {},
   "outputs": [],
   "source": [
    "total_number_per_day_G<-sum(Germany$total_vaccinations[Germany$date==date_G$dates[1] ] )\n",
    "total_number_per_day_US<-sum(US$total_vaccinations[US$date==date_US$dates[1] ] )\n",
    "\n",
    "for (i in 2:length(date_G$dates) ) {\n",
    "    total_number_per_day_G<-c(total_number_per_day_G,sum(Germany$total_vaccinations[Germany$date==date_G$dates[i] ] ))\n",
    "}\n",
    "\n",
    "for (i in 2:length(date_US$dates) ) {\n",
    "    total_number_per_day_US<-c(total_number_per_day_US,sum(US$total_vaccinations[US$date==date_US$dates[i] ] ))\n",
    "}"
   ]
  },
  {
   "cell_type": "code",
   "execution_count": 34,
   "id": "colored-aspect",
   "metadata": {},
   "outputs": [
    {
     "data": {
      "image/png": "[encoded data removed]",
      "text/plain": [
       "Plot with title \"Germany\""
      ]
     },
     "metadata": {},
     "output_type": "display_data"
    },
    {
     "data": {
      "image/png": "[encoded data removed]",
      "text/plain": [
       "Plot with title \"United States\""
      ]
     },
     "metadata": {},
     "output_type": "display_data"
    }
   ],
   "source": [
    "barplot(height=total_number_per_day_G,names.arg=\"2020-12-27 to 2021-04-08\",\n",
    "        col=\"darkgoldenrod1\",xlab=\"time vaccination\",ylab=\"vaccinations per day\" )\n",
    "title(main=\"Germany\")\n",
    "\n",
    "barplot(height=total_number_per_day_US,names.arg=\"2021-01-12 to 2021-04-08\",\n",
    "        col=\"mediumspringgreen\",xlab=\"time vaccination\",ylab=\"vaccinations per day\" )\n",
    "title(main=\"United States\")"
   ]
  },
  {
   "cell_type": "markdown",
   "id": "hybrid-semester",
   "metadata": {},
   "source": [
    "## Exercise 4.1"
   ]
  },
  {
   "cell_type": "code",
   "execution_count": 35,
   "id": "signed-humanitarian",
   "metadata": {},
   "outputs": [
    {
     "data": {
      "text/html": [
       "<table>\n",
       "<thead><tr><th scope=col>location</th><th scope=col>iso_code</th><th scope=col>date</th><th scope=col>total_vaccinations</th><th scope=col>people_vaccinated</th><th scope=col>people_fully_vaccinated</th><th scope=col>daily_vaccinations_raw</th><th scope=col>daily_vaccinations</th><th scope=col>total_vaccinations_per_hundred</th><th scope=col>people_vaccinated_per_hundred</th><th scope=col>people_fully_vaccinated_per_hundred</th><th scope=col>daily_vaccinations_per_million</th></tr></thead>\n",
       "<tbody>\n",
       "\t<tr><td>Afghanistan</td><td>AFG        </td><td>2021-02-22 </td><td>    0      </td><td>    0      </td><td>NA         </td><td>NA         </td><td>  NA       </td><td>0.00       </td><td>0.00       </td><td>NA         </td><td>NA         </td></tr>\n",
       "\t<tr><td>Afghanistan</td><td>AFG        </td><td>2021-02-23 </td><td>   NA      </td><td>   NA      </td><td>NA         </td><td>NA         </td><td>1367       </td><td>  NA       </td><td>  NA       </td><td>NA         </td><td>35         </td></tr>\n",
       "\t<tr><td>Afghanistan</td><td>AFG        </td><td>2021-02-24 </td><td>   NA      </td><td>   NA      </td><td>NA         </td><td>NA         </td><td>1367       </td><td>  NA       </td><td>  NA       </td><td>NA         </td><td>35         </td></tr>\n",
       "\t<tr><td>Afghanistan</td><td>AFG        </td><td>2021-02-25 </td><td>   NA      </td><td>   NA      </td><td>NA         </td><td>NA         </td><td>1367       </td><td>  NA       </td><td>  NA       </td><td>NA         </td><td>35         </td></tr>\n",
       "\t<tr><td>Afghanistan</td><td>AFG        </td><td>2021-02-26 </td><td>   NA      </td><td>   NA      </td><td>NA         </td><td>NA         </td><td>1367       </td><td>  NA       </td><td>  NA       </td><td>NA         </td><td>35         </td></tr>\n",
       "\t<tr><td>Afghanistan</td><td>AFG        </td><td>2021-02-27 </td><td>   NA      </td><td>   NA      </td><td>NA         </td><td>NA         </td><td>1367       </td><td>  NA       </td><td>  NA       </td><td>NA         </td><td>35         </td></tr>\n",
       "\t<tr><td>Afghanistan</td><td>AFG        </td><td>2021-02-28 </td><td> 8200      </td><td> 8200      </td><td>NA         </td><td>NA         </td><td>1367       </td><td>0.02       </td><td>0.02       </td><td>NA         </td><td>35         </td></tr>\n",
       "\t<tr><td>Afghanistan</td><td>AFG        </td><td>2021-03-01 </td><td>   NA      </td><td>   NA      </td><td>NA         </td><td>NA         </td><td>1580       </td><td>  NA       </td><td>  NA       </td><td>NA         </td><td>41         </td></tr>\n",
       "\t<tr><td>Afghanistan</td><td>AFG        </td><td>2021-03-02 </td><td>   NA      </td><td>   NA      </td><td>NA         </td><td>NA         </td><td>1794       </td><td>  NA       </td><td>  NA       </td><td>NA         </td><td>46         </td></tr>\n",
       "\t<tr><td>Afghanistan</td><td>AFG        </td><td>2021-03-03 </td><td>   NA      </td><td>   NA      </td><td>NA         </td><td>NA         </td><td>2008       </td><td>  NA       </td><td>  NA       </td><td>NA         </td><td>52         </td></tr>\n",
       "\t<tr><td>Afghanistan</td><td>AFG        </td><td>2021-03-04 </td><td>   NA      </td><td>   NA      </td><td>NA         </td><td>NA         </td><td>2221       </td><td>  NA       </td><td>  NA       </td><td>NA         </td><td>57         </td></tr>\n",
       "\t<tr><td>Afghanistan</td><td>AFG        </td><td>2021-03-05 </td><td>   NA      </td><td>   NA      </td><td>NA         </td><td>NA         </td><td>2435       </td><td>  NA       </td><td>  NA       </td><td>NA         </td><td>63         </td></tr>\n",
       "\t<tr><td>Afghanistan</td><td>AFG        </td><td>2021-03-06 </td><td>   NA      </td><td>   NA      </td><td>NA         </td><td>NA         </td><td>2649       </td><td>  NA       </td><td>  NA       </td><td>NA         </td><td>68         </td></tr>\n",
       "\t<tr><td>Afghanistan</td><td>AFG        </td><td>2021-03-07 </td><td>   NA      </td><td>   NA      </td><td>NA         </td><td>NA         </td><td>2862       </td><td>  NA       </td><td>  NA       </td><td>NA         </td><td>74         </td></tr>\n",
       "\t<tr><td>Afghanistan</td><td>AFG        </td><td>2021-03-08 </td><td>   NA      </td><td>   NA      </td><td>NA         </td><td>NA         </td><td>2862       </td><td>  NA       </td><td>  NA       </td><td>NA         </td><td>74         </td></tr>\n",
       "\t<tr><td>Afghanistan</td><td>AFG        </td><td>2021-03-09 </td><td>   NA      </td><td>   NA      </td><td>NA         </td><td>NA         </td><td>2862       </td><td>  NA       </td><td>  NA       </td><td>NA         </td><td>74         </td></tr>\n",
       "\t<tr><td>Afghanistan</td><td>AFG        </td><td>2021-03-10 </td><td>   NA      </td><td>   NA      </td><td>NA         </td><td>NA         </td><td>2862       </td><td>  NA       </td><td>  NA       </td><td>NA         </td><td>74         </td></tr>\n",
       "\t<tr><td>Afghanistan</td><td>AFG        </td><td>2021-03-11 </td><td>   NA      </td><td>   NA      </td><td>NA         </td><td>NA         </td><td>2862       </td><td>  NA       </td><td>  NA       </td><td>NA         </td><td>74         </td></tr>\n",
       "\t<tr><td>Afghanistan</td><td>AFG        </td><td>2021-03-12 </td><td>   NA      </td><td>   NA      </td><td>NA         </td><td>NA         </td><td>2862       </td><td>  NA       </td><td>  NA       </td><td>NA         </td><td>74         </td></tr>\n",
       "\t<tr><td>Afghanistan</td><td>AFG        </td><td>2021-03-13 </td><td>   NA      </td><td>   NA      </td><td>NA         </td><td>NA         </td><td>2862       </td><td>  NA       </td><td>  NA       </td><td>NA         </td><td>74         </td></tr>\n",
       "\t<tr><td>Afghanistan</td><td>AFG        </td><td>2021-03-14 </td><td>   NA      </td><td>   NA      </td><td>NA         </td><td>NA         </td><td>2862       </td><td>  NA       </td><td>  NA       </td><td>NA         </td><td>74         </td></tr>\n",
       "\t<tr><td>Afghanistan</td><td>AFG        </td><td>2021-03-15 </td><td>   NA      </td><td>   NA      </td><td>NA         </td><td>NA         </td><td>2862       </td><td>  NA       </td><td>  NA       </td><td>NA         </td><td>74         </td></tr>\n",
       "\t<tr><td>Afghanistan</td><td>AFG        </td><td>2021-03-16 </td><td>54000      </td><td>54000      </td><td>NA         </td><td>NA         </td><td>2862       </td><td>0.14       </td><td>0.14       </td><td>NA         </td><td>74         </td></tr>\n",
       "\t<tr><td>Afghanistan</td><td>AFG        </td><td>2021-03-17 </td><td>   NA      </td><td>   NA      </td><td>NA         </td><td>NA         </td><td>2882       </td><td>  NA       </td><td>  NA       </td><td>NA         </td><td>74         </td></tr>\n",
       "\t<tr><td>Afghanistan</td><td>AFG        </td><td>2021-03-18 </td><td>   NA      </td><td>   NA      </td><td>NA         </td><td>NA         </td><td>2902       </td><td>  NA       </td><td>  NA       </td><td>NA         </td><td>75         </td></tr>\n",
       "\t<tr><td>Afghanistan</td><td>AFG        </td><td>2021-03-19 </td><td>   NA      </td><td>   NA      </td><td>NA         </td><td>NA         </td><td>2921       </td><td>  NA       </td><td>  NA       </td><td>NA         </td><td>75         </td></tr>\n",
       "\t<tr><td>Afghanistan</td><td>AFG        </td><td>2021-03-20 </td><td>   NA      </td><td>   NA      </td><td>NA         </td><td>NA         </td><td>2941       </td><td>  NA       </td><td>  NA       </td><td>NA         </td><td>76         </td></tr>\n",
       "\t<tr><td>Afghanistan</td><td>AFG        </td><td>2021-03-21 </td><td>   NA      </td><td>   NA      </td><td>NA         </td><td>NA         </td><td>2961       </td><td>  NA       </td><td>  NA       </td><td>NA         </td><td>76         </td></tr>\n",
       "\t<tr><td>Afghanistan</td><td>AFG        </td><td>2021-03-22 </td><td>   NA      </td><td>   NA      </td><td>NA         </td><td>NA         </td><td>2980       </td><td>  NA       </td><td>  NA       </td><td>NA         </td><td>77         </td></tr>\n",
       "\t<tr><td>Afghanistan</td><td>AFG        </td><td>2021-03-23 </td><td>   NA      </td><td>   NA      </td><td>NA         </td><td>NA         </td><td>3000       </td><td>  NA       </td><td>  NA       </td><td>NA         </td><td>77         </td></tr>\n",
       "\t<tr><td>...</td><td>...</td><td>...</td><td>...</td><td>...</td><td>...</td><td>...</td><td>...</td><td>...</td><td>...</td><td>...</td><td>...</td></tr>\n",
       "\t<tr><td>Zimbabwe  </td><td>ZWE       </td><td>2021-03-09</td><td> 35761    </td><td> 35761    </td><td>   NA     </td><td>  243     </td><td> 1526     </td><td>0.24      </td><td>0.24      </td><td>  NA      </td><td>103       </td></tr>\n",
       "\t<tr><td>Zimbabwe  </td><td>ZWE       </td><td>2021-03-10</td><td> 35901    </td><td> 35901    </td><td>   NA     </td><td>  140     </td><td> 1133     </td><td>0.24      </td><td>0.24      </td><td>  NA      </td><td> 76       </td></tr>\n",
       "\t<tr><td>Zimbabwe  </td><td>ZWE       </td><td>2021-03-11</td><td> 36019    </td><td> 36019    </td><td>   NA     </td><td>  118     </td><td>  766     </td><td>0.24      </td><td>0.24      </td><td>  NA      </td><td> 52       </td></tr>\n",
       "\t<tr><td>Zimbabwe  </td><td>ZWE       </td><td>2021-03-12</td><td> 36283    </td><td> 36283    </td><td>   NA     </td><td>  264     </td><td>  708     </td><td>0.24      </td><td>0.24      </td><td>  NA      </td><td> 48       </td></tr>\n",
       "\t<tr><td>Zimbabwe  </td><td>ZWE       </td><td>2021-03-13</td><td> 36359    </td><td> 36359    </td><td>   NA     </td><td>   76     </td><td>  621     </td><td>0.24      </td><td>0.24      </td><td>  NA      </td><td> 42       </td></tr>\n",
       "\t<tr><td>Zimbabwe  </td><td>ZWE       </td><td>2021-03-14</td><td> 36359    </td><td> 36359    </td><td>   NA     </td><td>    0     </td><td>  588     </td><td>0.24      </td><td>0.24      </td><td>  NA      </td><td> 40       </td></tr>\n",
       "\t<tr><td>Zimbabwe  </td><td>ZWE       </td><td>2021-03-15</td><td> 37660    </td><td> 37660    </td><td>   NA     </td><td> 1301     </td><td>  306     </td><td>0.25      </td><td>0.25      </td><td>  NA      </td><td> 21       </td></tr>\n",
       "\t<tr><td>Zimbabwe  </td><td>ZWE       </td><td>2021-03-16</td><td> 39550    </td><td> 39550    </td><td>   NA     </td><td> 1890     </td><td>  541     </td><td>0.27      </td><td>0.27      </td><td>  NA      </td><td> 36       </td></tr>\n",
       "\t<tr><td>Zimbabwe  </td><td>ZWE       </td><td>2021-03-17</td><td> 39607    </td><td> 39607    </td><td>   NA     </td><td>   57     </td><td>  529     </td><td>0.27      </td><td>0.27      </td><td>  NA      </td><td> 36       </td></tr>\n",
       "\t<tr><td>Zimbabwe  </td><td>ZWE       </td><td>2021-03-18</td><td> 40002    </td><td> 40002    </td><td>   NA     </td><td>  395     </td><td>  569     </td><td>0.27      </td><td>0.27      </td><td>  NA      </td><td> 38       </td></tr>\n",
       "\t<tr><td>Zimbabwe  </td><td>ZWE       </td><td>2021-03-19</td><td> 41687    </td><td> 41687    </td><td>   NA     </td><td> 1685     </td><td>  772     </td><td>0.28      </td><td>0.28      </td><td>  NA      </td><td> 52       </td></tr>\n",
       "\t<tr><td>Zimbabwe  </td><td>ZWE       </td><td>2021-03-20</td><td> 42210    </td><td> 42210    </td><td>   NA     </td><td>  523     </td><td>  836     </td><td>0.28      </td><td>0.28      </td><td>  NA      </td><td> 56       </td></tr>\n",
       "\t<tr><td>Zimbabwe  </td><td>ZWE       </td><td>2021-03-21</td><td> 42729    </td><td> 42729    </td><td>   NA     </td><td>  519     </td><td>  910     </td><td>0.29      </td><td>0.29      </td><td>  NA      </td><td> 61       </td></tr>\n",
       "\t<tr><td>Zimbabwe  </td><td>ZWE       </td><td>2021-03-22</td><td> 43574    </td><td> 43294    </td><td>  280     </td><td>  845     </td><td>  845     </td><td>0.29      </td><td>0.29      </td><td>0.00      </td><td> 57       </td></tr>\n",
       "\t<tr><td>Zimbabwe  </td><td>ZWE       </td><td>2021-03-23</td><td> 45197    </td><td> 44135    </td><td> 1062     </td><td> 1623     </td><td>  807     </td><td>0.30      </td><td>0.30      </td><td>0.01      </td><td> 54       </td></tr>\n",
       "\t<tr><td>Zimbabwe  </td><td>ZWE       </td><td>2021-03-24</td><td> 51893    </td><td> 49404    </td><td> 2489     </td><td> 6696     </td><td> 1755     </td><td>0.35      </td><td>0.33      </td><td>0.02      </td><td>118       </td></tr>\n",
       "\t<tr><td>Zimbabwe  </td><td>ZWE       </td><td>2021-03-25</td><td> 58987    </td><td> 54892    </td><td> 4095     </td><td> 7094     </td><td> 2712     </td><td>0.40      </td><td>0.37      </td><td>0.03      </td><td>182       </td></tr>\n",
       "\t<tr><td>Zimbabwe  </td><td>ZWE       </td><td>2021-03-26</td><td> 67662    </td><td> 61093    </td><td> 6569     </td><td> 8675     </td><td> 3711     </td><td>0.46      </td><td>0.41      </td><td>0.04      </td><td>250       </td></tr>\n",
       "\t<tr><td>Zimbabwe  </td><td>ZWE       </td><td>2021-03-27</td><td> 73431    </td><td> 65466    </td><td> 7965     </td><td> 5769     </td><td> 4460     </td><td>0.49      </td><td>0.44      </td><td>0.05      </td><td>300       </td></tr>\n",
       "\t<tr><td>Zimbabwe  </td><td>ZWE       </td><td>2021-03-28</td><td> 79139    </td><td> 68511    </td><td>10628     </td><td> 5708     </td><td> 5201     </td><td>0.53      </td><td>0.46      </td><td>0.07      </td><td>350       </td></tr>\n",
       "\t<tr><td>Zimbabwe  </td><td>ZWE       </td><td>2021-03-29</td><td> 81610    </td><td> 69751    </td><td>11859     </td><td> 2471     </td><td> 5434     </td><td>0.55      </td><td>0.47      </td><td>0.08      </td><td>366       </td></tr>\n",
       "\t<tr><td>Zimbabwe  </td><td>ZWE       </td><td>2021-03-30</td><td> 85866    </td><td> 72944    </td><td>12922     </td><td> 4256     </td><td> 5810     </td><td>0.58      </td><td>0.49      </td><td>0.09      </td><td>391       </td></tr>\n",
       "\t<tr><td>Zimbabwe  </td><td>ZWE       </td><td>2021-03-31</td><td> 91880    </td><td> 76995    </td><td>14885     </td><td> 6014     </td><td> 5712     </td><td>0.62      </td><td>0.52      </td><td>0.10      </td><td>384       </td></tr>\n",
       "\t<tr><td>Zimbabwe  </td><td>ZWE       </td><td>2021-04-01</td><td>105307    </td><td> 87791    </td><td>17516     </td><td>13427     </td><td> 6617     </td><td>0.71      </td><td>0.59      </td><td>0.12      </td><td>445       </td></tr>\n",
       "\t<tr><td>Zimbabwe  </td><td>ZWE       </td><td>2021-04-02</td><td>124753    </td><td>103815    </td><td>20938     </td><td>19446     </td><td> 8156     </td><td>0.84      </td><td>0.70      </td><td>0.14      </td><td>549       </td></tr>\n",
       "\t<tr><td>Zimbabwe  </td><td>ZWE       </td><td>2021-04-03</td><td>132915    </td><td>111588    </td><td>21327     </td><td> 8162     </td><td> 8498     </td><td>0.89      </td><td>0.75      </td><td>0.14      </td><td>572       </td></tr>\n",
       "\t<tr><td>Zimbabwe  </td><td>ZWE       </td><td>2021-04-04</td><td>138900    </td><td>117297    </td><td>21603     </td><td> 5985     </td><td> 8537     </td><td>0.93      </td><td>0.79      </td><td>0.15      </td><td>574       </td></tr>\n",
       "\t<tr><td>Zimbabwe  </td><td>ZWE       </td><td>2021-04-05</td><td>145510    </td><td>123454    </td><td>22056     </td><td> 6610     </td><td> 9129     </td><td>0.98      </td><td>0.83      </td><td>0.15      </td><td>614       </td></tr>\n",
       "\t<tr><td>Zimbabwe  </td><td>ZWE       </td><td>2021-04-06</td><td>162633    </td><td>139133    </td><td>23500     </td><td>17123     </td><td>10967     </td><td>1.09      </td><td>0.94      </td><td>0.16      </td><td>738       </td></tr>\n",
       "\t<tr><td>Zimbabwe  </td><td>ZWE       </td><td>2021-04-07</td><td>179417    </td><td>153238    </td><td>26179     </td><td>16784     </td><td>12505     </td><td>1.21      </td><td>1.03      </td><td>0.18      </td><td>841       </td></tr>\n",
       "</tbody>\n",
       "</table>\n"
      ],
      "text/latex": [
       "\\begin{tabular}{r|llllllllllll}\n",
       " location & iso\\_code & date & total\\_vaccinations & people\\_vaccinated & people\\_fully\\_vaccinated & daily\\_vaccinations\\_raw & daily\\_vaccinations & total\\_vaccinations\\_per\\_hundred & people\\_vaccinated\\_per\\_hundred & people\\_fully\\_vaccinated\\_per\\_hundred & daily\\_vaccinations\\_per\\_million\\\\\n",
       "\\hline\n",
       "\t Afghanistan & AFG         & 2021-02-22  &     0       &     0       & NA          & NA          &   NA        & 0.00        & 0.00        & NA          & NA         \\\\\n",
       "\t Afghanistan & AFG         & 2021-02-23  &    NA       &    NA       & NA          & NA          & 1367        &   NA        &   NA        & NA          & 35         \\\\\n",
       "\t Afghanistan & AFG         & 2021-02-24  &    NA       &    NA       & NA          & NA          & 1367        &   NA        &   NA        & NA          & 35         \\\\\n",
       "\t Afghanistan & AFG         & 2021-02-25  &    NA       &    NA       & NA          & NA          & 1367        &   NA        &   NA        & NA          & 35         \\\\\n",
       "\t Afghanistan & AFG         & 2021-02-26  &    NA       &    NA       & NA          & NA          & 1367        &   NA        &   NA        & NA          & 35         \\\\\n",
       "\t Afghanistan & AFG         & 2021-02-27  &    NA       &    NA       & NA          & NA          & 1367        &   NA        &   NA        & NA          & 35         \\\\\n",
       "\t Afghanistan & AFG         & 2021-02-28  &  8200       &  8200       & NA          & NA          & 1367        & 0.02        & 0.02        & NA          & 35         \\\\\n",
       "\t Afghanistan & AFG         & 2021-03-01  &    NA       &    NA       & NA          & NA          & 1580        &   NA        &   NA        & NA          & 41         \\\\\n",
       "\t Afghanistan & AFG         & 2021-03-02  &    NA       &    NA       & NA          & NA          & 1794        &   NA        &   NA        & NA          & 46         \\\\\n",
       "\t Afghanistan & AFG         & 2021-03-03  &    NA       &    NA       & NA          & NA          & 2008        &   NA        &   NA        & NA          & 52         \\\\\n",
       "\t Afghanistan & AFG         & 2021-03-04  &    NA       &    NA       & NA          & NA          & 2221        &   NA        &   NA        & NA          & 57         \\\\\n",
       "\t Afghanistan & AFG         & 2021-03-05  &    NA       &    NA       & NA          & NA          & 2435        &   NA        &   NA        & NA          & 63         \\\\\n",
       "\t Afghanistan & AFG         & 2021-03-06  &    NA       &    NA       & NA          & NA          & 2649        &   NA        &   NA        & NA          & 68         \\\\\n",
       "\t Afghanistan & AFG         & 2021-03-07  &    NA       &    NA       & NA          & NA          & 2862        &   NA        &   NA        & NA          & 74         \\\\\n",
       "\t Afghanistan & AFG         & 2021-03-08  &    NA       &    NA       & NA          & NA          & 2862        &   NA        &   NA        & NA          & 74         \\\\\n",
       "\t Afghanistan & AFG         & 2021-03-09  &    NA       &    NA       & NA          & NA          & 2862        &   NA        &   NA        & NA          & 74         \\\\\n",
       "\t Afghanistan & AFG         & 2021-03-10  &    NA       &    NA       & NA          & NA          & 2862        &   NA        &   NA        & NA          & 74         \\\\\n",
       "\t Afghanistan & AFG         & 2021-03-11  &    NA       &    NA       & NA          & NA          & 2862        &   NA        &   NA        & NA          & 74         \\\\\n",
       "\t Afghanistan & AFG         & 2021-03-12  &    NA       &    NA       & NA          & NA          & 2862        &   NA        &   NA        & NA          & 74         \\\\\n",
       "\t Afghanistan & AFG         & 2021-03-13  &    NA       &    NA       & NA          & NA          & 2862        &   NA        &   NA        & NA          & 74         \\\\\n",
       "\t Afghanistan & AFG         & 2021-03-14  &    NA       &    NA       & NA          & NA          & 2862        &   NA        &   NA        & NA          & 74         \\\\\n",
       "\t Afghanistan & AFG         & 2021-03-15  &    NA       &    NA       & NA          & NA          & 2862        &   NA        &   NA        & NA          & 74         \\\\\n",
       "\t Afghanistan & AFG         & 2021-03-16  & 54000       & 54000       & NA          & NA          & 2862        & 0.14        & 0.14        & NA          & 74         \\\\\n",
       "\t Afghanistan & AFG         & 2021-03-17  &    NA       &    NA       & NA          & NA          & 2882        &   NA        &   NA        & NA          & 74         \\\\\n",
       "\t Afghanistan & AFG         & 2021-03-18  &    NA       &    NA       & NA          & NA          & 2902        &   NA        &   NA        & NA          & 75         \\\\\n",
       "\t Afghanistan & AFG         & 2021-03-19  &    NA       &    NA       & NA          & NA          & 2921        &   NA        &   NA        & NA          & 75         \\\\\n",
       "\t Afghanistan & AFG         & 2021-03-20  &    NA       &    NA       & NA          & NA          & 2941        &   NA        &   NA        & NA          & 76         \\\\\n",
       "\t Afghanistan & AFG         & 2021-03-21  &    NA       &    NA       & NA          & NA          & 2961        &   NA        &   NA        & NA          & 76         \\\\\n",
       "\t Afghanistan & AFG         & 2021-03-22  &    NA       &    NA       & NA          & NA          & 2980        &   NA        &   NA        & NA          & 77         \\\\\n",
       "\t Afghanistan & AFG         & 2021-03-23  &    NA       &    NA       & NA          & NA          & 3000        &   NA        &   NA        & NA          & 77         \\\\\n",
       "\t ... & ... & ... & ... & ... & ... & ... & ... & ... & ... & ... & ...\\\\\n",
       "\t Zimbabwe   & ZWE        & 2021-03-09 &  35761     &  35761     &    NA      &   243      &  1526      & 0.24       & 0.24       &   NA       & 103       \\\\\n",
       "\t Zimbabwe   & ZWE        & 2021-03-10 &  35901     &  35901     &    NA      &   140      &  1133      & 0.24       & 0.24       &   NA       &  76       \\\\\n",
       "\t Zimbabwe   & ZWE        & 2021-03-11 &  36019     &  36019     &    NA      &   118      &   766      & 0.24       & 0.24       &   NA       &  52       \\\\\n",
       "\t Zimbabwe   & ZWE        & 2021-03-12 &  36283     &  36283     &    NA      &   264      &   708      & 0.24       & 0.24       &   NA       &  48       \\\\\n",
       "\t Zimbabwe   & ZWE        & 2021-03-13 &  36359     &  36359     &    NA      &    76      &   621      & 0.24       & 0.24       &   NA       &  42       \\\\\n",
       "\t Zimbabwe   & ZWE        & 2021-03-14 &  36359     &  36359     &    NA      &     0      &   588      & 0.24       & 0.24       &   NA       &  40       \\\\\n",
       "\t Zimbabwe   & ZWE        & 2021-03-15 &  37660     &  37660     &    NA      &  1301      &   306      & 0.25       & 0.25       &   NA       &  21       \\\\\n",
       "\t Zimbabwe   & ZWE        & 2021-03-16 &  39550     &  39550     &    NA      &  1890      &   541      & 0.27       & 0.27       &   NA       &  36       \\\\\n",
       "\t Zimbabwe   & ZWE        & 2021-03-17 &  39607     &  39607     &    NA      &    57      &   529      & 0.27       & 0.27       &   NA       &  36       \\\\\n",
       "\t Zimbabwe   & ZWE        & 2021-03-18 &  40002     &  40002     &    NA      &   395      &   569      & 0.27       & 0.27       &   NA       &  38       \\\\\n",
       "\t Zimbabwe   & ZWE        & 2021-03-19 &  41687     &  41687     &    NA      &  1685      &   772      & 0.28       & 0.28       &   NA       &  52       \\\\\n",
       "\t Zimbabwe   & ZWE        & 2021-03-20 &  42210     &  42210     &    NA      &   523      &   836      & 0.28       & 0.28       &   NA       &  56       \\\\\n",
       "\t Zimbabwe   & ZWE        & 2021-03-21 &  42729     &  42729     &    NA      &   519      &   910      & 0.29       & 0.29       &   NA       &  61       \\\\\n",
       "\t Zimbabwe   & ZWE        & 2021-03-22 &  43574     &  43294     &   280      &   845      &   845      & 0.29       & 0.29       & 0.00       &  57       \\\\\n",
       "\t Zimbabwe   & ZWE        & 2021-03-23 &  45197     &  44135     &  1062      &  1623      &   807      & 0.30       & 0.30       & 0.01       &  54       \\\\\n",
       "\t Zimbabwe   & ZWE        & 2021-03-24 &  51893     &  49404     &  2489      &  6696      &  1755      & 0.35       & 0.33       & 0.02       & 118       \\\\\n",
       "\t Zimbabwe   & ZWE        & 2021-03-25 &  58987     &  54892     &  4095      &  7094      &  2712      & 0.40       & 0.37       & 0.03       & 182       \\\\\n",
       "\t Zimbabwe   & ZWE        & 2021-03-26 &  67662     &  61093     &  6569      &  8675      &  3711      & 0.46       & 0.41       & 0.04       & 250       \\\\\n",
       "\t Zimbabwe   & ZWE        & 2021-03-27 &  73431     &  65466     &  7965      &  5769      &  4460      & 0.49       & 0.44       & 0.05       & 300       \\\\\n",
       "\t Zimbabwe   & ZWE        & 2021-03-28 &  79139     &  68511     & 10628      &  5708      &  5201      & 0.53       & 0.46       & 0.07       & 350       \\\\\n",
       "\t Zimbabwe   & ZWE        & 2021-03-29 &  81610     &  69751     & 11859      &  2471      &  5434      & 0.55       & 0.47       & 0.08       & 366       \\\\\n",
       "\t Zimbabwe   & ZWE        & 2021-03-30 &  85866     &  72944     & 12922      &  4256      &  5810      & 0.58       & 0.49       & 0.09       & 391       \\\\\n",
       "\t Zimbabwe   & ZWE        & 2021-03-31 &  91880     &  76995     & 14885      &  6014      &  5712      & 0.62       & 0.52       & 0.10       & 384       \\\\\n",
       "\t Zimbabwe   & ZWE        & 2021-04-01 & 105307     &  87791     & 17516      & 13427      &  6617      & 0.71       & 0.59       & 0.12       & 445       \\\\\n",
       "\t Zimbabwe   & ZWE        & 2021-04-02 & 124753     & 103815     & 20938      & 19446      &  8156      & 0.84       & 0.70       & 0.14       & 549       \\\\\n",
       "\t Zimbabwe   & ZWE        & 2021-04-03 & 132915     & 111588     & 21327      &  8162      &  8498      & 0.89       & 0.75       & 0.14       & 572       \\\\\n",
       "\t Zimbabwe   & ZWE        & 2021-04-04 & 138900     & 117297     & 21603      &  5985      &  8537      & 0.93       & 0.79       & 0.15       & 574       \\\\\n",
       "\t Zimbabwe   & ZWE        & 2021-04-05 & 145510     & 123454     & 22056      &  6610      &  9129      & 0.98       & 0.83       & 0.15       & 614       \\\\\n",
       "\t Zimbabwe   & ZWE        & 2021-04-06 & 162633     & 139133     & 23500      & 17123      & 10967      & 1.09       & 0.94       & 0.16       & 738       \\\\\n",
       "\t Zimbabwe   & ZWE        & 2021-04-07 & 179417     & 153238     & 26179      & 16784      & 12505      & 1.21       & 1.03       & 0.18       & 841       \\\\\n",
       "\\end{tabular}\n"
      ],
      "text/markdown": [
       "\n",
       "| location | iso_code | date | total_vaccinations | people_vaccinated | people_fully_vaccinated | daily_vaccinations_raw | daily_vaccinations | total_vaccinations_per_hundred | people_vaccinated_per_hundred | people_fully_vaccinated_per_hundred | daily_vaccinations_per_million |\n",
       "|---|---|---|---|---|---|---|---|---|---|---|---|\n",
       "| Afghanistan | AFG         | 2021-02-22  |     0       |     0       | NA          | NA          |   NA        | 0.00        | 0.00        | NA          | NA          |\n",
       "| Afghanistan | AFG         | 2021-02-23  |    NA       |    NA       | NA          | NA          | 1367        |   NA        |   NA        | NA          | 35          |\n",
       "| Afghanistan | AFG         | 2021-02-24  |    NA       |    NA       | NA          | NA          | 1367        |   NA        |   NA        | NA          | 35          |\n",
       "| Afghanistan | AFG         | 2021-02-25  |    NA       |    NA       | NA          | NA          | 1367        |   NA        |   NA        | NA          | 35          |\n",
       "| Afghanistan | AFG         | 2021-02-26  |    NA       |    NA       | NA          | NA          | 1367        |   NA        |   NA        | NA          | 35          |\n",
       "| Afghanistan | AFG         | 2021-02-27  |    NA       |    NA       | NA          | NA          | 1367        |   NA        |   NA        | NA          | 35          |\n",
       "| Afghanistan | AFG         | 2021-02-28  |  8200       |  8200       | NA          | NA          | 1367        | 0.02        | 0.02        | NA          | 35          |\n",
       "| Afghanistan | AFG         | 2021-03-01  |    NA       |    NA       | NA          | NA          | 1580        |   NA        |   NA        | NA          | 41          |\n",
       "| Afghanistan | AFG         | 2021-03-02  |    NA       |    NA       | NA          | NA          | 1794        |   NA        |   NA        | NA          | 46          |\n",
       "| Afghanistan | AFG         | 2021-03-03  |    NA       |    NA       | NA          | NA          | 2008        |   NA        |   NA        | NA          | 52          |\n",
       "| Afghanistan | AFG         | 2021-03-04  |    NA       |    NA       | NA          | NA          | 2221        |   NA        |   NA        | NA          | 57          |\n",
       "| Afghanistan | AFG         | 2021-03-05  |    NA       |    NA       | NA          | NA          | 2435        |   NA        |   NA        | NA          | 63          |\n",
       "| Afghanistan | AFG         | 2021-03-06  |    NA       |    NA       | NA          | NA          | 2649        |   NA        |   NA        | NA          | 68          |\n",
       "| Afghanistan | AFG         | 2021-03-07  |    NA       |    NA       | NA          | NA          | 2862        |   NA        |   NA        | NA          | 74          |\n",
       "| Afghanistan | AFG         | 2021-03-08  |    NA       |    NA       | NA          | NA          | 2862        |   NA        |   NA        | NA          | 74          |\n",
       "| Afghanistan | AFG         | 2021-03-09  |    NA       |    NA       | NA          | NA          | 2862        |   NA        |   NA        | NA          | 74          |\n",
       "| Afghanistan | AFG         | 2021-03-10  |    NA       |    NA       | NA          | NA          | 2862        |   NA        |   NA        | NA          | 74          |\n",
       "| Afghanistan | AFG         | 2021-03-11  |    NA       |    NA       | NA          | NA          | 2862        |   NA        |   NA        | NA          | 74          |\n",
       "| Afghanistan | AFG         | 2021-03-12  |    NA       |    NA       | NA          | NA          | 2862        |   NA        |   NA        | NA          | 74          |\n",
       "| Afghanistan | AFG         | 2021-03-13  |    NA       |    NA       | NA          | NA          | 2862        |   NA        |   NA        | NA          | 74          |\n",
       "| Afghanistan | AFG         | 2021-03-14  |    NA       |    NA       | NA          | NA          | 2862        |   NA        |   NA        | NA          | 74          |\n",
       "| Afghanistan | AFG         | 2021-03-15  |    NA       |    NA       | NA          | NA          | 2862        |   NA        |   NA        | NA          | 74          |\n",
       "| Afghanistan | AFG         | 2021-03-16  | 54000       | 54000       | NA          | NA          | 2862        | 0.14        | 0.14        | NA          | 74          |\n",
       "| Afghanistan | AFG         | 2021-03-17  |    NA       |    NA       | NA          | NA          | 2882        |   NA        |   NA        | NA          | 74          |\n",
       "| Afghanistan | AFG         | 2021-03-18  |    NA       |    NA       | NA          | NA          | 2902        |   NA        |   NA        | NA          | 75          |\n",
       "| Afghanistan | AFG         | 2021-03-19  |    NA       |    NA       | NA          | NA          | 2921        |   NA        |   NA        | NA          | 75          |\n",
       "| Afghanistan | AFG         | 2021-03-20  |    NA       |    NA       | NA          | NA          | 2941        |   NA        |   NA        | NA          | 76          |\n",
       "| Afghanistan | AFG         | 2021-03-21  |    NA       |    NA       | NA          | NA          | 2961        |   NA        |   NA        | NA          | 76          |\n",
       "| Afghanistan | AFG         | 2021-03-22  |    NA       |    NA       | NA          | NA          | 2980        |   NA        |   NA        | NA          | 77          |\n",
       "| Afghanistan | AFG         | 2021-03-23  |    NA       |    NA       | NA          | NA          | 3000        |   NA        |   NA        | NA          | 77          |\n",
       "| ... | ... | ... | ... | ... | ... | ... | ... | ... | ... | ... | ... |\n",
       "| Zimbabwe   | ZWE        | 2021-03-09 |  35761     |  35761     |    NA      |   243      |  1526      | 0.24       | 0.24       |   NA       | 103        |\n",
       "| Zimbabwe   | ZWE        | 2021-03-10 |  35901     |  35901     |    NA      |   140      |  1133      | 0.24       | 0.24       |   NA       |  76        |\n",
       "| Zimbabwe   | ZWE        | 2021-03-11 |  36019     |  36019     |    NA      |   118      |   766      | 0.24       | 0.24       |   NA       |  52        |\n",
       "| Zimbabwe   | ZWE        | 2021-03-12 |  36283     |  36283     |    NA      |   264      |   708      | 0.24       | 0.24       |   NA       |  48        |\n",
       "| Zimbabwe   | ZWE        | 2021-03-13 |  36359     |  36359     |    NA      |    76      |   621      | 0.24       | 0.24       |   NA       |  42        |\n",
       "| Zimbabwe   | ZWE        | 2021-03-14 |  36359     |  36359     |    NA      |     0      |   588      | 0.24       | 0.24       |   NA       |  40        |\n",
       "| Zimbabwe   | ZWE        | 2021-03-15 |  37660     |  37660     |    NA      |  1301      |   306      | 0.25       | 0.25       |   NA       |  21        |\n",
       "| Zimbabwe   | ZWE        | 2021-03-16 |  39550     |  39550     |    NA      |  1890      |   541      | 0.27       | 0.27       |   NA       |  36        |\n",
       "| Zimbabwe   | ZWE        | 2021-03-17 |  39607     |  39607     |    NA      |    57      |   529      | 0.27       | 0.27       |   NA       |  36        |\n",
       "| Zimbabwe   | ZWE        | 2021-03-18 |  40002     |  40002     |    NA      |   395      |   569      | 0.27       | 0.27       |   NA       |  38        |\n",
       "| Zimbabwe   | ZWE        | 2021-03-19 |  41687     |  41687     |    NA      |  1685      |   772      | 0.28       | 0.28       |   NA       |  52        |\n",
       "| Zimbabwe   | ZWE        | 2021-03-20 |  42210     |  42210     |    NA      |   523      |   836      | 0.28       | 0.28       |   NA       |  56        |\n",
       "| Zimbabwe   | ZWE        | 2021-03-21 |  42729     |  42729     |    NA      |   519      |   910      | 0.29       | 0.29       |   NA       |  61        |\n",
       "| Zimbabwe   | ZWE        | 2021-03-22 |  43574     |  43294     |   280      |   845      |   845      | 0.29       | 0.29       | 0.00       |  57        |\n",
       "| Zimbabwe   | ZWE        | 2021-03-23 |  45197     |  44135     |  1062      |  1623      |   807      | 0.30       | 0.30       | 0.01       |  54        |\n",
       "| Zimbabwe   | ZWE        | 2021-03-24 |  51893     |  49404     |  2489      |  6696      |  1755      | 0.35       | 0.33       | 0.02       | 118        |\n",
       "| Zimbabwe   | ZWE        | 2021-03-25 |  58987     |  54892     |  4095      |  7094      |  2712      | 0.40       | 0.37       | 0.03       | 182        |\n",
       "| Zimbabwe   | ZWE        | 2021-03-26 |  67662     |  61093     |  6569      |  8675      |  3711      | 0.46       | 0.41       | 0.04       | 250        |\n",
       "| Zimbabwe   | ZWE        | 2021-03-27 |  73431     |  65466     |  7965      |  5769      |  4460      | 0.49       | 0.44       | 0.05       | 300        |\n",
       "| Zimbabwe   | ZWE        | 2021-03-28 |  79139     |  68511     | 10628      |  5708      |  5201      | 0.53       | 0.46       | 0.07       | 350        |\n",
       "| Zimbabwe   | ZWE        | 2021-03-29 |  81610     |  69751     | 11859      |  2471      |  5434      | 0.55       | 0.47       | 0.08       | 366        |\n",
       "| Zimbabwe   | ZWE        | 2021-03-30 |  85866     |  72944     | 12922      |  4256      |  5810      | 0.58       | 0.49       | 0.09       | 391        |\n",
       "| Zimbabwe   | ZWE        | 2021-03-31 |  91880     |  76995     | 14885      |  6014      |  5712      | 0.62       | 0.52       | 0.10       | 384        |\n",
       "| Zimbabwe   | ZWE        | 2021-04-01 | 105307     |  87791     | 17516      | 13427      |  6617      | 0.71       | 0.59       | 0.12       | 445        |\n",
       "| Zimbabwe   | ZWE        | 2021-04-02 | 124753     | 103815     | 20938      | 19446      |  8156      | 0.84       | 0.70       | 0.14       | 549        |\n",
       "| Zimbabwe   | ZWE        | 2021-04-03 | 132915     | 111588     | 21327      |  8162      |  8498      | 0.89       | 0.75       | 0.14       | 572        |\n",
       "| Zimbabwe   | ZWE        | 2021-04-04 | 138900     | 117297     | 21603      |  5985      |  8537      | 0.93       | 0.79       | 0.15       | 574        |\n",
       "| Zimbabwe   | ZWE        | 2021-04-05 | 145510     | 123454     | 22056      |  6610      |  9129      | 0.98       | 0.83       | 0.15       | 614        |\n",
       "| Zimbabwe   | ZWE        | 2021-04-06 | 162633     | 139133     | 23500      | 17123      | 10967      | 1.09       | 0.94       | 0.16       | 738        |\n",
       "| Zimbabwe   | ZWE        | 2021-04-07 | 179417     | 153238     | 26179      | 16784      | 12505      | 1.21       | 1.03       | 0.18       | 841        |\n",
       "\n"
      ],
      "text/plain": [
       "      location    iso_code date       total_vaccinations people_vaccinated\n",
       "1     Afghanistan AFG      2021-02-22     0                  0            \n",
       "2     Afghanistan AFG      2021-02-23    NA                 NA            \n",
       "3     Afghanistan AFG      2021-02-24    NA                 NA            \n",
       "4     Afghanistan AFG      2021-02-25    NA                 NA            \n",
       "5     Afghanistan AFG      2021-02-26    NA                 NA            \n",
       "6     Afghanistan AFG      2021-02-27    NA                 NA            \n",
       "7     Afghanistan AFG      2021-02-28  8200               8200            \n",
       "8     Afghanistan AFG      2021-03-01    NA                 NA            \n",
       "9     Afghanistan AFG      2021-03-02    NA                 NA            \n",
       "10    Afghanistan AFG      2021-03-03    NA                 NA            \n",
       "11    Afghanistan AFG      2021-03-04    NA                 NA            \n",
       "12    Afghanistan AFG      2021-03-05    NA                 NA            \n",
       "13    Afghanistan AFG      2021-03-06    NA                 NA            \n",
       "14    Afghanistan AFG      2021-03-07    NA                 NA            \n",
       "15    Afghanistan AFG      2021-03-08    NA                 NA            \n",
       "16    Afghanistan AFG      2021-03-09    NA                 NA            \n",
       "17    Afghanistan AFG      2021-03-10    NA                 NA            \n",
       "18    Afghanistan AFG      2021-03-11    NA                 NA            \n",
       "19    Afghanistan AFG      2021-03-12    NA                 NA            \n",
       "20    Afghanistan AFG      2021-03-13    NA                 NA            \n",
       "21    Afghanistan AFG      2021-03-14    NA                 NA            \n",
       "22    Afghanistan AFG      2021-03-15    NA                 NA            \n",
       "23    Afghanistan AFG      2021-03-16 54000              54000            \n",
       "24    Afghanistan AFG      2021-03-17    NA                 NA            \n",
       "25    Afghanistan AFG      2021-03-18    NA                 NA            \n",
       "26    Afghanistan AFG      2021-03-19    NA                 NA            \n",
       "27    Afghanistan AFG      2021-03-20    NA                 NA            \n",
       "28    Afghanistan AFG      2021-03-21    NA                 NA            \n",
       "29    Afghanistan AFG      2021-03-22    NA                 NA            \n",
       "30    Afghanistan AFG      2021-03-23    NA                 NA            \n",
       "...   ...         ...      ...        ...                ...              \n",
       "11435 Zimbabwe    ZWE      2021-03-09  35761              35761           \n",
       "11436 Zimbabwe    ZWE      2021-03-10  35901              35901           \n",
       "11437 Zimbabwe    ZWE      2021-03-11  36019              36019           \n",
       "11438 Zimbabwe    ZWE      2021-03-12  36283              36283           \n",
       "11439 Zimbabwe    ZWE      2021-03-13  36359              36359           \n",
       "11440 Zimbabwe    ZWE      2021-03-14  36359              36359           \n",
       "11441 Zimbabwe    ZWE      2021-03-15  37660              37660           \n",
       "11442 Zimbabwe    ZWE      2021-03-16  39550              39550           \n",
       "11443 Zimbabwe    ZWE      2021-03-17  39607              39607           \n",
       "11444 Zimbabwe    ZWE      2021-03-18  40002              40002           \n",
       "11445 Zimbabwe    ZWE      2021-03-19  41687              41687           \n",
       "11446 Zimbabwe    ZWE      2021-03-20  42210              42210           \n",
       "11447 Zimbabwe    ZWE      2021-03-21  42729              42729           \n",
       "11448 Zimbabwe    ZWE      2021-03-22  43574              43294           \n",
       "11449 Zimbabwe    ZWE      2021-03-23  45197              44135           \n",
       "11450 Zimbabwe    ZWE      2021-03-24  51893              49404           \n",
       "11451 Zimbabwe    ZWE      2021-03-25  58987              54892           \n",
       "11452 Zimbabwe    ZWE      2021-03-26  67662              61093           \n",
       "11453 Zimbabwe    ZWE      2021-03-27  73431              65466           \n",
       "11454 Zimbabwe    ZWE      2021-03-28  79139              68511           \n",
       "11455 Zimbabwe    ZWE      2021-03-29  81610              69751           \n",
       "11456 Zimbabwe    ZWE      2021-03-30  85866              72944           \n",
       "11457 Zimbabwe    ZWE      2021-03-31  91880              76995           \n",
       "11458 Zimbabwe    ZWE      2021-04-01 105307              87791           \n",
       "11459 Zimbabwe    ZWE      2021-04-02 124753             103815           \n",
       "11460 Zimbabwe    ZWE      2021-04-03 132915             111588           \n",
       "11461 Zimbabwe    ZWE      2021-04-04 138900             117297           \n",
       "11462 Zimbabwe    ZWE      2021-04-05 145510             123454           \n",
       "11463 Zimbabwe    ZWE      2021-04-06 162633             139133           \n",
       "11464 Zimbabwe    ZWE      2021-04-07 179417             153238           \n",
       "      people_fully_vaccinated daily_vaccinations_raw daily_vaccinations\n",
       "1     NA                      NA                       NA              \n",
       "2     NA                      NA                     1367              \n",
       "3     NA                      NA                     1367              \n",
       "4     NA                      NA                     1367              \n",
       "5     NA                      NA                     1367              \n",
       "6     NA                      NA                     1367              \n",
       "7     NA                      NA                     1367              \n",
       "8     NA                      NA                     1580              \n",
       "9     NA                      NA                     1794              \n",
       "10    NA                      NA                     2008              \n",
       "11    NA                      NA                     2221              \n",
       "12    NA                      NA                     2435              \n",
       "13    NA                      NA                     2649              \n",
       "14    NA                      NA                     2862              \n",
       "15    NA                      NA                     2862              \n",
       "16    NA                      NA                     2862              \n",
       "17    NA                      NA                     2862              \n",
       "18    NA                      NA                     2862              \n",
       "19    NA                      NA                     2862              \n",
       "20    NA                      NA                     2862              \n",
       "21    NA                      NA                     2862              \n",
       "22    NA                      NA                     2862              \n",
       "23    NA                      NA                     2862              \n",
       "24    NA                      NA                     2882              \n",
       "25    NA                      NA                     2902              \n",
       "26    NA                      NA                     2921              \n",
       "27    NA                      NA                     2941              \n",
       "28    NA                      NA                     2961              \n",
       "29    NA                      NA                     2980              \n",
       "30    NA                      NA                     3000              \n",
       "...   ...                     ...                    ...               \n",
       "11435    NA                     243                   1526             \n",
       "11436    NA                     140                   1133             \n",
       "11437    NA                     118                    766             \n",
       "11438    NA                     264                    708             \n",
       "11439    NA                      76                    621             \n",
       "11440    NA                       0                    588             \n",
       "11441    NA                    1301                    306             \n",
       "11442    NA                    1890                    541             \n",
       "11443    NA                      57                    529             \n",
       "11444    NA                     395                    569             \n",
       "11445    NA                    1685                    772             \n",
       "11446    NA                     523                    836             \n",
       "11447    NA                     519                    910             \n",
       "11448   280                     845                    845             \n",
       "11449  1062                    1623                    807             \n",
       "11450  2489                    6696                   1755             \n",
       "11451  4095                    7094                   2712             \n",
       "11452  6569                    8675                   3711             \n",
       "11453  7965                    5769                   4460             \n",
       "11454 10628                    5708                   5201             \n",
       "11455 11859                    2471                   5434             \n",
       "11456 12922                    4256                   5810             \n",
       "11457 14885                    6014                   5712             \n",
       "11458 17516                   13427                   6617             \n",
       "11459 20938                   19446                   8156             \n",
       "11460 21327                    8162                   8498             \n",
       "11461 21603                    5985                   8537             \n",
       "11462 22056                    6610                   9129             \n",
       "11463 23500                   17123                  10967             \n",
       "11464 26179                   16784                  12505             \n",
       "      total_vaccinations_per_hundred people_vaccinated_per_hundred\n",
       "1     0.00                           0.00                         \n",
       "2       NA                             NA                         \n",
       "3       NA                             NA                         \n",
       "4       NA                             NA                         \n",
       "5       NA                             NA                         \n",
       "6       NA                             NA                         \n",
       "7     0.02                           0.02                         \n",
       "8       NA                             NA                         \n",
       "9       NA                             NA                         \n",
       "10      NA                             NA                         \n",
       "11      NA                             NA                         \n",
       "12      NA                             NA                         \n",
       "13      NA                             NA                         \n",
       "14      NA                             NA                         \n",
       "15      NA                             NA                         \n",
       "16      NA                             NA                         \n",
       "17      NA                             NA                         \n",
       "18      NA                             NA                         \n",
       "19      NA                             NA                         \n",
       "20      NA                             NA                         \n",
       "21      NA                             NA                         \n",
       "22      NA                             NA                         \n",
       "23    0.14                           0.14                         \n",
       "24      NA                             NA                         \n",
       "25      NA                             NA                         \n",
       "26      NA                             NA                         \n",
       "27      NA                             NA                         \n",
       "28      NA                             NA                         \n",
       "29      NA                             NA                         \n",
       "30      NA                             NA                         \n",
       "...   ...                            ...                          \n",
       "11435 0.24                           0.24                         \n",
       "11436 0.24                           0.24                         \n",
       "11437 0.24                           0.24                         \n",
       "11438 0.24                           0.24                         \n",
       "11439 0.24                           0.24                         \n",
       "11440 0.24                           0.24                         \n",
       "11441 0.25                           0.25                         \n",
       "11442 0.27                           0.27                         \n",
       "11443 0.27                           0.27                         \n",
       "11444 0.27                           0.27                         \n",
       "11445 0.28                           0.28                         \n",
       "11446 0.28                           0.28                         \n",
       "11447 0.29                           0.29                         \n",
       "11448 0.29                           0.29                         \n",
       "11449 0.30                           0.30                         \n",
       "11450 0.35                           0.33                         \n",
       "11451 0.40                           0.37                         \n",
       "11452 0.46                           0.41                         \n",
       "11453 0.49                           0.44                         \n",
       "11454 0.53                           0.46                         \n",
       "11455 0.55                           0.47                         \n",
       "11456 0.58                           0.49                         \n",
       "11457 0.62                           0.52                         \n",
       "11458 0.71                           0.59                         \n",
       "11459 0.84                           0.70                         \n",
       "11460 0.89                           0.75                         \n",
       "11461 0.93                           0.79                         \n",
       "11462 0.98                           0.83                         \n",
       "11463 1.09                           0.94                         \n",
       "11464 1.21                           1.03                         \n",
       "      people_fully_vaccinated_per_hundred daily_vaccinations_per_million\n",
       "1     NA                                  NA                            \n",
       "2     NA                                  35                            \n",
       "3     NA                                  35                            \n",
       "4     NA                                  35                            \n",
       "5     NA                                  35                            \n",
       "6     NA                                  35                            \n",
       "7     NA                                  35                            \n",
       "8     NA                                  41                            \n",
       "9     NA                                  46                            \n",
       "10    NA                                  52                            \n",
       "11    NA                                  57                            \n",
       "12    NA                                  63                            \n",
       "13    NA                                  68                            \n",
       "14    NA                                  74                            \n",
       "15    NA                                  74                            \n",
       "16    NA                                  74                            \n",
       "17    NA                                  74                            \n",
       "18    NA                                  74                            \n",
       "19    NA                                  74                            \n",
       "20    NA                                  74                            \n",
       "21    NA                                  74                            \n",
       "22    NA                                  74                            \n",
       "23    NA                                  74                            \n",
       "24    NA                                  74                            \n",
       "25    NA                                  75                            \n",
       "26    NA                                  75                            \n",
       "27    NA                                  76                            \n",
       "28    NA                                  76                            \n",
       "29    NA                                  77                            \n",
       "30    NA                                  77                            \n",
       "...   ...                                 ...                           \n",
       "11435   NA                                103                           \n",
       "11436   NA                                 76                           \n",
       "11437   NA                                 52                           \n",
       "11438   NA                                 48                           \n",
       "11439   NA                                 42                           \n",
       "11440   NA                                 40                           \n",
       "11441   NA                                 21                           \n",
       "11442   NA                                 36                           \n",
       "11443   NA                                 36                           \n",
       "11444   NA                                 38                           \n",
       "11445   NA                                 52                           \n",
       "11446   NA                                 56                           \n",
       "11447   NA                                 61                           \n",
       "11448 0.00                                 57                           \n",
       "11449 0.01                                 54                           \n",
       "11450 0.02                                118                           \n",
       "11451 0.03                                182                           \n",
       "11452 0.04                                250                           \n",
       "11453 0.05                                300                           \n",
       "11454 0.07                                350                           \n",
       "11455 0.08                                366                           \n",
       "11456 0.09                                391                           \n",
       "11457 0.10                                384                           \n",
       "11458 0.12                                445                           \n",
       "11459 0.14                                549                           \n",
       "11460 0.14                                572                           \n",
       "11461 0.15                                574                           \n",
       "11462 0.15                                614                           \n",
       "11463 0.16                                738                           \n",
       "11464 0.18                                841                           "
      ]
     },
     "metadata": {},
     "output_type": "display_data"
    }
   ],
   "source": [
    "file2<-as_tibble( read.csv(file=\"vaccinations.csv\",sep=\",\", header = T,stringsAsFactors = FALSE) )\n",
    "file2"
   ]
  },
  {
   "cell_type": "markdown",
   "id": "concerned-throw",
   "metadata": {},
   "source": [
    "### 1) selecting all the European countries in the tibble, plot the number of daily vaccinations per million as a function of date"
   ]
  },
  {
   "cell_type": "code",
   "execution_count": 36,
   "id": "environmental-leadership",
   "metadata": {},
   "outputs": [
    {
     "data": {
      "image/png": "[encoded data removed]",
      "text/plain": [
       "Plot with title \"European Countries\""
      ]
     },
     "metadata": {},
     "output_type": "display_data"
    }
   ],
   "source": [
    "all_european<-file2[file2$iso_code==\"OWID_EUR\",]\n",
    "europe<-na.omit(as.data.frame(all_european,stringsAsFactors = FALSE))\n",
    "\n",
    "barplot(height=europe$daily_vaccinations_per_million,names.arg=\"2020-12-28 to 2021-04-08\",\n",
    "        col=\"coral1\",xlab=\"time vaccination\",ylab=\"vaccinations per milion\",ylim=c(0,4000))\n",
    "title(main=\"European Countries\")"
   ]
  },
  {
   "cell_type": "markdown",
   "id": "surrounded-crisis",
   "metadata": {},
   "source": [
    "### 2) study the data structure and produce few relevant plots of your taste"
   ]
  },
  {
   "cell_type": "code",
   "execution_count": 37,
   "id": "legal-customer",
   "metadata": {},
   "outputs": [
    {
     "data": {
      "image/png": "[encoded data removed]",
      "text/plain": [
       "Plot with title \"North America\""
      ]
     },
     "metadata": {},
     "output_type": "display_data"
    }
   ],
   "source": [
    "nord_america<-file2[file2$iso_code==\"OWID_NAM\",]\n",
    "nord_america<-na.omit(as.data.frame(nord_america,stringsAsFactors = FALSE))\n",
    "\n",
    "barplot(height=nord_america$daily_vaccinations_per_million,names.arg=\"2020-12-27 to 2021-04-08\",\n",
    "        col=\"palegoldenrod\",xlab=\"time vaccination\",ylab=\"vaccinations per milion\",ylim=c(0,6000))\n",
    "title(main=\"North America\")"
   ]
  },
  {
   "cell_type": "code",
   "execution_count": 38,
   "id": "applied-compiler",
   "metadata": {},
   "outputs": [
    {
     "data": {
      "image/png": "[encoded data removed]",
      "text/plain": [
       "Plot with title \"Asia\""
      ]
     },
     "metadata": {},
     "output_type": "display_data"
    }
   ],
   "source": [
    "asia<-file2[file2$iso_code==\"OWID_ASI\",]\n",
    "asia<-na.omit(as.data.frame(asia,stringsAsFactors = FALSE))\n",
    "\n",
    "barplot(height=asia$daily_vaccinations_per_million,names.arg=\"2020-12-15 to 2021-04-08\",\n",
    "        col=\"lightblue\",xlab=\"time vaccination\",ylab=\"vaccinations per milion\",ylim=c(0,2000))\n",
    "title(main=\"Asia\")\n"
   ]
  },
  {
   "cell_type": "code",
   "execution_count": 39,
   "id": "prompt-remedy",
   "metadata": {},
   "outputs": [
    {
     "data": {
      "image/png": "[encoded data removed]",
      "text/plain": [
       "Plot with title \"WORLD\""
      ]
     },
     "metadata": {},
     "output_type": "display_data"
    }
   ],
   "source": [
    "all_world<-file2[file2$iso_code==\"OWID_WRL\",]\n",
    "world<-na.omit(as.data.frame(all_world,stringsAsFactors = FALSE))\n",
    "\n",
    "barplot(height=world$daily_vaccinations_per_million,names.arg=\"2020-12-15 to 2021-04-08\",\n",
    "        col=\"lightcoral\",xlab=\"time vaccination\",ylab=\"vaccinations per milion\",ylim=c(0,2000))\n",
    "title(main=\"WORLD\")"
   ]
  },
  {
   "cell_type": "code",
   "execution_count": null,
   "id": "indonesian-august",
   "metadata": {},
   "outputs": [],
   "source": []
  }
 ],
 "metadata": {
  "kernelspec": {
   "display_name": "R",
   "language": "R",
   "name": "ir"
  },
  "language_info": {
   "codemirror_mode": "r",
   "file_extension": ".r",
   "mimetype": "text/x-r-source",
   "name": "R",
   "pygments_lexer": "r",
   "version": "3.5.1"
  }
 },
 "nbformat": 4,
 "nbformat_minor": 5
}
