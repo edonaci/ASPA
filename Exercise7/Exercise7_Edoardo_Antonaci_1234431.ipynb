{
 "cells": [
  {
   "cell_type": "markdown",
   "id": "polish-independence",
   "metadata": {},
   "source": [
    "#                                       Edoardo Antonaci 1234431"
   ]
  },
  {
   "cell_type": "markdown",
   "id": "emotional-clone",
   "metadata": {},
   "source": [
    "## Exercise 1"
   ]
  },
  {
   "cell_type": "markdown",
   "id": "raising-allowance",
   "metadata": {},
   "source": [
    "### • a well established and diffused method for detecting a disease in blood fails to detect the presence \n",
    "### of disease in 15% of the patients that actually have the disease"
   ]
  },
  {
   "cell_type": "markdown",
   "id": "annual-baking",
   "metadata": {},
   "source": [
    "### • A young UniPD startUp has developed an innovative method of screening. During the qualification \n",
    "### phase, a random sample of n = 75 patients known to have the disease is screened using the new\n",
    "### method."
   ]
  },
  {
   "cell_type": "markdown",
   "id": "quality-oakland",
   "metadata": {},
   "source": [
    "### (a) what is the probability distribution of y, the number of times the new method fails to detect the disease ?"
   ]
  },
  {
   "cell_type": "markdown",
   "id": "educational-hayes",
   "metadata": {},
   "source": [
    "###   <span style=\"color:blue\"> without informations about how the new method works ,we suppose a Beta(1,1) distribution. </span>"
   ]
  },
  {
   "cell_type": "markdown",
   "id": "elementary-booking",
   "metadata": {},
   "source": [
    "### (b) on the n = 75 patients sample, the new method fails to detect the disease in y = 6 cases. What is the frequentist estimator of the failure probability of the new method ?"
   ]
  },
  {
   "cell_type": "markdown",
   "id": "basic-magnet",
   "metadata": {},
   "source": [
    "###   <span style=\"color:blue\">For frequentist approach an *unbiased* estimator is  <font size=\"5\">$\\frac{y}{n}$</span> <span style=\"color:blue\"> =0.08 </span>"
   ]
  },
  {
   "cell_type": "markdown",
   "id": "simple-london",
   "metadata": {},
   "source": [
    "### (c) setup a bayesian computation of the posterior probability, assuming a beta distribution with mean value 0.15 and standard deviation 0.14. Plot the posterior distribution for y, and mark on the plot the mean value and variance"
   ]
  },
  {
   "cell_type": "code",
   "execution_count": 1,
   "id": "funded-edwards",
   "metadata": {},
   "outputs": [],
   "source": [
    "bayesian<-function(x,mean,std,par){\n",
    "    var<-std**2\n",
    "    \n",
    "    \n",
    "    alpha<-mean*(-mean**2+mean-var)/var\n",
    "    \n",
    "    beta<-alpha*(1/mean-1)\n",
    "    \n",
    "    if(par==0){return(dbeta(x, alpha , beta) )}else{return(c(alpha,beta) )}\n",
    "    \n",
    "    }\n",
    "\n",
    "mean_var<-function(alpha,beta){\n",
    "    \n",
    "    mean<-alpha/(alpha+beta)\n",
    "    \n",
    "    var<-alpha*beta/((alpha+beta)^2*(alpha+beta+1))\n",
    "\n",
    "    return(c(mean,var) )\n",
    "}"
   ]
  },
  {
   "cell_type": "code",
   "execution_count": 2,
   "id": "operational-forty",
   "metadata": {},
   "outputs": [
    {
     "data": {
      "image/png": "[encoded data removed]",
      "text/plain": [
       "Plot with title \"Posterior\""
      ]
     },
     "metadata": {},
     "output_type": "display_data"
    }
   ],
   "source": [
    "y<-6\n",
    "n<-75\n",
    "p<-y/n\n",
    "\n",
    "\n",
    "x <- seq(0,1, length = 1e3)\n",
    "interval_width<-1/(length(x)-1)\n",
    "\n",
    "alpha_prior<-bayesian(mean=0.15,std=0.14,par=1)[1]\n",
    "beta_prior<-bayesian(mean=0.15,std=0.14,par=1)[2]\n",
    "\n",
    "alpha_posterior<-alpha_prior+y\n",
    "\n",
    "beta_posterior<-beta_prior+n-y\n",
    "\n",
    "posterior<-dbeta(x=x,alpha_posterior,beta_posterior)\n",
    "\n",
    "mean_posterior<-mean_var(alpha_posterior,beta_posterior)[1]\n",
    "\n",
    "var_posterior<-mean_var(alpha_posterior,beta_posterior)[2]\n",
    "\n",
    "plot(x,posterior/sum(posterior*interval_width),col=\"blue\",xlim=c(0,0.22),type=\"l\",lwd=2,\n",
    "    ylab=\"probability distribution\",xlab=\"p-parameter\",main=\"Posterior\")\n",
    "grid(nx = NULL, ny = NULL, col = \"darkgray\", lty = \"dotted\")\n",
    "abline(v=mean_posterior, col=\"gray40\", lty=2)\n",
    "abline(v=mean_posterior+sqrt(var_posterior), col=\"chocolate\", lty=2)\n",
    "abline(v=mean_posterior-sqrt(var_posterior), col=\"red\", lty=2)\n",
    "legend(0.15,10, c(\"µ\", \"µ+s\", \"µ-s\"), \n",
    "       col=c(\"gray40\",\"chocolate\",\"red\"), \n",
    "       lty= c(\"dashed\",\"dashed\",\"dashed\"),\n",
    "       lwd = c(2,2,2) )\n"
   ]
  },
  {
   "cell_type": "markdown",
   "id": "fallen-meditation",
   "metadata": {},
   "source": [
    "### (d) Perform a test of hypothesis assuming that if the probability of failing to the detect the desease in ill patients is greater or equal than 15%, the new test is no better that the traditional method. Test the sample at a 5% level of significance in the Bayesian way."
   ]
  },
  {
   "cell_type": "code",
   "execution_count": 3,
   "id": "adolescent-richards",
   "metadata": {},
   "outputs": [
    {
     "name": "stdout",
     "output_type": "stream",
     "text": [
      "Hypothesis test can be rejected"
     ]
    }
   ],
   "source": [
    "if(pbeta(0.15,alpha_posterior,beta_posterior,lower.tail=FALSE)<0.05){\n",
    "    cat(\"Hypothesis test can be rejected\")}else{\n",
    "    cat(\"Hypothesis test cannot be rejected\")}"
   ]
  },
  {
   "cell_type": "code",
   "execution_count": 19,
   "id": "0b711ba8",
   "metadata": {},
   "outputs": [],
   "source": [
    "?pbeta"
   ]
  },
  {
   "cell_type": "markdown",
   "id": "timely-mouse",
   "metadata": {},
   "source": [
    "###  <span style=\"color:blue\"> Bayesian way : the new test works better than traditional one </span>"
   ]
  },
  {
   "cell_type": "markdown",
   "id": "accepting-murray",
   "metadata": {},
   "source": [
    "### (e) Perform the same hypothesis test in the classical frequentist way."
   ]
  },
  {
   "cell_type": "code",
   "execution_count": 4,
   "id": "historical-religion",
   "metadata": {},
   "outputs": [
    {
     "name": "stdout",
     "output_type": "stream",
     "text": [
      "Hypothesis test cannot be rejected"
     ]
    },
    {
     "data": {
      "text/plain": [
       "\n",
       "\tExact binomial test\n",
       "\n",
       "data:  6 and 75\n",
       "number of successes = 6, number of trials = 75, p-value = 0.05435\n",
       "alternative hypothesis: true probability of success is less than 0.15\n",
       "95 percent confidence interval:\n",
       " 0.0000000 0.1517971\n",
       "sample estimates:\n",
       "probability of success \n",
       "                  0.08 \n"
      ]
     },
     "metadata": {},
     "output_type": "display_data"
    }
   ],
   "source": [
    "bin_test<-binom.test(x=6, n=75, p = 0.15,\n",
    "           alternative = \"less\",  #alternative hypothesis : the test works better than traditional one\n",
    "           conf.level = 0.95)\n",
    "\n",
    "if(bin_test$p.value<0.05){\n",
    "    cat(\"Hypothesis test can be rejected\")}else{\n",
    "    cat(\"Hypothesis test cannot be rejected\")}\n",
    "\n",
    "bin_test"
   ]
  },
  {
   "cell_type": "markdown",
   "id": "acquired-dining",
   "metadata": {},
   "source": [
    "###  <span style=\"color:blue\"> Frequentist way : the new test doesn't work better than traditional one </span>"
   ]
  },
  {
   "cell_type": "markdown",
   "id": "social-chemistry",
   "metadata": {},
   "source": [
    "## Exercise 2"
   ]
  },
  {
   "cell_type": "markdown",
   "id": "prescribed-italy",
   "metadata": {},
   "source": [
    "### • Ladislaus Josephovich Bortkiewicz was a Russian economist and statistician. He noted that the Poisson distribution can be very useful in applied statistics when describing low-frequency events in a large population. In a famous example he showed that the number of deaths by horse kick among the Prussian army follows the Poisson distribution"
   ]
  },
  {
   "cell_type": "markdown",
   "id": "worthy-certification",
   "metadata": {},
   "source": [
    "### • Considering the following to sets of observations taken over a fixed large time interval in two different corps:\n"
   ]
  },
  {
   "cell_type": "markdown",
   "id": "premium-harbor",
   "metadata": {},
   "source": [
    "### y death soldiers 0 1 2 3 4   [≥ 5]\n",
    "### n1 observations 109 65 22 3 1 0\n",
    "### n2 observations 144 91 32 11 2 0\n"
   ]
  },
  {
   "cell_type": "markdown",
   "id": "processed-adaptation",
   "metadata": {},
   "source": [
    "### (a) assuming a uniform prior, compute and plot the posterior distribution for λ, the death rate over the measurement time. Determine the posterior mean, median and variance, and compute the 95% credibility interval."
   ]
  },
  {
   "cell_type": "code",
   "execution_count": 5,
   "id": "packed-congo",
   "metadata": {},
   "outputs": [],
   "source": [
    "graphs<-function(lambda,interval_width,par){\n",
    "\n",
    "    alpha<-sum(0*(109+144)+1*(65+91)+2*(22+32)+3*(3+11)+4*(1+2))+par\n",
    "    beta<-sum((109+144)+(65+91)+(22+32)+(3+11)+(1+2))   \n",
    "\n",
    "\n",
    "    posterior<-dgamma(lambda,shape=alpha,scale=1/beta)   \n",
    "\n",
    "    mean_posterior<-alpha*1/beta\n",
    "    median_posterior<-qgamma(0.50,shape=alpha,scale=1/beta)\n",
    "    variance_posterior<-alpha*1/beta^2\n",
    "\n",
    "    lower_bound<-qgamma(0.025,shape=alpha,scale=1/beta)\n",
    "\n",
    "    upper_bound<-qgamma(0.975,shape=alpha,scale=1/beta)\n",
    "\n",
    "    cat(\"The mean value is\",mean_posterior,\"\\n\")\n",
    "    cat(\"The median value is\",median_posterior,\"\\n\")\n",
    "    cat(\"The variance value is\",variance_posterior,\"\\n\")\n",
    "    cat(\" The 95% credibility intervall is [\",lower_bound,\",\",upper_bound,\"]\")\n",
    "\n",
    "    if(par==1){\n",
    "         plot(lambda,posterior/sum(posterior*interval_width),col=\"blue\",xlim=c(0.4,0.9),type=\"l\",xlab=\"Lambda\",\n",
    "             ylab=\"probability function\",main=\"Using Uniform Prior \")\n",
    "        \n",
    "        grid(nx = NULL, ny = NULL, col = \"darkgray\", lty = \"dotted\")\n",
    "        abline(v=mean_posterior, col=\"gray40\", lty=2)\n",
    "        abline(v=mean_posterior+sqrt(var_posterior), col=\"chocolate\", lty=2)\n",
    "        abline(v=mean_posterior-sqrt(var_posterior), col=\"red\", lty=2)\n",
    "        legend(0.8,8, c(\"µ\", \"µ+s\", \"µ-s\"), \n",
    "           col=c(\"gray40\",\"chocolate\",\"red\"), \n",
    "           lty= c(\"dashed\",\"dashed\",\"dashed\"),\n",
    "           lwd = c(2,2,2) )\n",
    "                }\n",
    "    else if(par==1/2){\n",
    "         plot(lambda,posterior/sum(posterior*interval_width),col=\"blue\",\n",
    "                      type=\"l\",xlab=\"Lambda\",ylab=\"probability function\",main=\"Using Jeffrey Prior \")\n",
    "         grid(nx = NULL, ny = NULL, col = \"darkgray\", lty = \"dotted\")\n",
    "         abline(v=mean_posterior, col=\"gray40\", lty=2)\n",
    "         abline(v=mean_posterior+sqrt(var_posterior), col=\"chocolate\", lty=2)\n",
    "         abline(v=mean_posterior-sqrt(var_posterior), col=\"red\", lty=2)\n",
    "        legend(0.8,15, c(\"µ\", \"µ+s\", \"µ-s\"), \n",
    "           col=c(\"gray40\",\"chocolate\",\"red\"), \n",
    "           lty= c(\"dashed\",\"dashed\",\"dashed\"),\n",
    "           lwd = c(2,2,2) )\n",
    "    }\n",
    "    \n",
    "    }"
   ]
  },
  {
   "cell_type": "code",
   "execution_count": 6,
   "id": "surrounded-export",
   "metadata": {},
   "outputs": [
    {
     "name": "stdout",
     "output_type": "stream",
     "text": [
      "The mean value is 0.6645833 \n",
      "The median value is 0.663889 \n",
      "The variance value is 0.001384549 \n",
      " The 95% credibility intervall is [ 0.5936468 , 0.7394654 ]"
     ]
    },
    {
     "data": {
      "image/png": "[encoded data removed]",
      "text/plain": [
       "Plot with title \"Using Uniform Prior \""
      ]
     },
     "metadata": {},
     "output_type": "display_data"
    }
   ],
   "source": [
    "unif_lambda<-seq(0,1,length=1e3) \n",
    "interval_width<-1/(length(unif_lambda)-1)\n",
    "graphs(unif_lambda,interval_width,par=1)"
   ]
  },
  {
   "cell_type": "markdown",
   "id": "wired-functionality",
   "metadata": {},
   "source": [
    "### (b) assuming now a Jeffreys’ prior,\n",
    "### g(λ) ∝ 1/√λ , with λ > 0\n",
    "### compute and plot the posterior distribution for λ, the death rate over the measurement time.\n",
    "### Determine the posterior mean, median and variance, and compute the 95% credibility interval.\n"
   ]
  },
  {
   "cell_type": "code",
   "execution_count": 7,
   "id": "competent-timer",
   "metadata": {},
   "outputs": [
    {
     "name": "stdout",
     "output_type": "stream",
     "text": [
      "The mean value is 0.6635417 \n",
      "The median value is 0.6628474 \n",
      "The variance value is 0.001382378 \n",
      " The 95% credibility intervall is [ 0.5926624 , 0.7383665 ]"
     ]
    },
    {
     "data": {
      "image/png": "[encoded data removed]",
      "text/plain": [
       "Plot with title \"Using Jeffrey Prior \""
      ]
     },
     "metadata": {},
     "output_type": "display_data"
    }
   ],
   "source": [
    "jeffrey_lambda<-1/sqrt(seq(10,1,length=1e3) )\n",
    "\n",
    "interval_width<-(max(jeffrey_lambda)-min(jeffrey_lambda) )/(length(jeffrey_lambda)-1)\n",
    "graphs(jeffrey_lambda,interval_width,par=1/2)"
   ]
  },
  {
   "cell_type": "markdown",
   "id": "suitable-soviet",
   "metadata": {},
   "source": [
    "## Exercise 3"
   ]
  },
  {
   "cell_type": "markdown",
   "id": "fifth-resident",
   "metadata": {},
   "source": [
    "###  - A study on water quality of streams, a high level of bacter X was defined as a level greater than 100 per 100 ml of stream water. n = 116 samples were taken from streams having a high environmental impact on pandas. Out of these, y = 11 had a high bacter X level.\n",
    "### - indicating with p the probability that a sample of water taken from the stream has a high bacter X level"
   ]
  },
  {
   "cell_type": "markdown",
   "id": "subsequent-third",
   "metadata": {},
   "source": [
    "### (a) find the frequentist estimator for p"
   ]
  },
  {
   "cell_type": "code",
   "execution_count": 8,
   "id": "dried-chicken",
   "metadata": {},
   "outputs": [
    {
     "name": "stdout",
     "output_type": "stream",
     "text": [
      "The frequentist estimator p will be simple mean 0.09482759"
     ]
    }
   ],
   "source": [
    "y<-11\n",
    "n<-116\n",
    "p<-y/n\n",
    "cat(\"The frequentist estimator p will be simple mean\",p)"
   ]
  },
  {
   "cell_type": "markdown",
   "id": "important-franchise",
   "metadata": {},
   "source": [
    "###  (b) using a Beta(1; 10) prior for p, calculate and posterior distribution P(p|y)"
   ]
  },
  {
   "cell_type": "markdown",
   "id": "stainless-wonder",
   "metadata": {},
   "source": [
    "### (c) find the bayesian estimator for p, the posterior mean and variance, and a 95% credible interval"
   ]
  },
  {
   "cell_type": "code",
   "execution_count": 9,
   "id": "focal-denmark",
   "metadata": {},
   "outputs": [
    {
     "name": "stdout",
     "output_type": "stream",
     "text": [
      "The mean value and best bayesian estimator is 0.09448819 \n",
      "The variance posterior is 0.0006684388 \n",
      "Lower bound is 0.05018522 upper_bound 0.1508379"
     ]
    },
    {
     "data": {
      "image/png": "[encoded data removed]",
      "text/plain": [
       "Plot with title \"Posterior\""
      ]
     },
     "metadata": {},
     "output_type": "display_data"
    }
   ],
   "source": [
    "p<-seq(0,1,length=1e3)\n",
    "interval_width<-1/(length(p)-1)\n",
    "\n",
    "alpha_prior<-1\n",
    "beta_prior<-10\n",
    "\n",
    "prior<-dbeta(x=p,alpha_prior,beta_prior)\n",
    "\n",
    "alpha_posterior<-alpha_prior+y\n",
    "beta_posterior<-beta_prior+n-y\n",
    "\n",
    "posterior<-dbeta(x=p,alpha_posterior,beta_posterior)\n",
    "\n",
    "lower_bound<-qbeta(0.025,alpha_posterior,beta_posterior)\n",
    "\n",
    "upper_bound<-qbeta(0.975,alpha_posterior,beta_posterior)\n",
    "\n",
    "mean_posterior<-mean_var(alpha_posterior,beta_posterior)[1]\n",
    "\n",
    "var_posterior<-mean_var(alpha_posterior,beta_posterior)[2]\n",
    "\n",
    "plot(x,posterior/sum(posterior*interval_width),col=\"blue\",xlim=c(0,0.22),type=\"l\",lwd=2,\n",
    "    ylab=\"probability distribution\",xlab=\"p-parameter\",main=\"Posterior\")\n",
    "grid(nx = NULL, ny = NULL, col = \"darkgray\", lty = \"dotted\")\n",
    "abline(v=mean_posterior, col=\"gray40\", lty=2)\n",
    "abline(v=mean_posterior+sqrt(var_posterior), col=\"chocolate\", lty=2)\n",
    "abline(v=mean_posterior-sqrt(var_posterior), col=\"red\", lty=2)\n",
    "legend(0.15,10, c(\"µ\", \"µ+s\", \"µ-s\"), \n",
    "       col=c(\"gray40\",\"chocolate\",\"red\"), \n",
    "       lty= c(\"dashed\",\"dashed\",\"dashed\"),\n",
    "       lwd = c(2,2,2) )\n",
    "\n",
    "cat(\"The mean value and best bayesian estimator is\",mean_posterior,\"\\n\")\n",
    "cat(\"The variance posterior is\",var_posterior,\"\\n\")\n",
    "cat(\"Lower bound is\",lower_bound,\"upper_bound\",upper_bound)\n"
   ]
  },
  {
   "cell_type": "markdown",
   "id": "configured-positive",
   "metadata": {},
   "source": [
    "### (d) test the hypotesis Ho : p = 0.1 versus H1 : p  $\\neq$ 0.1 \n",
    "### at 5% level of significance with both the frequentist and bayesian approach"
   ]
  },
  {
   "cell_type": "code",
   "execution_count": 10,
   "id": "bearing-height",
   "metadata": {},
   "outputs": [
    {
     "name": "stdout",
     "output_type": "stream",
     "text": [
      "Hypothesis test cannot be rejected"
     ]
    }
   ],
   "source": [
    "#frequentist\n",
    "f_test<-binom.test(x=y, n=n, p = 0.10,\n",
    "           alternative = \"two.sided\",  #alternative hypothesis \n",
    "           conf.level = 0.95)\n",
    "\n",
    "if(f_test$p.value<0.05){\n",
    "    cat(\"Hypothesis test can be rejected\")}else{\n",
    "    cat(\"Hypothesis test cannot be rejected\")}\n"
   ]
  },
  {
   "cell_type": "code",
   "execution_count": 11,
   "id": "major-vanilla",
   "metadata": {},
   "outputs": [
    {
     "name": "stdout",
     "output_type": "stream",
     "text": [
      "Hypothesis test cannot be rejected"
     ]
    }
   ],
   "source": [
    "#bayesian\n",
    "if(lower_bound<0.1 & 0.1<upper_bound){cat(\"Hypothesis test cannot be rejected\")}else{cat(\"Hypothesis test can be rejected\")}"
   ]
  },
  {
   "cell_type": "markdown",
   "id": "competitive-testament",
   "metadata": {},
   "source": [
    "### - a new measurement, performed one month later on n = 165 water samples, gives y = 9 high bacter X level"
   ]
  },
  {
   "cell_type": "markdown",
   "id": "aging-tracker",
   "metadata": {},
   "source": [
    "### (e) find the frequentist estimator for p"
   ]
  },
  {
   "cell_type": "code",
   "execution_count": 12,
   "id": "chronic-midnight",
   "metadata": {},
   "outputs": [
    {
     "name": "stdout",
     "output_type": "stream",
     "text": [
      "The frequentist estimator p will be simple mean 0.05454545"
     ]
    }
   ],
   "source": [
    "y<-9\n",
    "n<-165\n",
    "p<-y/n\n",
    "cat(\"The frequentist estimator p will be simple mean\",p)"
   ]
  },
  {
   "cell_type": "markdown",
   "id": "subsequent-punishment",
   "metadata": {},
   "source": [
    "### (f) find a bayesian estimator for p, assuming both a Beta(1; 10) prior for p, and assuming the posterior probability of the older measurement as the prior for the new one."
   ]
  },
  {
   "cell_type": "markdown",
   "id": "tender-invite",
   "metadata": {},
   "source": [
    "### (g) find the bayesian estimator for p, the posterior mean and variance, and a 95% credible interval"
   ]
  },
  {
   "cell_type": "code",
   "execution_count": 13,
   "id": "resistant-washington",
   "metadata": {},
   "outputs": [
    {
     "name": "stdout",
     "output_type": "stream",
     "text": [
      "Starting from prior Beta(1,10):\n",
      "the mean is 0.05681818 \n",
      "The variance is 0.0003027677 \n",
      "Lower bound 0.02773918 and upper bound 0.09538012 \n",
      "Starting from posterior Beta( 12 , 115 ):\n",
      "The mean is 0.07191781 \n",
      "The variance is 0.0002278008 \n",
      "Lower bound 0.04522356 and upper bound 0.1041519"
     ]
    }
   ],
   "source": [
    "p<-seq(0,1,length=1e3)\n",
    "interval_width<-1/(length(p)-1)\n",
    "\n",
    "new_alpha_posterior_from_prior<-alpha_prior+y\n",
    "new_beta_posterior_from_prior<-beta_prior+n-y\n",
    "\n",
    "new_posterior_from_prior<-dbeta(x=p,new_alpha_posterior_from_prior,new_beta_posterior_from_prior)\n",
    "\n",
    "mean_post_from_prior<-mean_var(new_alpha_posterior_from_prior,new_beta_posterior_from_prior)[1]\n",
    "\n",
    "var_post_from_prior<-mean_var(new_alpha_posterior_from_prior,new_beta_posterior_from_prior)[2]\n",
    "\n",
    "cat(\"Starting from prior Beta(1,10):\\n\")\n",
    "cat(\"the mean is\",mean_post_from_prior,\"\\n\")\n",
    "cat(\"The variance is\",var_post_from_prior,\"\\n\")\n",
    "\n",
    "lower_bound_from_prior<-qbeta(0.025,new_alpha_posterior_from_prior,new_beta_posterior_from_prior)\n",
    "\n",
    "upper_bound_from_prior<-qbeta(0.975,new_alpha_posterior_from_prior,new_beta_posterior_from_prior)\n",
    "\n",
    "cat(\"Lower bound\",lower_bound_from_prior,\"and upper bound\",upper_bound_from_prior,\"\\n\")\n",
    "\n",
    "new_alpha_posterior_from_posterior<-alpha_posterior+y\n",
    "new_beta_posterior_from_posterior<-beta_posterior+n-y\n",
    "\n",
    "new_posterior_from_posterior<-dbeta(x=p,new_alpha_posterior_from_posterior,new_beta_posterior_from_posterior)\n",
    "\n",
    "mean_post_from_post<-mean_var(new_alpha_posterior_from_posterior,new_beta_posterior_from_posterior)[1]\n",
    "\n",
    "var_post_from_post<-mean_var(new_alpha_posterior_from_posterior,new_beta_posterior_from_posterior)[2]\n",
    "\n",
    "cat(\"Starting from posterior Beta(\",alpha_posterior,\",\",beta_posterior,\"):\\n\")\n",
    "cat(\"The mean is\",mean_post_from_post,\"\\n\")\n",
    "cat(\"The variance is\",var_post_from_post,\"\\n\")\n",
    "\n",
    "lower_bound_from_posterior<-qbeta(0.025,new_alpha_posterior_from_posterior,new_beta_posterior_from_posterior)\n",
    "\n",
    "upper_bound_from_posterior<-qbeta(0.975,new_alpha_posterior_from_posterior,new_beta_posterior_from_posterior)\n",
    "\n",
    "cat(\"Lower bound\",lower_bound_from_posterior,\"and upper bound\",upper_bound_from_posterior)"
   ]
  },
  {
   "cell_type": "markdown",
   "id": "appreciated-decimal",
   "metadata": {},
   "source": [
    "### (h) test the hypotesis  Ho : p = 0.1 versus H1 : p$\\neq$0.1 at 5% level of significance with both the frequentist and bayesian approach"
   ]
  },
  {
   "cell_type": "code",
   "execution_count": 14,
   "id": "wrapped-rocket",
   "metadata": {},
   "outputs": [
    {
     "name": "stdout",
     "output_type": "stream",
     "text": [
      "Hypothesis test cannot be rejected"
     ]
    }
   ],
   "source": [
    "#frequentist\n",
    "f_test<-binom.test(x=y, n=n, p = 0.10,\n",
    "           alternative = \"two.sided\",  #alternative hypothesis \n",
    "           conf.level = 0.95)\n",
    "\n",
    "if(f_test$p.value<0.05){\n",
    "    cat(\"Hypothesis test can be rejected\")}else{\n",
    "    cat(\"Hypothesis test cannot be rejected\")}"
   ]
  },
  {
   "cell_type": "code",
   "execution_count": 15,
   "id": "higher-camel",
   "metadata": {},
   "outputs": [
    {
     "name": "stdout",
     "output_type": "stream",
     "text": [
      "Hypothesis test cannot be rejected"
     ]
    }
   ],
   "source": [
    "#bayesian\n",
    "if(lower_bound_from_posterior<0.1 & 0.1<upper_bound_from_posterior){cat(\"Hypothesis test cannot be rejected\")}else{cat(\"Hypothesis test can be rejected\")}"
   ]
  },
  {
   "cell_type": "code",
   "execution_count": 16,
   "id": "political-carry",
   "metadata": {},
   "outputs": [],
   "source": [
    "f<-function(a){\n",
    "    v<-seq(1,a,length=79)\n",
    "\n",
    "pari<-c()\n",
    "for(i in v){\n",
    "    \n",
    "    if (i%%2==0){\n",
    "     \n",
    "     pari<-c(pari,i)\n",
    "   }\n",
    "}\n",
    "\n",
    "    return(pari)\n",
    "    }"
   ]
  },
  {
   "cell_type": "code",
   "execution_count": 17,
   "id": "f01088b8",
   "metadata": {},
   "outputs": [
    {
     "data": {
      "text/html": [
       "<pre class=language-r><code>function (a) \n",
       "NULL</code></pre>"
      ],
      "text/latex": [
       "\\begin{minted}{r}\n",
       "function (a) \n",
       "NULL\n",
       "\\end{minted}"
      ],
      "text/markdown": [
       "```r\n",
       "function (a) \n",
       "NULL\n",
       "```"
      ],
      "text/plain": [
       "function (a) \n",
       "NULL"
      ]
     },
     "metadata": {},
     "output_type": "display_data"
    }
   ],
   "source": [
    "args(f)"
   ]
  },
  {
   "cell_type": "code",
   "execution_count": 18,
   "id": "9dad1af9",
   "metadata": {},
   "outputs": [
    {
     "data": {
      "text/html": [
       "FALSE"
      ],
      "text/latex": [
       "FALSE"
      ],
      "text/markdown": [
       "FALSE"
      ],
      "text/plain": [
       "[1] FALSE"
      ]
     },
     "metadata": {},
     "output_type": "display_data"
    }
   ],
   "source": [
    "is.integer(3/2)"
   ]
  }
 ],
 "metadata": {
  "kernelspec": {
   "display_name": "R",
   "language": "R",
   "name": "ir"
  },
  "language_info": {
   "codemirror_mode": "r",
   "file_extension": ".r",
   "mimetype": "text/x-r-source",
   "name": "R",
   "pygments_lexer": "r",
   "version": "3.5.1"
  }
 },
 "nbformat": 4,
 "nbformat_minor": 5
}
