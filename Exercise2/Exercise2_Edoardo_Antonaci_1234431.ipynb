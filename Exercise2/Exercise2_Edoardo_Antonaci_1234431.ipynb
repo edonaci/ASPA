{
 "cells": [
  {
   "cell_type": "markdown",
   "id": "divided-resident",
   "metadata": {},
   "source": [
    "#                                       Edoardo Antonaci 1234431"
   ]
  },
  {
   "cell_type": "markdown",
   "id": "elementary-personality",
   "metadata": {},
   "source": [
    "## Exercise 1 "
   ]
  },
  {
   "cell_type": "markdown",
   "id": "advanced-pursuit",
   "metadata": {},
   "source": [
    "### 1) Evaluate the expected values, E[X], and the variance, Var(X), for both methods"
   ]
  },
  {
   "cell_type": "code",
   "execution_count": 2,
   "id": "residential-military",
   "metadata": {},
   "outputs": [
    {
     "data": {
      "text/html": [
       "<table>\n",
       "<thead><tr><th scope=col>x</th><th scope=col>p1</th><th scope=col>p2</th><th scope=col>E1_x</th><th scope=col>E2_x</th><th scope=col>E1_x_square</th><th scope=col>E2_x_square</th></tr></thead>\n",
       "<tbody>\n",
       "\t<tr><td>15.58   </td><td>0.15    </td><td>0.14    </td><td>2.337   </td><td> 2.1812 </td><td>36.41046</td><td> 33.9831</td></tr>\n",
       "\t<tr><td>15.90   </td><td>0.21    </td><td>0.05    </td><td>3.339   </td><td> 0.7950 </td><td>53.09010</td><td> 12.6405</td></tr>\n",
       "\t<tr><td>16.00   </td><td>0.35    </td><td>0.64    </td><td>5.600   </td><td>10.2400 </td><td>89.60000</td><td>163.8400</td></tr>\n",
       "\t<tr><td>16.10   </td><td>0.15    </td><td>0.08    </td><td>2.415   </td><td> 1.2880 </td><td>38.88150</td><td> 20.7368</td></tr>\n",
       "\t<tr><td>16.20   </td><td>0.14    </td><td>0.09    </td><td>2.268   </td><td> 1.4580 </td><td>36.74160</td><td> 23.6196</td></tr>\n",
       "</tbody>\n",
       "</table>\n"
      ],
      "text/latex": [
       "\\begin{tabular}{r|lllllll}\n",
       " x & p1 & p2 & E1\\_x & E2\\_x & E1\\_x\\_square & E2\\_x\\_square\\\\\n",
       "\\hline\n",
       "\t 15.58    & 0.15     & 0.14     & 2.337    &  2.1812  & 36.41046 &  33.9831\\\\\n",
       "\t 15.90    & 0.21     & 0.05     & 3.339    &  0.7950  & 53.09010 &  12.6405\\\\\n",
       "\t 16.00    & 0.35     & 0.64     & 5.600    & 10.2400  & 89.60000 & 163.8400\\\\\n",
       "\t 16.10    & 0.15     & 0.08     & 2.415    &  1.2880  & 38.88150 &  20.7368\\\\\n",
       "\t 16.20    & 0.14     & 0.09     & 2.268    &  1.4580  & 36.74160 &  23.6196\\\\\n",
       "\\end{tabular}\n"
      ],
      "text/markdown": [
       "\n",
       "| x | p1 | p2 | E1_x | E2_x | E1_x_square | E2_x_square |\n",
       "|---|---|---|---|---|---|---|\n",
       "| 15.58    | 0.15     | 0.14     | 2.337    |  2.1812  | 36.41046 |  33.9831 |\n",
       "| 15.90    | 0.21     | 0.05     | 3.339    |  0.7950  | 53.09010 |  12.6405 |\n",
       "| 16.00    | 0.35     | 0.64     | 5.600    | 10.2400  | 89.60000 | 163.8400 |\n",
       "| 16.10    | 0.15     | 0.08     | 2.415    |  1.2880  | 38.88150 |  20.7368 |\n",
       "| 16.20    | 0.14     | 0.09     | 2.268    |  1.4580  | 36.74160 |  23.6196 |\n",
       "\n"
      ],
      "text/plain": [
       "  x     p1   p2   E1_x  E2_x    E1_x_square E2_x_square\n",
       "1 15.58 0.15 0.14 2.337  2.1812 36.41046     33.9831   \n",
       "2 15.90 0.21 0.05 3.339  0.7950 53.09010     12.6405   \n",
       "3 16.00 0.35 0.64 5.600 10.2400 89.60000    163.8400   \n",
       "4 16.10 0.15 0.08 2.415  1.2880 38.88150     20.7368   \n",
       "5 16.20 0.14 0.09 2.268  1.4580 36.74160     23.6196   "
      ]
     },
     "metadata": {},
     "output_type": "display_data"
    },
    {
     "name": "stdout",
     "output_type": "stream",
     "text": [
      "The E[x] for the first method is 15.959 for the second one  15.9622 \n",
      "The Var[x] for the first method is 0.033979 for the second one 0.02816716"
     ]
    }
   ],
   "source": [
    "library(\"tidyverse\")\n",
    "cont_water<-data.frame(x=c(15.58,15.9,16,16.1,16.2),\n",
    "                       p1=c(0.15,0.21,0.35,0.15,0.14),\n",
    "                       p2=c(0.14,0.05,0.64,0.08,0.09)\n",
    "                       )\n",
    "cont_water<-mutate(cont_water,E1_x=x*p1,E2_x=x*p2,E1_x_square=p1*x*x,E2_x_square=p2*x*x)\n",
    "\n",
    "cont_water\n",
    "\n",
    "cat(\"The E[x] for the first method is\",sum(cont_water$E1_x),\"for the second one \",sum(cont_water$E2_x),\"\\n\")\n",
    "cat(\"The Var[x] for the first method is\",sum(cont_water$E1_x_square)-sum(cont_water$E1_x)^2,\n",
    "    \"for the second one\",sum(cont_water$E2_x_square)-sum(cont_water$E2_x)^2)"
   ]
  },
  {
   "cell_type": "markdown",
   "id": "welcome-round",
   "metadata": {},
   "source": [
    "## Exercise 2"
   ]
  },
  {
   "cell_type": "markdown",
   "id": "arabic-world",
   "metadata": {},
   "source": [
    "### A) simulate the waiting time for 50 people at the doctor’s office and plot the relative histogram\n"
   ]
  },
  {
   "cell_type": "code",
   "execution_count": 2,
   "id": "demographic-mountain",
   "metadata": {},
   "outputs": [
    {
     "data": {
      "image/png": "[encoded data removed]",
      "text/plain": [
       "Plot with title \"\""
      ]
     },
     "metadata": {},
     "output_type": "display_data"
    }
   ],
   "source": [
    "lambda <- 1.0/30 #rate\n",
    "n_people <- 50\n",
    "set.seed(1234431)\n",
    "x <- rexp(n = n_people, rate =lambda)\n",
    "hm <− hist ( x, col= \"coral\" , xlab = \"waiting time\", breaks=30, main = \"\")"
   ]
  },
  {
   "cell_type": "markdown",
   "id": "entire-whole",
   "metadata": {},
   "source": [
    "### B) what is the probability that a person will wait for less than 10 minutes ?"
   ]
  },
  {
   "cell_type": "code",
   "execution_count": 3,
   "id": "responsible-federation",
   "metadata": {},
   "outputs": [
    {
     "name": "stdout",
     "output_type": "stream",
     "text": [
      "P(X<10) : 0.2834687"
     ]
    }
   ],
   "source": [
    "cat(\"P(X<10) :\",pexp(10,lambda))"
   ]
  },
  {
   "cell_type": "markdown",
   "id": "inside-soldier",
   "metadata": {},
   "source": [
    "### C) evaluate the average waiting time from the simulated data and compare it with the expected value (calculated from theory and by manipulating the probability distributions using R)\n"
   ]
  },
  {
   "cell_type": "code",
   "execution_count": 4,
   "id": "broad-dividend",
   "metadata": {},
   "outputs": [
    {
     "name": "stdout",
     "output_type": "stream",
     "text": [
      "the rate from histogram is  27.94597 \n",
      "the rate from theory is 30"
     ]
    }
   ],
   "source": [
    "average<-mean(x)\n",
    "\n",
    "cat(\"the rate from histogram is \",average,\n",
    "    \"\\nthe rate from theory is\",30\n",
    "     )"
   ]
  },
  {
   "cell_type": "markdown",
   "id": "automatic-technology",
   "metadata": {},
   "source": [
    "### D) what is the probability for waiting more than one hour before being received ?\n"
   ]
  },
  {
   "cell_type": "code",
   "execution_count": 5,
   "id": "minimal-elder",
   "metadata": {},
   "outputs": [
    {
     "name": "stdout",
     "output_type": "stream",
     "text": [
      "P(X>60) =  0.1353353"
     ]
    }
   ],
   "source": [
    "cat(\"P(X>60) = \",1-pexp(60,lambda))"
   ]
  },
  {
   "cell_type": "markdown",
   "id": "reduced-heavy",
   "metadata": {},
   "source": [
    "## Exercise 3"
   ]
  },
  {
   "cell_type": "markdown",
   "id": "equivalent-convertible",
   "metadata": {},
   "source": [
    "### • let’s suppose that on a book, on average, there is one typo error every three pages. If the number of errors follows a Poisson distribution, plot the pdf and cdf, and calculate the probability that there is at least one error on a specific page of the book\n"
   ]
  },
  {
   "cell_type": "code",
   "execution_count": 6,
   "id": "future-category",
   "metadata": {},
   "outputs": [
    {
     "data": {
      "image/png": "[encoded data removed]",
      "text/plain": [
       "plot without title"
      ]
     },
     "metadata": {},
     "output_type": "display_data"
    }
   ],
   "source": [
    "rate<-1.0/3\n",
    "n<-100000\n",
    "set.seed(1234431)\n",
    "\n",
    "events<-rpois(n=n,lambda=rate)\n",
    "poisson_process<-as.data.frame(table(events),FactorsAsString=TRUE)\n",
    "\n",
    "errors<-as.numeric(poisson_process$events)-1\n",
    "prob<-as.numeric(poisson_process$Freq)/n\n",
    "\n",
    "par(mfrow=c(2,1))\n",
    "plot(x=errors,y=prob,type=\"b\",col=\"blue\",\n",
    "     xlab=\"k errors\", ylab=\"P(n=k errors)\" )\n",
    "grid(nx = NULL, ny = NULL, col = \"darkgray\", lty = \"dotted\")\n",
    "\n",
    "cum_dist<-ppois(q=errors, lambda=rate, lower.tail = TRUE, log.p = FALSE)\n",
    "plot(x=errors,y=cum_dist,type=\"b\",col=\"darkblue\", xlab=\"k errors\", ylab=\"P(errors <= k errors)\" )\n",
    "grid(nx = NULL, ny = NULL, col = \"darkgray\", lty = \"dotted\")\n"
   ]
  },
  {
   "cell_type": "code",
   "execution_count": 7,
   "id": "answering-teens",
   "metadata": {},
   "outputs": [
    {
     "name": "stdout",
     "output_type": "stream",
     "text": [
      "P(errors >= 1)  = 0.04462492"
     ]
    }
   ],
   "source": [
    "cat(\"P(errors >= 1)  =\",1-ppois(q=1,lambda=rate))"
   ]
  },
  {
   "cell_type": "markdown",
   "id": "second-thomson",
   "metadata": {},
   "source": [
    "## Exercise 4"
   ]
  },
  {
   "cell_type": "markdown",
   "id": "innovative-rochester",
   "metadata": {},
   "source": [
    "### • we randomly draw cards from a deck of 52 cards, with replacement, until one ace is drawn. Calculate the probability that at least 10 draws are needed."
   ]
  },
  {
   "cell_type": "code",
   "execution_count": 8,
   "id": "serious-label",
   "metadata": {},
   "outputs": [
    {
     "name": "stdout",
     "output_type": "stream",
     "text": [
      "If we need at least 10 draws,it means that we failure for 9 times : P(# trials > 9) = 0.1485109"
     ]
    }
   ],
   "source": [
    "n_cards <- 52\n",
    "n_aces <- 4\n",
    "p <- pbinom(q=1,size= 9, prob=n_aces/n_cards, lower.tail = FALSE, log.p = FALSE)\n",
    "\n",
    "cat(\"If we need at least 10 draws,it means that we failure for 9 times : P(# trials > 9) =\" ,p)"
   ]
  },
  {
   "cell_type": "markdown",
   "id": "polyphonic-lighting",
   "metadata": {},
   "source": [
    "## Exercise 5"
   ]
  },
  {
   "cell_type": "markdown",
   "id": "delayed-viewer",
   "metadata": {},
   "source": [
    "### • the time it takes a student to complete a TOLC-I University orientation and evaluation test follows a density function of the form :\n",
    "### f(X) = ( c(t − 1)(2 − t) 1 < t < 2,    0 otherwise   )\n",
    "### where t is the time in hours"
   ]
  },
  {
   "cell_type": "markdown",
   "id": "extreme-parade",
   "metadata": {},
   "source": [
    "### a) using the integrate() R function, determine the constant c (and verify it analytically)"
   ]
  },
  {
   "cell_type": "code",
   "execution_count": 9,
   "id": "opposed-elimination",
   "metadata": {},
   "outputs": [
    {
     "name": "stdout",
     "output_type": "stream",
     "text": [
      "The integral will be  0.1666667 \n",
      "The normalization constant c will be  6"
     ]
    }
   ],
   "source": [
    "time_taken<-function(t,c=1){ return(c*(t-1)*(2-t)) }\n",
    "I<-integrate(time_taken,1,2)$value\n",
    "\n",
    "cat(\"The integral will be \",I,\"\\n\")\n",
    "\n",
    "c_norm<-1.0/I\n",
    "cat(\"The normalization constant c will be \",c_norm)\n",
    "\n",
    "\n"
   ]
  },
  {
   "cell_type": "code",
   "execution_count": 10,
   "id": "silver-chemistry",
   "metadata": {},
   "outputs": [
    {
     "data": {
      "text/plain": [
       "1 with absolute error < 1.1e-14"
      ]
     },
     "metadata": {},
     "output_type": "display_data"
    }
   ],
   "source": [
    "integrate(time_taken,1,2,c=c_norm )"
   ]
  },
  {
   "cell_type": "markdown",
   "id": "through-arthritis",
   "metadata": {},
   "source": [
    "### b) write the set of four R functions and plot the pdf and cdf, respectively"
   ]
  },
  {
   "cell_type": "code",
   "execution_count": 11,
   "id": "amateur-survey",
   "metadata": {},
   "outputs": [],
   "source": [
    "\n",
    "#density\n",
    "pdf<-function(t,c=c_norm){\n",
    "   f<-c()\n",
    "    for (i in 1:length(t) ) {\n",
    "        if(t[i]>1 & t[i]<2){\n",
    "            f<-c( f,c*(t[i]-1)*(2-t[i]) )} else  { \n",
    "        f<-c(f,0)}\n",
    "    }\n",
    "    return(f)\n",
    "}\n",
    "\n",
    "#cumulative\n",
    "cdf<-function(t,x,pdf=parent.frame()$pdf) {\n",
    "    dx<-t[2]-t[1]\n",
    "    \n",
    "    if(x>=2){\n",
    "    return(1)\n",
    "    }\n",
    "    \n",
    "    cum<-c(dx*pdf(t=t)[1:which(t==x) ] ) \n",
    "    \n",
    "    if(x<2){\n",
    "    return(sum(cum))\n",
    "    }\n",
    "\n",
    "}\n",
    "\n",
    "#quantile\n",
    "qdf<-function(t,q,cdf=parent.frame()$cdf,pdf=parent.frame()$pdf){\n",
    "    i<-1\n",
    "    P<-0\n",
    "    \n",
    "    if(q>1){\n",
    "        return(cat('q must be less or equal than 1 !') )\n",
    "        break\n",
    "    }\n",
    "    \n",
    "    if(q<1){\n",
    "        while(P<q){\n",
    "            i<-i+1\n",
    "            P<-cdf(t=t,x=t[i])\n",
    "\n",
    "        }\n",
    "        return(t[i])\n",
    "        }\n",
    "    if(q==1){\n",
    "        return(2)\n",
    "    }\n",
    "    \n",
    "    \n",
    "}   \n",
    "\n",
    "#generation numbers\n",
    "\n",
    "rdf<-function(a,b,n,M=time_taken(t=3.0/2,c=c_norm) ){\n",
    "    r_numb<-c()\n",
    "    \n",
    "    while(length(r_numb)<n){\n",
    "    r1<-runif(n=1)\n",
    "    r2<-runif(n=1)\n",
    "        \n",
    "    x1<-a+(b-a)*r1\n",
    "    y<-M*r2\n",
    "    \n",
    "    if( y<=time_taken(t=x1,c=c_norm) ){\n",
    "        r_numb<-c(r_numb,x1)\n",
    "    }\n",
    "        \n",
    "    }\n",
    "    \n",
    "    return(r_numb)\n",
    "}\n"
   ]
  },
  {
   "cell_type": "code",
   "execution_count": 12,
   "id": "mounted-roots",
   "metadata": {},
   "outputs": [
    {
     "data": {
      "image/png": "[encoded data removed]",
      "text/plain": [
       "Plot with title \"PDF\""
      ]
     },
     "metadata": {},
     "output_type": "display_data"
    },
    {
     "data": {
      "image/png": "[encoded data removed]",
      "text/plain": [
       "Plot with title \"CDF\""
      ]
     },
     "metadata": {},
     "output_type": "display_data"
    }
   ],
   "source": [
    "t<-seq(0.5,2.5,length=30)\n",
    "plot(t,pdf(t=t),type=\"b\",col=\"green\",,xlab=\"time\",ylab=\"f(t)\",main=\"PDF\")\n",
    "grid(nx = NULL, ny = NULL, col = \"darkgray\", lty = \"dotted\")\n",
    "\n",
    "\n",
    "prob<-c()\n",
    "for (i in 1:length(t)){\n",
    "    prob<-c(prob,cdf(t=t,x=t[i]))\n",
    "}\n",
    "plot(t,prob,type=\"b\",col=\"blue\",,xlab=\"time\",ylab=\"P(t)\",main=\"CDF\")\n",
    "grid(nx = NULL, ny = NULL, col = \"darkgray\", lty = \"dotted\")\n",
    "\n"
   ]
  },
  {
   "cell_type": "markdown",
   "id": "sudden-garage",
   "metadata": {},
   "source": [
    "### c) evaluate the probability that the student will finish the aptitude test in more than75 minutes. And that it will take 90 and 120 minutes."
   ]
  },
  {
   "cell_type": "code",
   "execution_count": 13,
   "id": "detailed-breath",
   "metadata": {},
   "outputs": [
    {
     "name": "stdout",
     "output_type": "stream",
     "text": [
      "A student will finish the test in more than 75 minutes with probability 0.8436938 \n",
      "A student will finish the test between 90 and 120 minutes with probability 0.499925"
     ]
    }
   ],
   "source": [
    "t<-seq(1,2,0.0001)\n",
    "\n",
    "cat(\"A student will finish the test in more than 75 minutes with probability\",1-cdf(t=t,x=1.25),\"\\n\" )\n",
    "\n",
    "cat(\"A student will finish the test between 90 and 120 minutes with probability\",cdf(t=t,x=2)-cdf(t=t,x=1.5) )"
   ]
  },
  {
   "cell_type": "markdown",
   "id": "cultural-second",
   "metadata": {},
   "source": [
    "## Exercise 6"
   ]
  },
  {
   "cell_type": "markdown",
   "id": "adjusted-argument",
   "metadata": {},
   "source": [
    "### • the lifetime of tires sold by an used tires shop is 10<sup>4</sup> ·x km, where x is a random variable following the distribution funcion"
   ]
  },
  {
   "cell_type": "markdown",
   "id": "departmental-middle",
   "metadata": {},
   "source": [
    "### f(X) = 2/x<sup>2</sup> 1 < x < 2 ,  f(X) =0 otherwise"
   ]
  },
  {
   "cell_type": "code",
   "execution_count": 14,
   "id": "pacific-alpha",
   "metadata": {},
   "outputs": [
    {
     "name": "stdout",
     "output_type": "stream",
     "text": [
      "The pdf of function is normalized?\n"
     ]
    },
    {
     "data": {
      "text/html": [
       "TRUE"
      ],
      "text/latex": [
       "TRUE"
      ],
      "text/markdown": [
       "TRUE"
      ],
      "text/plain": [
       "[1] TRUE"
      ]
     },
     "metadata": {},
     "output_type": "display_data"
    }
   ],
   "source": [
    "life_time<-function(t){ return(2.0/t**2) }\n",
    "cat(\"The pdf of function is normalized?\\n\")\n",
    "1.0-integrate(life_time,1,2)$value<.Machine$double.eps^0.25\n"
   ]
  },
  {
   "cell_type": "code",
   "execution_count": 15,
   "id": "fitted-filing",
   "metadata": {},
   "outputs": [],
   "source": [
    "#density\n",
    "pdf2<-function(t){\n",
    "    f2<-c()\n",
    "    for (i in 1:length(t) ) {\n",
    "        if(t[i]>1 & t[i]<2){\n",
    "            f2<-c( f2,2/(t[i]*t[i] ) )} else  { \n",
    "        f2<-c(f2,0)}\n",
    "    }\n",
    "    return(f2)\n",
    "}\n",
    "\n",
    "#cumulative\n",
    "cdf2<-function(t,x,pdf2=parent.frame()$pdf2) {\n",
    "    dx<-t[2]-t[1]\n",
    "    \n",
    "    if(x>=2){\n",
    "    return(1)\n",
    "    }\n",
    "    \n",
    "    cum<-c(dx*pdf2(t=t)[1:which(t==x) ] ) \n",
    "    \n",
    "    if(x<2){\n",
    "    return(sum(cum))\n",
    "    }\n",
    "\n",
    "}\n",
    "\n",
    "#quantile\n",
    "qdf2<-function(t,q,cdf2=parent.frame()$cdf2,pdf2=parent.frame()$pdf2){\n",
    "    i<-1\n",
    "    P<-0\n",
    "    \n",
    "    if(q>1){\n",
    "        return(cat('q must be less or equal than 1 !') )\n",
    "        break\n",
    "    }\n",
    "    \n",
    "    if(q<1){\n",
    "        while(P<q){\n",
    "            i<-i+1\n",
    "            P<-cdf2(t=t,x=t[i])\n",
    "\n",
    "        }\n",
    "        return(t[i])\n",
    "        }\n",
    "    if(q==1){\n",
    "        return(2)\n",
    "    }\n",
    "    \n",
    "    \n",
    "}   \n",
    "\n",
    "#generation numbers\n",
    "\n",
    "rdf2<-function(a,b,n,M=life_time(t=1) ){\n",
    "    r_numb<-c()\n",
    "    \n",
    "    while(length(r_numb)<n){\n",
    "    \n",
    "    r1<-runif(n=1)\n",
    "    r2<-runif(n=1)\n",
    "        \n",
    "    x1<-a+(b-a)*r1\n",
    "    y<-M*r2\n",
    "    \n",
    "    if( y<=life_time(t=x1) ){\n",
    "        r_numb<-c(r_numb,x1)\n",
    "    }\n",
    "        \n",
    "    }\n",
    "    \n",
    "    return(r_numb)\n",
    "}\n"
   ]
  },
  {
   "cell_type": "code",
   "execution_count": 16,
   "id": "dirty-reasoning",
   "metadata": {},
   "outputs": [
    {
     "data": {
      "image/png": "[encoded data removed]",
      "text/plain": [
       "Plot with title \"PDF\""
      ]
     },
     "metadata": {},
     "output_type": "display_data"
    },
    {
     "data": {
      "image/png": "[encoded data removed]",
      "text/plain": [
       "Plot with title \"CDF\""
      ]
     },
     "metadata": {},
     "output_type": "display_data"
    }
   ],
   "source": [
    "t<-seq(0.5,2.5,0.05)\n",
    "plot(t,pdf2(t=t),type=\"b\",col=\"red\",xlab=\"km[10^4]\",ylab=\"f(km)\",main=\"PDF\")\n",
    "grid(nx = NULL, ny = NULL, col = \"darkgray\", lty = \"dotted\")\n",
    "\n",
    "\n",
    "prob2<-c()\n",
    "for (i in 1:length(t)){\n",
    "    prob2<-c(prob2,cdf2(t=t,x=t[i]))\n",
    "}\n",
    "plot(t,prob2,type=\"b\",col=\"magenta\",xlab=\"km[10^4]\",ylab=\"P(km)\",main=\"CDF\")\n",
    "grid(nx = NULL, ny = NULL, col = \"darkgray\", lty = \"dotted\")"
   ]
  },
  {
   "cell_type": "markdown",
   "id": "intellectual-review",
   "metadata": {},
   "source": [
    "### c) sample 3000 random variables from the distribution and determine the mean valueand the variance, using the expression V ar(X) = E[X<sup>2</sup>] − E[X]<sup>2</sup>\n"
   ]
  },
  {
   "cell_type": "code",
   "execution_count": 17,
   "id": "enhanced-lithuania",
   "metadata": {},
   "outputs": [
    {
     "name": "stdout",
     "output_type": "stream",
     "text": [
      "Tires will last less then 15000 km with probability  0.6666111 \n"
     ]
    }
   ],
   "source": [
    "t<-seq(1,2,0.0001)\n",
    "\n",
    "cat(\"Tires will last less then 15000 km with probability \",cdf2(t=t,x=1.5),\"\\n\" )"
   ]
  },
  {
   "cell_type": "code",
   "execution_count": 18,
   "id": "statutory-spyware",
   "metadata": {},
   "outputs": [
    {
     "name": "stdout",
     "output_type": "stream",
     "text": [
      "The Var(x) of generated numbers is 807.4065 km^2"
     ]
    }
   ],
   "source": [
    "f_generated<-rdf2(1,2,3000)\n",
    "E_x<-mean(f_generated)\n",
    "E_xx<-mean(f_generated**2)\n",
    "Var_x<-E_xx-E_x**2\n",
    "\n",
    "cat(\"The Var(x) of generated numbers is\",Var_x*10^4,\"km^2\")"
   ]
  }
 ],
 "metadata": {
  "kernelspec": {
   "display_name": "R",
   "language": "R",
   "name": "ir"
  },
  "language_info": {
   "codemirror_mode": "r",
   "file_extension": ".r",
   "mimetype": "text/x-r-source",
   "name": "R",
   "pygments_lexer": "r",
   "version": "3.6.1"
  }
 },
 "nbformat": 4,
 "nbformat_minor": 5
}
